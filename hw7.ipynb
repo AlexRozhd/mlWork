{
 "cells": [
  {
   "cell_type": "markdown",
   "metadata": {},
   "source": [
    "### Будем распознавать заглавные латинские буквы  по заданному набору характеристик их изображений, используя три  классификатора :   XGBClassifier, LGBMClassifier и CatBoostClassifier."
   ]
  },
  {
   "cell_type": "code",
   "execution_count": 1,
   "metadata": {},
   "outputs": [],
   "source": [
    "import pandas as pd\n",
    "from sklearn.preprocessing import LabelEncoder\n",
    "from sklearn.model_selection import train_test_split\n",
    "from sklearn.metrics import classification_report\n",
    "from sklearn.model_selection import GridSearchCV\n",
    "from sklearn.model_selection import StratifiedKFold\n",
    "from xgboost import XGBClassifier\n",
    "from catboost import CatBoostClassifier\n",
    "from lightgbm import LGBMClassifier\n",
    "%matplotlib inline"
   ]
  },
  {
   "cell_type": "markdown",
   "metadata": {},
   "source": [
    "## Предобработка"
   ]
  },
  {
   "cell_type": "code",
   "execution_count": 2,
   "metadata": {},
   "outputs": [],
   "source": [
    "data = pd.read_csv(\"letter-recognition.data\", header = None, \n",
    "    names = ['lettr','x-box','y-box', 'width', 'high','onpix','x-bar','y-bar','x2bar','y2bar','xybar','x2ybr',\n",
    "             'xy2br','x-ege','xegvy','y-ege','yegvx'])"
   ]
  },
  {
   "cell_type": "code",
   "execution_count": 3,
   "metadata": {},
   "outputs": [
    {
     "data": {
      "text/plain": [
       "(20000, 17)"
      ]
     },
     "execution_count": 3,
     "metadata": {},
     "output_type": "execute_result"
    }
   ],
   "source": [
    "data.shape"
   ]
  },
  {
   "cell_type": "code",
   "execution_count": 4,
   "metadata": {},
   "outputs": [
    {
     "data": {
      "text/plain": [
       "lettr    object\n",
       "x-box     int64\n",
       "y-box     int64\n",
       "width     int64\n",
       "high      int64\n",
       "onpix     int64\n",
       "x-bar     int64\n",
       "y-bar     int64\n",
       "x2bar     int64\n",
       "y2bar     int64\n",
       "xybar     int64\n",
       "x2ybr     int64\n",
       "xy2br     int64\n",
       "x-ege     int64\n",
       "xegvy     int64\n",
       "y-ege     int64\n",
       "yegvx     int64\n",
       "dtype: object"
      ]
     },
     "execution_count": 4,
     "metadata": {},
     "output_type": "execute_result"
    }
   ],
   "source": [
    "data.dtypes"
   ]
  },
  {
   "cell_type": "code",
   "execution_count": 5,
   "metadata": {},
   "outputs": [
    {
     "data": {
      "text/plain": [
       "lettr    0\n",
       "x-box    0\n",
       "y-box    0\n",
       "width    0\n",
       "high     0\n",
       "onpix    0\n",
       "x-bar    0\n",
       "y-bar    0\n",
       "x2bar    0\n",
       "y2bar    0\n",
       "xybar    0\n",
       "x2ybr    0\n",
       "xy2br    0\n",
       "x-ege    0\n",
       "xegvy    0\n",
       "y-ege    0\n",
       "yegvx    0\n",
       "dtype: int64"
      ]
     },
     "execution_count": 5,
     "metadata": {},
     "output_type": "execute_result"
    }
   ],
   "source": [
    "data.isnull().sum()"
   ]
  },
  {
   "cell_type": "code",
   "execution_count": 6,
   "metadata": {},
   "outputs": [
    {
     "data": {
      "text/html": [
       "<div>\n",
       "<style scoped>\n",
       "    .dataframe tbody tr th:only-of-type {\n",
       "        vertical-align: middle;\n",
       "    }\n",
       "\n",
       "    .dataframe tbody tr th {\n",
       "        vertical-align: top;\n",
       "    }\n",
       "\n",
       "    .dataframe thead th {\n",
       "        text-align: right;\n",
       "    }\n",
       "</style>\n",
       "<table border=\"1\" class=\"dataframe\">\n",
       "  <thead>\n",
       "    <tr style=\"text-align: right;\">\n",
       "      <th></th>\n",
       "      <th>x-box</th>\n",
       "      <th>y-box</th>\n",
       "      <th>width</th>\n",
       "      <th>high</th>\n",
       "      <th>onpix</th>\n",
       "      <th>x-bar</th>\n",
       "      <th>y-bar</th>\n",
       "      <th>x2bar</th>\n",
       "      <th>y2bar</th>\n",
       "      <th>xybar</th>\n",
       "      <th>x2ybr</th>\n",
       "      <th>xy2br</th>\n",
       "      <th>x-ege</th>\n",
       "      <th>xegvy</th>\n",
       "      <th>y-ege</th>\n",
       "      <th>yegvx</th>\n",
       "    </tr>\n",
       "  </thead>\n",
       "  <tbody>\n",
       "    <tr>\n",
       "      <td>count</td>\n",
       "      <td>20000.000000</td>\n",
       "      <td>20000.000000</td>\n",
       "      <td>20000.000000</td>\n",
       "      <td>20000.00000</td>\n",
       "      <td>20000.000000</td>\n",
       "      <td>20000.000000</td>\n",
       "      <td>20000.000000</td>\n",
       "      <td>20000.000000</td>\n",
       "      <td>20000.000000</td>\n",
       "      <td>20000.000000</td>\n",
       "      <td>20000.00000</td>\n",
       "      <td>20000.000000</td>\n",
       "      <td>20000.000000</td>\n",
       "      <td>20000.000000</td>\n",
       "      <td>20000.000000</td>\n",
       "      <td>20000.00000</td>\n",
       "    </tr>\n",
       "    <tr>\n",
       "      <td>mean</td>\n",
       "      <td>4.023550</td>\n",
       "      <td>7.035500</td>\n",
       "      <td>5.121850</td>\n",
       "      <td>5.37245</td>\n",
       "      <td>3.505850</td>\n",
       "      <td>6.897600</td>\n",
       "      <td>7.500450</td>\n",
       "      <td>4.628600</td>\n",
       "      <td>5.178650</td>\n",
       "      <td>8.282050</td>\n",
       "      <td>6.45400</td>\n",
       "      <td>7.929000</td>\n",
       "      <td>3.046100</td>\n",
       "      <td>8.338850</td>\n",
       "      <td>3.691750</td>\n",
       "      <td>7.80120</td>\n",
       "    </tr>\n",
       "    <tr>\n",
       "      <td>std</td>\n",
       "      <td>1.913212</td>\n",
       "      <td>3.304555</td>\n",
       "      <td>2.014573</td>\n",
       "      <td>2.26139</td>\n",
       "      <td>2.190458</td>\n",
       "      <td>2.026035</td>\n",
       "      <td>2.325354</td>\n",
       "      <td>2.699968</td>\n",
       "      <td>2.380823</td>\n",
       "      <td>2.488475</td>\n",
       "      <td>2.63107</td>\n",
       "      <td>2.080619</td>\n",
       "      <td>2.332541</td>\n",
       "      <td>1.546722</td>\n",
       "      <td>2.567073</td>\n",
       "      <td>1.61747</td>\n",
       "    </tr>\n",
       "    <tr>\n",
       "      <td>min</td>\n",
       "      <td>0.000000</td>\n",
       "      <td>0.000000</td>\n",
       "      <td>0.000000</td>\n",
       "      <td>0.00000</td>\n",
       "      <td>0.000000</td>\n",
       "      <td>0.000000</td>\n",
       "      <td>0.000000</td>\n",
       "      <td>0.000000</td>\n",
       "      <td>0.000000</td>\n",
       "      <td>0.000000</td>\n",
       "      <td>0.00000</td>\n",
       "      <td>0.000000</td>\n",
       "      <td>0.000000</td>\n",
       "      <td>0.000000</td>\n",
       "      <td>0.000000</td>\n",
       "      <td>0.00000</td>\n",
       "    </tr>\n",
       "    <tr>\n",
       "      <td>25%</td>\n",
       "      <td>3.000000</td>\n",
       "      <td>5.000000</td>\n",
       "      <td>4.000000</td>\n",
       "      <td>4.00000</td>\n",
       "      <td>2.000000</td>\n",
       "      <td>6.000000</td>\n",
       "      <td>6.000000</td>\n",
       "      <td>3.000000</td>\n",
       "      <td>4.000000</td>\n",
       "      <td>7.000000</td>\n",
       "      <td>5.00000</td>\n",
       "      <td>7.000000</td>\n",
       "      <td>1.000000</td>\n",
       "      <td>8.000000</td>\n",
       "      <td>2.000000</td>\n",
       "      <td>7.00000</td>\n",
       "    </tr>\n",
       "    <tr>\n",
       "      <td>50%</td>\n",
       "      <td>4.000000</td>\n",
       "      <td>7.000000</td>\n",
       "      <td>5.000000</td>\n",
       "      <td>6.00000</td>\n",
       "      <td>3.000000</td>\n",
       "      <td>7.000000</td>\n",
       "      <td>7.000000</td>\n",
       "      <td>4.000000</td>\n",
       "      <td>5.000000</td>\n",
       "      <td>8.000000</td>\n",
       "      <td>6.00000</td>\n",
       "      <td>8.000000</td>\n",
       "      <td>3.000000</td>\n",
       "      <td>8.000000</td>\n",
       "      <td>3.000000</td>\n",
       "      <td>8.00000</td>\n",
       "    </tr>\n",
       "    <tr>\n",
       "      <td>75%</td>\n",
       "      <td>5.000000</td>\n",
       "      <td>9.000000</td>\n",
       "      <td>6.000000</td>\n",
       "      <td>7.00000</td>\n",
       "      <td>5.000000</td>\n",
       "      <td>8.000000</td>\n",
       "      <td>9.000000</td>\n",
       "      <td>6.000000</td>\n",
       "      <td>7.000000</td>\n",
       "      <td>10.000000</td>\n",
       "      <td>8.00000</td>\n",
       "      <td>9.000000</td>\n",
       "      <td>4.000000</td>\n",
       "      <td>9.000000</td>\n",
       "      <td>5.000000</td>\n",
       "      <td>9.00000</td>\n",
       "    </tr>\n",
       "    <tr>\n",
       "      <td>max</td>\n",
       "      <td>15.000000</td>\n",
       "      <td>15.000000</td>\n",
       "      <td>15.000000</td>\n",
       "      <td>15.00000</td>\n",
       "      <td>15.000000</td>\n",
       "      <td>15.000000</td>\n",
       "      <td>15.000000</td>\n",
       "      <td>15.000000</td>\n",
       "      <td>15.000000</td>\n",
       "      <td>15.000000</td>\n",
       "      <td>15.00000</td>\n",
       "      <td>15.000000</td>\n",
       "      <td>15.000000</td>\n",
       "      <td>15.000000</td>\n",
       "      <td>15.000000</td>\n",
       "      <td>15.00000</td>\n",
       "    </tr>\n",
       "  </tbody>\n",
       "</table>\n",
       "</div>"
      ],
      "text/plain": [
       "              x-box         y-box         width         high         onpix  \\\n",
       "count  20000.000000  20000.000000  20000.000000  20000.00000  20000.000000   \n",
       "mean       4.023550      7.035500      5.121850      5.37245      3.505850   \n",
       "std        1.913212      3.304555      2.014573      2.26139      2.190458   \n",
       "min        0.000000      0.000000      0.000000      0.00000      0.000000   \n",
       "25%        3.000000      5.000000      4.000000      4.00000      2.000000   \n",
       "50%        4.000000      7.000000      5.000000      6.00000      3.000000   \n",
       "75%        5.000000      9.000000      6.000000      7.00000      5.000000   \n",
       "max       15.000000     15.000000     15.000000     15.00000     15.000000   \n",
       "\n",
       "              x-bar         y-bar         x2bar         y2bar         xybar  \\\n",
       "count  20000.000000  20000.000000  20000.000000  20000.000000  20000.000000   \n",
       "mean       6.897600      7.500450      4.628600      5.178650      8.282050   \n",
       "std        2.026035      2.325354      2.699968      2.380823      2.488475   \n",
       "min        0.000000      0.000000      0.000000      0.000000      0.000000   \n",
       "25%        6.000000      6.000000      3.000000      4.000000      7.000000   \n",
       "50%        7.000000      7.000000      4.000000      5.000000      8.000000   \n",
       "75%        8.000000      9.000000      6.000000      7.000000     10.000000   \n",
       "max       15.000000     15.000000     15.000000     15.000000     15.000000   \n",
       "\n",
       "             x2ybr         xy2br         x-ege         xegvy         y-ege  \\\n",
       "count  20000.00000  20000.000000  20000.000000  20000.000000  20000.000000   \n",
       "mean       6.45400      7.929000      3.046100      8.338850      3.691750   \n",
       "std        2.63107      2.080619      2.332541      1.546722      2.567073   \n",
       "min        0.00000      0.000000      0.000000      0.000000      0.000000   \n",
       "25%        5.00000      7.000000      1.000000      8.000000      2.000000   \n",
       "50%        6.00000      8.000000      3.000000      8.000000      3.000000   \n",
       "75%        8.00000      9.000000      4.000000      9.000000      5.000000   \n",
       "max       15.00000     15.000000     15.000000     15.000000     15.000000   \n",
       "\n",
       "             yegvx  \n",
       "count  20000.00000  \n",
       "mean       7.80120  \n",
       "std        1.61747  \n",
       "min        0.00000  \n",
       "25%        7.00000  \n",
       "50%        8.00000  \n",
       "75%        9.00000  \n",
       "max       15.00000  "
      ]
     },
     "execution_count": 6,
     "metadata": {},
     "output_type": "execute_result"
    }
   ],
   "source": [
    "data.describe()"
   ]
  },
  {
   "cell_type": "code",
   "execution_count": 7,
   "metadata": {},
   "outputs": [],
   "source": [
    "X = data.drop(['lettr'], axis = 1)\n",
    "le = LabelEncoder()\n",
    "y = le.fit_transform(data['lettr'])"
   ]
  },
  {
   "cell_type": "markdown",
   "metadata": {},
   "source": [
    "## ML"
   ]
  },
  {
   "cell_type": "code",
   "execution_count": 9,
   "metadata": {},
   "outputs": [],
   "source": [
    "XTrain, XTest, yTrain, yTest = train_test_split(X, y, test_size = 0.3,\n",
    "            stratify = y, random_state = 42)"
   ]
  },
  {
   "cell_type": "code",
   "execution_count": 10,
   "metadata": {},
   "outputs": [],
   "source": [
    "def GridSearch(est, params, XTrain, yTrain):\n",
    "    cv = StratifiedKFold(\n",
    "        n_splits = 5,\n",
    "        shuffle = True,\n",
    "        random_state = 42)\n",
    "    grid = GridSearchCV(\n",
    "        estimator = est,\n",
    "        param_grid = params,\n",
    "        cv = cv.split(XTrain, yTrain),\n",
    "        n_jobs = -1,\n",
    "        verbose = 3)\n",
    "    grid.fit(XTrain, yTrain)\n",
    "    return grid.best_estimator_"
   ]
  },
  {
   "cell_type": "markdown",
   "metadata": {},
   "source": [
    "### XGBClassifier"
   ]
  },
  {
   "cell_type": "code",
   "execution_count": 11,
   "metadata": {},
   "outputs": [],
   "source": [
    "xgbc = XGBClassifier(\n",
    "    objective = 'multi:softprob',\n",
    "    booster = 'gbtree',\n",
    "    subsample = 0.8,\n",
    "    colsample_bytree = 0.8,\n",
    "    random_state = 42\n",
    " )"
   ]
  },
  {
   "cell_type": "code",
   "execution_count": 14,
   "metadata": {},
   "outputs": [],
   "source": [
    "xbgParams = {\n",
    "    'learning_rate': [0.1, 0.2, 0.3],\n",
    "    'max_depth': [6, 7, 8],\n",
    "    'num_boosting_rounds': [100, 200, 300],\n",
    "    'eval_metric': ['merror', 'mlogloss']\n",
    "}"
   ]
  },
  {
   "cell_type": "code",
   "execution_count": 15,
   "metadata": {
    "scrolled": true
   },
   "outputs": [
    {
     "name": "stdout",
     "output_type": "stream",
     "text": [
      "Fitting 5 folds for each of 54 candidates, totalling 270 fits\n"
     ]
    },
    {
     "name": "stderr",
     "output_type": "stream",
     "text": [
      "[Parallel(n_jobs=-1)]: Using backend LokyBackend with 4 concurrent workers.\n",
      "[Parallel(n_jobs=-1)]: Done  24 tasks      | elapsed:  4.2min\n",
      "[Parallel(n_jobs=-1)]: Done 120 tasks      | elapsed: 19.3min\n",
      "[Parallel(n_jobs=-1)]: Done 270 out of 270 | elapsed: 42.9min finished\n"
     ]
    }
   ],
   "source": [
    "bestXGB = GridSearch(xgbc, xbgParams, XTrain, yTrain)"
   ]
  },
  {
   "cell_type": "code",
   "execution_count": 22,
   "metadata": {},
   "outputs": [],
   "source": [
    "def Report(bestCls, X, yTest):\n",
    "    yPred = bestCls.predict(XTest)\n",
    "    yPred0 = le.inverse_transform(yPred)\n",
    "    yTest0 = le.inverse_transform(yTest)\n",
    "    print(classification_report(yTest0, yPred0))\n",
    "    return pd.DataFrame(bestCls.feature_importances_,X.columns).plot(\n",
    "        kind='barh', legend= False, title = 'Важность признаков')"
   ]
  },
  {
   "cell_type": "code",
   "execution_count": 24,
   "metadata": {},
   "outputs": [
    {
     "name": "stdout",
     "output_type": "stream",
     "text": [
      "              precision    recall  f1-score   support\n",
      "\n",
      "           A       0.99      0.98      0.99       237\n",
      "           B       0.90      0.97      0.93       230\n",
      "           C       0.96      0.95      0.95       221\n",
      "           D       0.94      0.96      0.95       242\n",
      "           E       0.95      0.96      0.96       230\n",
      "           F       0.94      0.95      0.95       232\n",
      "           G       0.96      0.94      0.95       232\n",
      "           H       0.92      0.95      0.93       220\n",
      "           I       0.97      0.93      0.95       226\n",
      "           J       0.96      0.95      0.96       224\n",
      "           K       0.94      0.93      0.94       222\n",
      "           L       0.98      0.97      0.97       228\n",
      "           M       0.96      0.97      0.97       238\n",
      "           N       0.97      0.92      0.95       235\n",
      "           O       0.97      0.96      0.97       226\n",
      "           P       0.97      0.98      0.97       241\n",
      "           Q       0.97      0.97      0.97       235\n",
      "           R       0.94      0.93      0.93       227\n",
      "           S       0.98      0.95      0.97       224\n",
      "           T       0.98      0.97      0.97       239\n",
      "           U       0.97      0.98      0.97       244\n",
      "           V       0.97      0.97      0.97       229\n",
      "           W       0.95      1.00      0.97       226\n",
      "           X       0.98      0.97      0.98       236\n",
      "           Y       0.97      0.96      0.97       236\n",
      "           Z       0.97      0.99      0.98       220\n",
      "\n",
      "    accuracy                           0.96      6000\n",
      "   macro avg       0.96      0.96      0.96      6000\n",
      "weighted avg       0.96      0.96      0.96      6000\n",
      "\n"
     ]
    },
    {
     "data": {
      "image/png": "[encoded data removed]",
      "text/plain": [
       "<Figure size 432x288 with 1 Axes>"
      ]
     },
     "metadata": {
      "needs_background": "light"
     },
     "output_type": "display_data"
    }
   ],
   "source": [
    "df = Report(bestXGB, X, yTest)"
   ]
  },
  {
   "cell_type": "markdown",
   "metadata": {},
   "source": [
    "### LGBMClassifier"
   ]
  },
  {
   "cell_type": "code",
   "execution_count": 25,
   "metadata": {},
   "outputs": [],
   "source": [
    "lgbmc = LGBMClassifier(\n",
    "    silent=False,\n",
    "    subsample = 0.8,\n",
    "    colsample_bytree = 0.8,\n",
    "    random_state = 42)"
   ]
  },
  {
   "cell_type": "code",
   "execution_count": 27,
   "metadata": {},
   "outputs": [],
   "source": [
    "lgbmParams = {\n",
    "    'learning_rate' : [0.1, 0.2, 0.3],\n",
    "    'max_depth': [6, 7, 8],\n",
    "    'n_estimators': [100, 200, 300],\n",
    "    'metric': ['multi_error', 'multi_logloss']\n",
    "}"
   ]
  },
  {
   "cell_type": "code",
   "execution_count": 28,
   "metadata": {},
   "outputs": [
    {
     "name": "stdout",
     "output_type": "stream",
     "text": [
      "Fitting 5 folds for each of 54 candidates, totalling 270 fits\n"
     ]
    },
    {
     "name": "stderr",
     "output_type": "stream",
     "text": [
      "[Parallel(n_jobs=-1)]: Using backend LokyBackend with 4 concurrent workers.\n",
      "[Parallel(n_jobs=-1)]: Done  24 tasks      | elapsed:  2.4min\n",
      "[Parallel(n_jobs=-1)]: Done 120 tasks      | elapsed: 12.4min\n",
      "[Parallel(n_jobs=-1)]: Done 270 out of 270 | elapsed: 27.3min finished\n"
     ]
    }
   ],
   "source": [
    "bestLGBM = GridSearch(lgbmc, lgbmParams, XTrain, yTrain)"
   ]
  },
  {
   "cell_type": "code",
   "execution_count": 29,
   "metadata": {},
   "outputs": [
    {
     "name": "stdout",
     "output_type": "stream",
     "text": [
      "              precision    recall  f1-score   support\n",
      "\n",
      "           A       1.00      1.00      1.00       237\n",
      "           B       0.91      0.98      0.95       230\n",
      "           C       0.97      0.96      0.97       221\n",
      "           D       0.96      0.98      0.97       242\n",
      "           E       0.96      0.98      0.97       230\n",
      "           F       0.96      0.94      0.95       232\n",
      "           G       0.97      0.95      0.96       232\n",
      "           H       0.94      0.95      0.95       220\n",
      "           I       0.96      0.95      0.95       226\n",
      "           J       0.96      0.95      0.95       224\n",
      "           K       0.97      0.96      0.97       222\n",
      "           L       0.98      0.99      0.98       228\n",
      "           M       0.99      0.99      0.99       238\n",
      "           N       0.99      0.95      0.97       235\n",
      "           O       0.97      0.96      0.97       226\n",
      "           P       0.96      0.98      0.97       241\n",
      "           Q       0.97      0.97      0.97       235\n",
      "           R       0.95      0.94      0.94       227\n",
      "           S       0.99      0.97      0.98       224\n",
      "           T       0.98      0.97      0.98       239\n",
      "           U       0.99      1.00      0.99       244\n",
      "           V       0.99      0.97      0.98       229\n",
      "           W       0.97      0.99      0.98       226\n",
      "           X       0.98      0.99      0.99       236\n",
      "           Y       0.97      0.98      0.97       236\n",
      "           Z       0.98      0.99      0.99       220\n",
      "\n",
      "    accuracy                           0.97      6000\n",
      "   macro avg       0.97      0.97      0.97      6000\n",
      "weighted avg       0.97      0.97      0.97      6000\n",
      "\n"
     ]
    },
    {
     "data": {
      "image/png": "[encoded data removed]",
      "text/plain": [
       "<Figure size 432x288 with 1 Axes>"
      ]
     },
     "metadata": {
      "needs_background": "light"
     },
     "output_type": "display_data"
    }
   ],
   "source": [
    "df = Report(bestLGBM, X, yTest)"
   ]
  },
  {
   "cell_type": "markdown",
   "metadata": {},
   "source": [
    "### CatBoostClassifier"
   ]
  },
  {
   "cell_type": "code",
   "execution_count": 41,
   "metadata": {},
   "outputs": [],
   "source": [
    "cbc = CatBoostClassifier(\n",
    "    bootstrap_type = 'MVS',\n",
    "    subsample = 0.8,\n",
    "    random_state = 42\n",
    ")"
   ]
  },
  {
   "cell_type": "code",
   "execution_count": 44,
   "metadata": {},
   "outputs": [],
   "source": [
    "cbParams = {\n",
    "        'learning_rate' :  [0.1, 0.2, 0.3],\n",
    "        'depth': [6, 7, 8],\n",
    "        'n_estimators': [100, 200, 300]\n",
    "}"
   ]
  },
  {
   "cell_type": "code",
   "execution_count": 45,
   "metadata": {},
   "outputs": [
    {
     "name": "stdout",
     "output_type": "stream",
     "text": [
      "Fitting 5 folds for each of 27 candidates, totalling 135 fits\n"
     ]
    },
    {
     "name": "stderr",
     "output_type": "stream",
     "text": [
      "[Parallel(n_jobs=-1)]: Using backend LokyBackend with 4 concurrent workers.\n",
      "[Parallel(n_jobs=-1)]: Done  24 tasks      | elapsed:  4.3min\n",
      "/home/alex/anaconda3/lib/python3.7/site-packages/joblib/externals/loky/process_executor.py:706: UserWarning: A worker stopped while some jobs were given to the executor. This can be caused by a too short worker timeout or by a memory leak.\n",
      "  \"timeout or by a memory leak.\", UserWarning\n",
      "[Parallel(n_jobs=-1)]: Done 120 tasks      | elapsed: 27.2min\n",
      "[Parallel(n_jobs=-1)]: Done 135 out of 135 | elapsed: 31.7min finished\n"
     ]
    },
    {
     "name": "stdout",
     "output_type": "stream",
     "text": [
      "0:\tlearn: 2.0892601\ttotal: 146ms\tremaining: 43.7s\n",
      "1:\tlearn: 1.6618497\ttotal: 234ms\tremaining: 34.9s\n",
      "2:\tlearn: 1.3830364\ttotal: 325ms\tremaining: 32.2s\n",
      "3:\tlearn: 1.2061822\ttotal: 439ms\tremaining: 32.5s\n",
      "4:\tlearn: 1.0668825\ttotal: 526ms\tremaining: 31s\n",
      "5:\tlearn: 0.9727365\ttotal: 610ms\tremaining: 29.9s\n",
      "6:\tlearn: 0.8831297\ttotal: 715ms\tremaining: 29.9s\n",
      "7:\tlearn: 0.8057727\ttotal: 805ms\tremaining: 29.4s\n",
      "8:\tlearn: 0.7376801\ttotal: 890ms\tremaining: 28.8s\n",
      "9:\tlearn: 0.6987087\ttotal: 996ms\tremaining: 28.9s\n",
      "10:\tlearn: 0.6496510\ttotal: 1.08s\tremaining: 28.4s\n",
      "11:\tlearn: 0.6041073\ttotal: 1.17s\tremaining: 28.1s\n",
      "12:\tlearn: 0.5775281\ttotal: 1.27s\tremaining: 28.1s\n",
      "13:\tlearn: 0.5457212\ttotal: 1.36s\tremaining: 27.8s\n",
      "14:\tlearn: 0.5172850\ttotal: 1.45s\tremaining: 27.5s\n",
      "15:\tlearn: 0.4935435\ttotal: 1.55s\tremaining: 27.6s\n",
      "16:\tlearn: 0.4717922\ttotal: 1.64s\tremaining: 27.3s\n",
      "17:\tlearn: 0.4538532\ttotal: 1.73s\tremaining: 27.1s\n",
      "18:\tlearn: 0.4361665\ttotal: 1.83s\tremaining: 27.1s\n",
      "19:\tlearn: 0.4209702\ttotal: 1.93s\tremaining: 27s\n",
      "20:\tlearn: 0.4035495\ttotal: 2.03s\tremaining: 27s\n",
      "21:\tlearn: 0.3882824\ttotal: 2.15s\tremaining: 27.1s\n",
      "22:\tlearn: 0.3713209\ttotal: 2.24s\tremaining: 27s\n",
      "23:\tlearn: 0.3564692\ttotal: 2.34s\tremaining: 26.9s\n",
      "24:\tlearn: 0.3449255\ttotal: 2.45s\tremaining: 26.9s\n",
      "25:\tlearn: 0.3359277\ttotal: 2.53s\tremaining: 26.7s\n",
      "26:\tlearn: 0.3281691\ttotal: 2.61s\tremaining: 26.4s\n",
      "27:\tlearn: 0.3151519\ttotal: 2.71s\tremaining: 26.4s\n",
      "28:\tlearn: 0.3030795\ttotal: 2.81s\tremaining: 26.2s\n",
      "29:\tlearn: 0.2951788\ttotal: 2.9s\tremaining: 26.1s\n",
      "30:\tlearn: 0.2860352\ttotal: 3.01s\tremaining: 26.2s\n",
      "31:\tlearn: 0.2802334\ttotal: 3.1s\tremaining: 26s\n",
      "32:\tlearn: 0.2744128\ttotal: 3.19s\tremaining: 25.8s\n",
      "33:\tlearn: 0.2612501\ttotal: 3.3s\tremaining: 25.8s\n",
      "34:\tlearn: 0.2526881\ttotal: 3.39s\tremaining: 25.7s\n",
      "35:\tlearn: 0.2465925\ttotal: 3.48s\tremaining: 25.5s\n",
      "36:\tlearn: 0.2406800\ttotal: 3.59s\tremaining: 25.5s\n",
      "37:\tlearn: 0.2362065\ttotal: 3.81s\tremaining: 26.3s\n",
      "38:\tlearn: 0.2309873\ttotal: 4.03s\tremaining: 26.9s\n",
      "39:\tlearn: 0.2248624\ttotal: 4.13s\tremaining: 26.9s\n",
      "40:\tlearn: 0.2193254\ttotal: 4.26s\tremaining: 26.9s\n",
      "41:\tlearn: 0.2152283\ttotal: 4.51s\tremaining: 27.7s\n",
      "42:\tlearn: 0.2109130\ttotal: 4.62s\tremaining: 27.6s\n",
      "43:\tlearn: 0.2055802\ttotal: 4.7s\tremaining: 27.4s\n",
      "44:\tlearn: 0.2019536\ttotal: 4.81s\tremaining: 27.3s\n",
      "45:\tlearn: 0.1987659\ttotal: 4.9s\tremaining: 27.1s\n",
      "46:\tlearn: 0.1938903\ttotal: 4.99s\tremaining: 26.9s\n",
      "47:\tlearn: 0.1891432\ttotal: 5.13s\tremaining: 26.9s\n",
      "48:\tlearn: 0.1850323\ttotal: 5.35s\tremaining: 27.4s\n",
      "49:\tlearn: 0.1827206\ttotal: 5.48s\tremaining: 27.4s\n",
      "50:\tlearn: 0.1784549\ttotal: 5.58s\tremaining: 27.2s\n",
      "51:\tlearn: 0.1739809\ttotal: 5.67s\tremaining: 27.1s\n",
      "52:\tlearn: 0.1703048\ttotal: 5.76s\tremaining: 26.9s\n",
      "53:\tlearn: 0.1665502\ttotal: 5.87s\tremaining: 26.8s\n",
      "54:\tlearn: 0.1613929\ttotal: 5.96s\tremaining: 26.5s\n",
      "55:\tlearn: 0.1581022\ttotal: 6.05s\tremaining: 26.3s\n",
      "56:\tlearn: 0.1540385\ttotal: 6.15s\tremaining: 26.2s\n",
      "57:\tlearn: 0.1509253\ttotal: 6.24s\tremaining: 26s\n",
      "58:\tlearn: 0.1473819\ttotal: 6.32s\tremaining: 25.8s\n",
      "59:\tlearn: 0.1448356\ttotal: 6.43s\tremaining: 25.7s\n",
      "60:\tlearn: 0.1430290\ttotal: 6.52s\tremaining: 25.5s\n",
      "61:\tlearn: 0.1397651\ttotal: 6.61s\tremaining: 25.4s\n",
      "62:\tlearn: 0.1372497\ttotal: 6.72s\tremaining: 25.3s\n",
      "63:\tlearn: 0.1362756\ttotal: 6.8s\tremaining: 25.1s\n",
      "64:\tlearn: 0.1332747\ttotal: 6.89s\tremaining: 24.9s\n",
      "65:\tlearn: 0.1314634\ttotal: 6.99s\tremaining: 24.8s\n",
      "66:\tlearn: 0.1309804\ttotal: 7.08s\tremaining: 24.6s\n",
      "67:\tlearn: 0.1284092\ttotal: 7.34s\tremaining: 25.1s\n",
      "68:\tlearn: 0.1256639\ttotal: 7.46s\tremaining: 25s\n",
      "69:\tlearn: 0.1248289\ttotal: 7.55s\tremaining: 24.8s\n",
      "70:\tlearn: 0.1235235\ttotal: 7.66s\tremaining: 24.7s\n",
      "71:\tlearn: 0.1226335\ttotal: 7.75s\tremaining: 24.5s\n",
      "72:\tlearn: 0.1202739\ttotal: 7.86s\tremaining: 24.4s\n",
      "73:\tlearn: 0.1182486\ttotal: 7.95s\tremaining: 24.3s\n",
      "74:\tlearn: 0.1160361\ttotal: 8.03s\tremaining: 24.1s\n",
      "75:\tlearn: 0.1139285\ttotal: 8.14s\tremaining: 24s\n",
      "76:\tlearn: 0.1124152\ttotal: 8.22s\tremaining: 23.8s\n",
      "77:\tlearn: 0.1108271\ttotal: 8.31s\tremaining: 23.7s\n",
      "78:\tlearn: 0.1091315\ttotal: 8.42s\tremaining: 23.6s\n",
      "79:\tlearn: 0.1074593\ttotal: 8.51s\tremaining: 23.4s\n",
      "80:\tlearn: 0.1056409\ttotal: 8.59s\tremaining: 23.2s\n",
      "81:\tlearn: 0.1044462\ttotal: 8.69s\tremaining: 23.1s\n",
      "82:\tlearn: 0.1023276\ttotal: 8.78s\tremaining: 23s\n",
      "83:\tlearn: 0.1017419\ttotal: 8.93s\tremaining: 23s\n",
      "84:\tlearn: 0.1006866\ttotal: 9.14s\tremaining: 23.1s\n",
      "85:\tlearn: 0.0998412\ttotal: 9.25s\tremaining: 23s\n",
      "86:\tlearn: 0.0987474\ttotal: 9.34s\tremaining: 22.9s\n",
      "87:\tlearn: 0.0972775\ttotal: 9.45s\tremaining: 22.8s\n",
      "88:\tlearn: 0.0969878\ttotal: 9.54s\tremaining: 22.6s\n",
      "89:\tlearn: 0.0958217\ttotal: 9.62s\tremaining: 22.5s\n",
      "90:\tlearn: 0.0948882\ttotal: 9.72s\tremaining: 22.3s\n",
      "91:\tlearn: 0.0940849\ttotal: 9.81s\tremaining: 22.2s\n",
      "92:\tlearn: 0.0930253\ttotal: 9.89s\tremaining: 22s\n",
      "93:\tlearn: 0.0921819\ttotal: 10s\tremaining: 21.9s\n",
      "94:\tlearn: 0.0910864\ttotal: 10.1s\tremaining: 21.8s\n",
      "95:\tlearn: 0.0899129\ttotal: 10.2s\tremaining: 21.6s\n",
      "96:\tlearn: 0.0877674\ttotal: 10.3s\tremaining: 21.6s\n",
      "97:\tlearn: 0.0877323\ttotal: 10.4s\tremaining: 21.4s\n",
      "98:\tlearn: 0.0858533\ttotal: 10.5s\tremaining: 21.3s\n",
      "99:\tlearn: 0.0848833\ttotal: 10.6s\tremaining: 21.2s\n",
      "100:\tlearn: 0.0838650\ttotal: 10.7s\tremaining: 21s\n",
      "101:\tlearn: 0.0825797\ttotal: 10.7s\tremaining: 20.9s\n",
      "102:\tlearn: 0.0813964\ttotal: 10.8s\tremaining: 20.8s\n",
      "103:\tlearn: 0.0800080\ttotal: 10.9s\tremaining: 20.6s\n",
      "104:\tlearn: 0.0791408\ttotal: 11s\tremaining: 20.5s\n",
      "105:\tlearn: 0.0778923\ttotal: 11.1s\tremaining: 20.4s\n",
      "106:\tlearn: 0.0767318\ttotal: 11.2s\tremaining: 20.2s\n",
      "107:\tlearn: 0.0761228\ttotal: 11.3s\tremaining: 20.1s\n",
      "108:\tlearn: 0.0747453\ttotal: 11.4s\tremaining: 20s\n",
      "109:\tlearn: 0.0742371\ttotal: 11.5s\tremaining: 19.9s\n",
      "110:\tlearn: 0.0736304\ttotal: 11.6s\tremaining: 19.7s\n",
      "111:\tlearn: 0.0725954\ttotal: 11.7s\tremaining: 19.7s\n",
      "112:\tlearn: 0.0720186\ttotal: 11.8s\tremaining: 19.5s\n",
      "113:\tlearn: 0.0711029\ttotal: 11.9s\tremaining: 19.4s\n",
      "114:\tlearn: 0.0710829\ttotal: 12s\tremaining: 19.3s\n",
      "115:\tlearn: 0.0704370\ttotal: 12.1s\tremaining: 19.2s\n",
      "116:\tlearn: 0.0698539\ttotal: 12.2s\tremaining: 19s\n",
      "117:\tlearn: 0.0685990\ttotal: 12.3s\tremaining: 18.9s\n",
      "118:\tlearn: 0.0678603\ttotal: 12.4s\tremaining: 18.8s\n",
      "119:\tlearn: 0.0672261\ttotal: 12.5s\tremaining: 18.7s\n",
      "120:\tlearn: 0.0668902\ttotal: 12.6s\tremaining: 18.6s\n",
      "121:\tlearn: 0.0664709\ttotal: 12.6s\tremaining: 18.4s\n",
      "122:\tlearn: 0.0659068\ttotal: 12.7s\tremaining: 18.3s\n",
      "123:\tlearn: 0.0652298\ttotal: 12.8s\tremaining: 18.2s\n",
      "124:\tlearn: 0.0644764\ttotal: 12.9s\tremaining: 18.1s\n",
      "125:\tlearn: 0.0640632\ttotal: 13s\tremaining: 17.9s\n",
      "126:\tlearn: 0.0633810\ttotal: 13.1s\tremaining: 17.8s\n",
      "127:\tlearn: 0.0625574\ttotal: 13.2s\tremaining: 17.7s\n",
      "128:\tlearn: 0.0615478\ttotal: 13.3s\tremaining: 17.6s\n",
      "129:\tlearn: 0.0614814\ttotal: 13.4s\tremaining: 17.5s\n",
      "130:\tlearn: 0.0610922\ttotal: 13.5s\tremaining: 17.4s\n",
      "131:\tlearn: 0.0605725\ttotal: 13.5s\tremaining: 17.2s\n",
      "132:\tlearn: 0.0598669\ttotal: 13.6s\tremaining: 17.1s\n",
      "133:\tlearn: 0.0592490\ttotal: 13.7s\tremaining: 17s\n",
      "134:\tlearn: 0.0589879\ttotal: 13.8s\tremaining: 16.9s\n",
      "135:\tlearn: 0.0581673\ttotal: 13.9s\tremaining: 16.8s\n",
      "136:\tlearn: 0.0575662\ttotal: 14s\tremaining: 16.7s\n",
      "137:\tlearn: 0.0568958\ttotal: 14.1s\tremaining: 16.5s\n",
      "138:\tlearn: 0.0562964\ttotal: 14.2s\tremaining: 16.4s\n",
      "139:\tlearn: 0.0557454\ttotal: 14.3s\tremaining: 16.3s\n",
      "140:\tlearn: 0.0551142\ttotal: 14.4s\tremaining: 16.2s\n",
      "141:\tlearn: 0.0548286\ttotal: 14.5s\tremaining: 16.1s\n",
      "142:\tlearn: 0.0543537\ttotal: 14.6s\tremaining: 16s\n",
      "143:\tlearn: 0.0537076\ttotal: 14.6s\tremaining: 15.9s\n",
      "144:\tlearn: 0.0536344\ttotal: 14.7s\tremaining: 15.8s\n",
      "145:\tlearn: 0.0529709\ttotal: 14.8s\tremaining: 15.6s\n",
      "146:\tlearn: 0.0524772\ttotal: 14.9s\tremaining: 15.5s\n",
      "147:\tlearn: 0.0519415\ttotal: 15s\tremaining: 15.4s\n",
      "148:\tlearn: 0.0517603\ttotal: 15.1s\tremaining: 15.3s\n",
      "149:\tlearn: 0.0514512\ttotal: 15.2s\tremaining: 15.2s\n",
      "150:\tlearn: 0.0508125\ttotal: 15.3s\tremaining: 15.1s\n",
      "151:\tlearn: 0.0503935\ttotal: 15.4s\tremaining: 15s\n",
      "152:\tlearn: 0.0499077\ttotal: 15.5s\tremaining: 14.9s\n",
      "153:\tlearn: 0.0498104\ttotal: 15.6s\tremaining: 14.8s\n",
      "154:\tlearn: 0.0493426\ttotal: 15.7s\tremaining: 14.6s\n",
      "155:\tlearn: 0.0489368\ttotal: 15.7s\tremaining: 14.5s\n",
      "156:\tlearn: 0.0487037\ttotal: 15.8s\tremaining: 14.4s\n",
      "157:\tlearn: 0.0483756\ttotal: 15.9s\tremaining: 14.3s\n",
      "158:\tlearn: 0.0480263\ttotal: 16s\tremaining: 14.2s\n",
      "159:\tlearn: 0.0476420\ttotal: 16.1s\tremaining: 14.1s\n",
      "160:\tlearn: 0.0470666\ttotal: 16.2s\tremaining: 14s\n",
      "161:\tlearn: 0.0466074\ttotal: 16.3s\tremaining: 13.9s\n"
     ]
    },
    {
     "name": "stdout",
     "output_type": "stream",
     "text": [
      "162:\tlearn: 0.0461285\ttotal: 16.4s\tremaining: 13.8s\n",
      "163:\tlearn: 0.0458238\ttotal: 16.5s\tremaining: 13.7s\n",
      "164:\tlearn: 0.0455626\ttotal: 16.6s\tremaining: 13.6s\n",
      "165:\tlearn: 0.0453204\ttotal: 16.7s\tremaining: 13.5s\n",
      "166:\tlearn: 0.0451617\ttotal: 16.7s\tremaining: 13.3s\n",
      "167:\tlearn: 0.0448244\ttotal: 16.8s\tremaining: 13.2s\n",
      "168:\tlearn: 0.0445057\ttotal: 16.9s\tremaining: 13.1s\n",
      "169:\tlearn: 0.0441578\ttotal: 17s\tremaining: 13s\n",
      "170:\tlearn: 0.0437023\ttotal: 17.1s\tremaining: 12.9s\n",
      "171:\tlearn: 0.0433122\ttotal: 17.2s\tremaining: 12.8s\n",
      "172:\tlearn: 0.0430027\ttotal: 17.3s\tremaining: 12.7s\n",
      "173:\tlearn: 0.0425759\ttotal: 17.4s\tremaining: 12.6s\n",
      "174:\tlearn: 0.0421157\ttotal: 17.5s\tremaining: 12.5s\n",
      "175:\tlearn: 0.0417771\ttotal: 17.6s\tremaining: 12.4s\n",
      "176:\tlearn: 0.0413565\ttotal: 17.7s\tremaining: 12.3s\n",
      "177:\tlearn: 0.0410916\ttotal: 17.8s\tremaining: 12.2s\n",
      "178:\tlearn: 0.0406936\ttotal: 17.8s\tremaining: 12.1s\n",
      "179:\tlearn: 0.0404686\ttotal: 17.9s\tremaining: 11.9s\n",
      "180:\tlearn: 0.0403742\ttotal: 18s\tremaining: 11.8s\n",
      "181:\tlearn: 0.0399835\ttotal: 18.1s\tremaining: 11.7s\n",
      "182:\tlearn: 0.0396390\ttotal: 18.2s\tremaining: 11.6s\n",
      "183:\tlearn: 0.0394555\ttotal: 18.3s\tremaining: 11.5s\n",
      "184:\tlearn: 0.0390301\ttotal: 18.4s\tremaining: 11.4s\n",
      "185:\tlearn: 0.0388115\ttotal: 18.5s\tremaining: 11.3s\n",
      "186:\tlearn: 0.0384851\ttotal: 18.6s\tremaining: 11.2s\n",
      "187:\tlearn: 0.0383110\ttotal: 18.7s\tremaining: 11.1s\n",
      "188:\tlearn: 0.0380854\ttotal: 18.7s\tremaining: 11s\n",
      "189:\tlearn: 0.0378778\ttotal: 18.8s\tremaining: 10.9s\n",
      "190:\tlearn: 0.0375948\ttotal: 18.9s\tremaining: 10.8s\n",
      "191:\tlearn: 0.0372172\ttotal: 19s\tremaining: 10.7s\n",
      "192:\tlearn: 0.0368975\ttotal: 19.2s\tremaining: 10.6s\n",
      "193:\tlearn: 0.0368021\ttotal: 19.2s\tremaining: 10.5s\n",
      "194:\tlearn: 0.0365113\ttotal: 19.3s\tremaining: 10.4s\n",
      "195:\tlearn: 0.0362052\ttotal: 19.4s\tremaining: 10.3s\n",
      "196:\tlearn: 0.0358842\ttotal: 19.5s\tremaining: 10.2s\n",
      "197:\tlearn: 0.0357495\ttotal: 19.6s\tremaining: 10.1s\n",
      "198:\tlearn: 0.0356142\ttotal: 19.7s\tremaining: 10s\n",
      "199:\tlearn: 0.0354009\ttotal: 19.8s\tremaining: 9.9s\n",
      "200:\tlearn: 0.0351697\ttotal: 19.9s\tremaining: 9.79s\n",
      "201:\tlearn: 0.0349350\ttotal: 20s\tremaining: 9.69s\n",
      "202:\tlearn: 0.0347777\ttotal: 20.1s\tremaining: 9.59s\n",
      "203:\tlearn: 0.0345464\ttotal: 20.1s\tremaining: 9.48s\n",
      "204:\tlearn: 0.0344526\ttotal: 20.2s\tremaining: 9.38s\n",
      "205:\tlearn: 0.0341900\ttotal: 20.3s\tremaining: 9.28s\n",
      "206:\tlearn: 0.0340648\ttotal: 20.4s\tremaining: 9.18s\n",
      "207:\tlearn: 0.0338223\ttotal: 20.5s\tremaining: 9.08s\n",
      "208:\tlearn: 0.0335448\ttotal: 20.6s\tremaining: 8.98s\n",
      "209:\tlearn: 0.0333985\ttotal: 20.7s\tremaining: 8.88s\n",
      "210:\tlearn: 0.0332280\ttotal: 20.8s\tremaining: 8.78s\n",
      "211:\tlearn: 0.0330448\ttotal: 20.9s\tremaining: 8.68s\n",
      "212:\tlearn: 0.0328385\ttotal: 21s\tremaining: 8.57s\n",
      "213:\tlearn: 0.0326725\ttotal: 21.1s\tremaining: 8.47s\n",
      "214:\tlearn: 0.0325434\ttotal: 21.2s\tremaining: 8.37s\n",
      "215:\tlearn: 0.0323443\ttotal: 21.3s\tremaining: 8.27s\n",
      "216:\tlearn: 0.0322176\ttotal: 21.4s\tremaining: 8.17s\n",
      "217:\tlearn: 0.0319685\ttotal: 21.4s\tremaining: 8.07s\n",
      "218:\tlearn: 0.0318978\ttotal: 21.5s\tremaining: 7.96s\n",
      "219:\tlearn: 0.0316150\ttotal: 21.6s\tremaining: 7.86s\n",
      "220:\tlearn: 0.0314480\ttotal: 21.7s\tremaining: 7.76s\n",
      "221:\tlearn: 0.0313688\ttotal: 21.8s\tremaining: 7.66s\n",
      "222:\tlearn: 0.0311303\ttotal: 21.9s\tremaining: 7.56s\n",
      "223:\tlearn: 0.0309554\ttotal: 22s\tremaining: 7.46s\n",
      "224:\tlearn: 0.0308092\ttotal: 22.1s\tremaining: 7.36s\n",
      "225:\tlearn: 0.0306636\ttotal: 22.2s\tremaining: 7.26s\n",
      "226:\tlearn: 0.0305403\ttotal: 22.3s\tremaining: 7.16s\n",
      "227:\tlearn: 0.0303336\ttotal: 22.4s\tremaining: 7.06s\n",
      "228:\tlearn: 0.0300819\ttotal: 22.5s\tremaining: 6.96s\n",
      "229:\tlearn: 0.0299203\ttotal: 22.5s\tremaining: 6.86s\n",
      "230:\tlearn: 0.0297844\ttotal: 22.6s\tremaining: 6.76s\n",
      "231:\tlearn: 0.0296254\ttotal: 22.7s\tremaining: 6.66s\n",
      "232:\tlearn: 0.0294474\ttotal: 22.8s\tremaining: 6.56s\n",
      "233:\tlearn: 0.0292947\ttotal: 22.9s\tremaining: 6.46s\n",
      "234:\tlearn: 0.0291378\ttotal: 23s\tremaining: 6.36s\n",
      "235:\tlearn: 0.0289669\ttotal: 23.1s\tremaining: 6.26s\n",
      "236:\tlearn: 0.0288041\ttotal: 23.2s\tremaining: 6.16s\n",
      "237:\tlearn: 0.0286285\ttotal: 23.3s\tremaining: 6.06s\n",
      "238:\tlearn: 0.0284634\ttotal: 23.3s\tremaining: 5.96s\n",
      "239:\tlearn: 0.0283487\ttotal: 23.4s\tremaining: 5.86s\n",
      "240:\tlearn: 0.0282222\ttotal: 23.5s\tremaining: 5.76s\n",
      "241:\tlearn: 0.0280704\ttotal: 23.6s\tremaining: 5.66s\n",
      "242:\tlearn: 0.0279717\ttotal: 23.7s\tremaining: 5.56s\n",
      "243:\tlearn: 0.0277569\ttotal: 23.8s\tremaining: 5.47s\n",
      "244:\tlearn: 0.0276995\ttotal: 23.9s\tremaining: 5.37s\n",
      "245:\tlearn: 0.0276431\ttotal: 24s\tremaining: 5.27s\n",
      "246:\tlearn: 0.0274641\ttotal: 24.1s\tremaining: 5.17s\n",
      "247:\tlearn: 0.0272723\ttotal: 24.2s\tremaining: 5.07s\n",
      "248:\tlearn: 0.0271099\ttotal: 24.3s\tremaining: 4.98s\n",
      "249:\tlearn: 0.0268173\ttotal: 24.4s\tremaining: 4.88s\n",
      "250:\tlearn: 0.0267445\ttotal: 24.5s\tremaining: 4.78s\n",
      "251:\tlearn: 0.0265392\ttotal: 24.6s\tremaining: 4.69s\n",
      "252:\tlearn: 0.0263967\ttotal: 24.7s\tremaining: 4.59s\n",
      "253:\tlearn: 0.0262185\ttotal: 24.8s\tremaining: 4.49s\n",
      "254:\tlearn: 0.0261129\ttotal: 24.9s\tremaining: 4.39s\n",
      "255:\tlearn: 0.0259702\ttotal: 25s\tremaining: 4.3s\n",
      "256:\tlearn: 0.0257532\ttotal: 25.1s\tremaining: 4.2s\n",
      "257:\tlearn: 0.0256095\ttotal: 25.2s\tremaining: 4.1s\n",
      "258:\tlearn: 0.0254668\ttotal: 25.3s\tremaining: 4.01s\n",
      "259:\tlearn: 0.0253669\ttotal: 25.4s\tremaining: 3.91s\n",
      "260:\tlearn: 0.0252129\ttotal: 25.5s\tremaining: 3.81s\n",
      "261:\tlearn: 0.0251407\ttotal: 25.6s\tremaining: 3.71s\n",
      "262:\tlearn: 0.0249431\ttotal: 25.7s\tremaining: 3.62s\n",
      "263:\tlearn: 0.0248052\ttotal: 25.8s\tremaining: 3.52s\n",
      "264:\tlearn: 0.0247282\ttotal: 25.9s\tremaining: 3.42s\n",
      "265:\tlearn: 0.0246380\ttotal: 26s\tremaining: 3.32s\n",
      "266:\tlearn: 0.0245530\ttotal: 26.1s\tremaining: 3.22s\n",
      "267:\tlearn: 0.0244835\ttotal: 26.1s\tremaining: 3.12s\n",
      "268:\tlearn: 0.0244060\ttotal: 26.2s\tremaining: 3.02s\n",
      "269:\tlearn: 0.0242655\ttotal: 26.3s\tremaining: 2.92s\n",
      "270:\tlearn: 0.0241277\ttotal: 26.4s\tremaining: 2.83s\n",
      "271:\tlearn: 0.0239850\ttotal: 26.5s\tremaining: 2.73s\n",
      "272:\tlearn: 0.0237855\ttotal: 26.6s\tremaining: 2.63s\n",
      "273:\tlearn: 0.0237060\ttotal: 26.7s\tremaining: 2.53s\n",
      "274:\tlearn: 0.0236197\ttotal: 26.8s\tremaining: 2.43s\n",
      "275:\tlearn: 0.0235534\ttotal: 26.9s\tremaining: 2.33s\n",
      "276:\tlearn: 0.0234423\ttotal: 27s\tremaining: 2.24s\n",
      "277:\tlearn: 0.0234036\ttotal: 27s\tremaining: 2.14s\n",
      "278:\tlearn: 0.0233278\ttotal: 27.1s\tremaining: 2.04s\n",
      "279:\tlearn: 0.0232211\ttotal: 27.2s\tremaining: 1.95s\n",
      "280:\tlearn: 0.0230165\ttotal: 27.3s\tremaining: 1.85s\n",
      "281:\tlearn: 0.0228991\ttotal: 27.4s\tremaining: 1.75s\n",
      "282:\tlearn: 0.0227640\ttotal: 27.5s\tremaining: 1.65s\n",
      "283:\tlearn: 0.0227155\ttotal: 27.6s\tremaining: 1.56s\n",
      "284:\tlearn: 0.0225579\ttotal: 27.7s\tremaining: 1.46s\n",
      "285:\tlearn: 0.0224758\ttotal: 27.9s\tremaining: 1.36s\n",
      "286:\tlearn: 0.0223813\ttotal: 27.9s\tremaining: 1.26s\n",
      "287:\tlearn: 0.0222762\ttotal: 28s\tremaining: 1.17s\n",
      "288:\tlearn: 0.0221915\ttotal: 28.1s\tremaining: 1.07s\n",
      "289:\tlearn: 0.0221152\ttotal: 28.2s\tremaining: 973ms\n",
      "290:\tlearn: 0.0220272\ttotal: 28.3s\tremaining: 875ms\n",
      "291:\tlearn: 0.0219724\ttotal: 28.4s\tremaining: 778ms\n",
      "292:\tlearn: 0.0218561\ttotal: 28.5s\tremaining: 681ms\n",
      "293:\tlearn: 0.0217783\ttotal: 28.6s\tremaining: 584ms\n",
      "294:\tlearn: 0.0216273\ttotal: 28.7s\tremaining: 487ms\n",
      "295:\tlearn: 0.0215868\ttotal: 28.8s\tremaining: 389ms\n",
      "296:\tlearn: 0.0214543\ttotal: 28.9s\tremaining: 292ms\n",
      "297:\tlearn: 0.0213391\ttotal: 29s\tremaining: 195ms\n",
      "298:\tlearn: 0.0212402\ttotal: 29.1s\tremaining: 97.4ms\n",
      "299:\tlearn: 0.0211608\ttotal: 29.2s\tremaining: 0us\n"
     ]
    }
   ],
   "source": [
    "bestCB = GridSearch(cbc, cbParams, XTrain, yTrain)"
   ]
  },
  {
   "cell_type": "code",
   "execution_count": 47,
   "metadata": {},
   "outputs": [
    {
     "name": "stderr",
     "output_type": "stream",
     "text": [
      "/home/alex/anaconda3/lib/python3.7/site-packages/sklearn/preprocessing/label.py:273: DataConversionWarning: A column-vector y was passed when a 1d array was expected. Please change the shape of y to (n_samples, ), for example using ravel().\n",
      "  y = column_or_1d(y, warn=True)\n"
     ]
    },
    {
     "name": "stdout",
     "output_type": "stream",
     "text": [
      "              precision    recall  f1-score   support\n",
      "\n",
      "           A       0.99      0.99      0.99       237\n",
      "           B       0.90      0.97      0.94       230\n",
      "           C       0.98      0.95      0.96       221\n",
      "           D       0.94      0.96      0.95       242\n",
      "           E       0.96      0.95      0.96       230\n",
      "           F       0.96      0.95      0.95       232\n",
      "           G       0.97      0.97      0.97       232\n",
      "           H       0.92      0.95      0.93       220\n",
      "           I       0.97      0.92      0.94       226\n",
      "           J       0.95      0.96      0.95       224\n",
      "           K       0.95      0.93      0.94       222\n",
      "           L       0.99      0.97      0.98       228\n",
      "           M       0.99      0.98      0.99       238\n",
      "           N       0.96      0.95      0.96       235\n",
      "           O       0.96      0.95      0.96       226\n",
      "           P       0.97      0.98      0.98       241\n",
      "           Q       0.97      0.97      0.97       235\n",
      "           R       0.94      0.96      0.95       227\n",
      "           S       1.00      0.97      0.99       224\n",
      "           T       0.99      0.96      0.97       239\n",
      "           U       0.96      1.00      0.98       244\n",
      "           V       0.98      0.96      0.97       229\n",
      "           W       0.99      1.00      0.99       226\n",
      "           X       0.97      0.98      0.97       236\n",
      "           Y       0.97      0.98      0.97       236\n",
      "           Z       0.98      0.99      0.98       220\n",
      "\n",
      "    accuracy                           0.97      6000\n",
      "   macro avg       0.97      0.97      0.97      6000\n",
      "weighted avg       0.97      0.97      0.97      6000\n",
      "\n"
     ]
    },
    {
     "data": {
      "image/png": "[encoded data removed]",
      "text/plain": [
       "<Figure size 432x288 with 1 Axes>"
      ]
     },
     "metadata": {
      "needs_background": "light"
     },
     "output_type": "display_data"
    }
   ],
   "source": [
    "df = Report(bestCB, X, yTest)"
   ]
  },
  {
   "cell_type": "markdown",
   "metadata": {},
   "source": [
    "### Классификаторы дали одинаковые средние метрики качества обучения. При этом, их функции распределения важности признаков существенно различаются.  LGBMClassifier потратил на работу почти в два раза меньше времени, чем XGBClassifier или CatBoostClassifier (время работы последнего надо умножить на два, так как он получил вдвое меньше вариантов набора параметров)."
   ]
  }
 ],
 "metadata": {
  "kernelspec": {
   "display_name": "Python 3",
   "language": "python",
   "name": "python3"
  },
  "language_info": {
   "codemirror_mode": {
    "name": "ipython",
    "version": 3
   },
   "file_extension": ".py",
   "mimetype": "text/x-python",
   "name": "python",
   "nbconvert_exporter": "python",
   "pygments_lexer": "ipython3",
   "version": "3.7.4"
  }
 },
 "nbformat": 4,
 "nbformat_minor": 2
}
