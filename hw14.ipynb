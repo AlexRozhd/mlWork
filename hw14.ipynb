{
 "cells": [
  {
   "cell_type": "markdown",
   "metadata": {},
   "source": [
    "## Предобработка"
   ]
  },
  {
   "cell_type": "code",
   "execution_count": 1,
   "metadata": {},
   "outputs": [],
   "source": [
    "import pandas as pd\n",
    "import gzip\n",
    "import json\n",
    "import matplotlib.pyplot as plt\n",
    "from scipy import sparse\n",
    "import numpy as np\n",
    "import pickle\n",
    "\n",
    "def parse(path):\n",
    "  g = gzip.open(path, 'rb')\n",
    "  for l in g:\n",
    "    yield json.loads(l)\n",
    "\n",
    "def getDF(path):\n",
    "  i = 0\n",
    "  df = {}\n",
    "  for d in parse(path):\n",
    "    df[i] = d\n",
    "    i += 1\n",
    "  return pd.DataFrame.from_dict(df, orient='index')\n",
    "\n",
    "\n",
    "data = getDF('Musical_Instruments_5.json.gz')"
   ]
  },
  {
   "cell_type": "markdown",
   "metadata": {},
   "source": [
    "## Базовый EDA "
   ]
  },
  {
   "cell_type": "code",
   "execution_count": 2,
   "metadata": {},
   "outputs": [
    {
     "data": {
      "text/html": [
       "<div>\n",
       "<style scoped>\n",
       "    .dataframe tbody tr th:only-of-type {\n",
       "        vertical-align: middle;\n",
       "    }\n",
       "\n",
       "    .dataframe tbody tr th {\n",
       "        vertical-align: top;\n",
       "    }\n",
       "\n",
       "    .dataframe thead th {\n",
       "        text-align: right;\n",
       "    }\n",
       "</style>\n",
       "<table border=\"1\" class=\"dataframe\">\n",
       "  <thead>\n",
       "    <tr style=\"text-align: right;\">\n",
       "      <th></th>\n",
       "      <th>overall</th>\n",
       "      <th>verified</th>\n",
       "      <th>reviewTime</th>\n",
       "      <th>reviewerID</th>\n",
       "      <th>asin</th>\n",
       "      <th>reviewerName</th>\n",
       "      <th>reviewText</th>\n",
       "      <th>summary</th>\n",
       "      <th>unixReviewTime</th>\n",
       "      <th>vote</th>\n",
       "      <th>style</th>\n",
       "      <th>image</th>\n",
       "    </tr>\n",
       "  </thead>\n",
       "  <tbody>\n",
       "    <tr>\n",
       "      <td>0</td>\n",
       "      <td>5.0</td>\n",
       "      <td>True</td>\n",
       "      <td>10 30, 2016</td>\n",
       "      <td>A3FO5AKVTFRCRJ</td>\n",
       "      <td>0739079891</td>\n",
       "      <td>francisco</td>\n",
       "      <td>It's good for beginners</td>\n",
       "      <td>Five Stars</td>\n",
       "      <td>1477785600</td>\n",
       "      <td>NaN</td>\n",
       "      <td>NaN</td>\n",
       "      <td>NaN</td>\n",
       "    </tr>\n",
       "    <tr>\n",
       "      <td>1</td>\n",
       "      <td>5.0</td>\n",
       "      <td>True</td>\n",
       "      <td>06 30, 2016</td>\n",
       "      <td>A3UCGC1DHFMBCE</td>\n",
       "      <td>0739079891</td>\n",
       "      <td>Eb Jack Murray</td>\n",
       "      <td>I recommend this starter Ukulele kit.  I has e...</td>\n",
       "      <td>Five Stars</td>\n",
       "      <td>1467244800</td>\n",
       "      <td>NaN</td>\n",
       "      <td>NaN</td>\n",
       "      <td>NaN</td>\n",
       "    </tr>\n",
       "    <tr>\n",
       "      <td>2</td>\n",
       "      <td>5.0</td>\n",
       "      <td>True</td>\n",
       "      <td>05 9, 2016</td>\n",
       "      <td>A2S9SLRYLPGYZB</td>\n",
       "      <td>0739079891</td>\n",
       "      <td>Clara LaMarr</td>\n",
       "      <td>G'daughter received this for Christmas present...</td>\n",
       "      <td>Learning new songs to play regularly</td>\n",
       "      <td>1462752000</td>\n",
       "      <td>NaN</td>\n",
       "      <td>NaN</td>\n",
       "      <td>NaN</td>\n",
       "    </tr>\n",
       "    <tr>\n",
       "      <td>3</td>\n",
       "      <td>4.0</td>\n",
       "      <td>True</td>\n",
       "      <td>04 10, 2016</td>\n",
       "      <td>A15RTJWPG8OKOE</td>\n",
       "      <td>0739079891</td>\n",
       "      <td>Eagle80</td>\n",
       "      <td>According to my order history, I bought this t...</td>\n",
       "      <td>A bargain-bin good-enough ukulele that's held ...</td>\n",
       "      <td>1460246400</td>\n",
       "      <td>NaN</td>\n",
       "      <td>NaN</td>\n",
       "      <td>NaN</td>\n",
       "    </tr>\n",
       "    <tr>\n",
       "      <td>4</td>\n",
       "      <td>1.0</td>\n",
       "      <td>True</td>\n",
       "      <td>02 6, 2016</td>\n",
       "      <td>A12ET1WO3OAVU7</td>\n",
       "      <td>0739079891</td>\n",
       "      <td>Amazon Customer</td>\n",
       "      <td>Please pay attention better than I did to the ...</td>\n",
       "      <td>Poor Quality product.</td>\n",
       "      <td>1454716800</td>\n",
       "      <td>NaN</td>\n",
       "      <td>NaN</td>\n",
       "      <td>NaN</td>\n",
       "    </tr>\n",
       "    <tr>\n",
       "      <td>5</td>\n",
       "      <td>4.0</td>\n",
       "      <td>True</td>\n",
       "      <td>01 2, 2016</td>\n",
       "      <td>A2WXECU99NYBAZ</td>\n",
       "      <td>0739079891</td>\n",
       "      <td>Minimesha</td>\n",
       "      <td>I purchased this as a gift for a friend who re...</td>\n",
       "      <td>Good Starter Kit</td>\n",
       "      <td>1451692800</td>\n",
       "      <td>NaN</td>\n",
       "      <td>NaN</td>\n",
       "      <td>NaN</td>\n",
       "    </tr>\n",
       "  </tbody>\n",
       "</table>\n",
       "</div>"
      ],
      "text/plain": [
       "   overall  verified   reviewTime      reviewerID        asin  \\\n",
       "0      5.0      True  10 30, 2016  A3FO5AKVTFRCRJ  0739079891   \n",
       "1      5.0      True  06 30, 2016  A3UCGC1DHFMBCE  0739079891   \n",
       "2      5.0      True   05 9, 2016  A2S9SLRYLPGYZB  0739079891   \n",
       "3      4.0      True  04 10, 2016  A15RTJWPG8OKOE  0739079891   \n",
       "4      1.0      True   02 6, 2016  A12ET1WO3OAVU7  0739079891   \n",
       "5      4.0      True   01 2, 2016  A2WXECU99NYBAZ  0739079891   \n",
       "\n",
       "      reviewerName                                         reviewText  \\\n",
       "0        francisco                            It's good for beginners   \n",
       "1   Eb Jack Murray  I recommend this starter Ukulele kit.  I has e...   \n",
       "2     Clara LaMarr  G'daughter received this for Christmas present...   \n",
       "3          Eagle80  According to my order history, I bought this t...   \n",
       "4  Amazon Customer  Please pay attention better than I did to the ...   \n",
       "5        Minimesha  I purchased this as a gift for a friend who re...   \n",
       "\n",
       "                                             summary  unixReviewTime vote  \\\n",
       "0                                         Five Stars      1477785600  NaN   \n",
       "1                                         Five Stars      1467244800  NaN   \n",
       "2               Learning new songs to play regularly      1462752000  NaN   \n",
       "3  A bargain-bin good-enough ukulele that's held ...      1460246400  NaN   \n",
       "4                              Poor Quality product.      1454716800  NaN   \n",
       "5                                   Good Starter Kit      1451692800  NaN   \n",
       "\n",
       "  style image  \n",
       "0   NaN   NaN  \n",
       "1   NaN   NaN  \n",
       "2   NaN   NaN  \n",
       "3   NaN   NaN  \n",
       "4   NaN   NaN  \n",
       "5   NaN   NaN  "
      ]
     },
     "execution_count": 2,
     "metadata": {},
     "output_type": "execute_result"
    }
   ],
   "source": [
    "data.head(6)"
   ]
  },
  {
   "cell_type": "code",
   "execution_count": 3,
   "metadata": {},
   "outputs": [],
   "source": [
    "#Заменим названия нужных нам колонок на \"говорящие\".\n",
    "\n",
    "data.rename(columns={'overall': 'rating', 'reviewerID': 'customerID', 'asin': 'productID'}, inplace=True)"
   ]
  },
  {
   "cell_type": "code",
   "execution_count": 4,
   "metadata": {},
   "outputs": [
    {
     "data": {
      "text/plain": [
       "(231392, 12)"
      ]
     },
     "execution_count": 4,
     "metadata": {},
     "output_type": "execute_result"
    }
   ],
   "source": [
    "data.shape"
   ]
  },
  {
   "cell_type": "code",
   "execution_count": 5,
   "metadata": {},
   "outputs": [
    {
     "name": "stdout",
     "output_type": "stream",
     "text": [
      "<class 'pandas.core.frame.DataFrame'>\n",
      "Int64Index: 231392 entries, 0 to 231391\n",
      "Data columns (total 12 columns):\n",
      "rating            231392 non-null float64\n",
      "verified          231392 non-null bool\n",
      "reviewTime        231392 non-null object\n",
      "customerID        231392 non-null object\n",
      "productID         231392 non-null object\n",
      "reviewerName      231367 non-null object\n",
      "reviewText        231344 non-null object\n",
      "summary           231341 non-null object\n",
      "unixReviewTime    231392 non-null int64\n",
      "vote              34777 non-null object\n",
      "style             121310 non-null object\n",
      "image             3889 non-null object\n",
      "dtypes: bool(1), float64(1), int64(1), object(9)\n",
      "memory usage: 21.4+ MB\n"
     ]
    }
   ],
   "source": [
    "Len = data.shape[0]\n",
    "\n",
    "data.info()"
   ]
  },
  {
   "cell_type": "code",
   "execution_count": 6,
   "metadata": {},
   "outputs": [
    {
     "data": {
      "text/plain": [
       "rating                 0\n",
       "verified               0\n",
       "reviewTime             0\n",
       "customerID             0\n",
       "productID              0\n",
       "reviewerName          25\n",
       "reviewText            48\n",
       "summary               51\n",
       "unixReviewTime         0\n",
       "vote              196615\n",
       "style             110082\n",
       "image             227503\n",
       "dtype: int64"
      ]
     },
     "execution_count": 6,
     "metadata": {},
     "output_type": "execute_result"
    }
   ],
   "source": [
    "data.isna().sum()"
   ]
  },
  {
   "cell_type": "code",
   "execution_count": 7,
   "metadata": {},
   "outputs": [
    {
     "data": {
      "text/plain": [
       "10620"
      ]
     },
     "execution_count": 7,
     "metadata": {},
     "output_type": "execute_result"
    }
   ],
   "source": [
    "data['productID'].nunique()"
   ]
  },
  {
   "cell_type": "code",
   "execution_count": 8,
   "metadata": {},
   "outputs": [
    {
     "data": {
      "text/plain": [
       "27530"
      ]
     },
     "execution_count": 8,
     "metadata": {},
     "output_type": "execute_result"
    }
   ],
   "source": [
    "data['customerID'].nunique()"
   ]
  },
  {
   "cell_type": "code",
   "execution_count": 9,
   "metadata": {},
   "outputs": [
    {
     "data": {
      "text/plain": [
       "array([5., 4., 1., 3., 2.])"
      ]
     },
     "execution_count": 9,
     "metadata": {},
     "output_type": "execute_result"
    }
   ],
   "source": [
    "data['rating'].unique()"
   ]
  },
  {
   "cell_type": "code",
   "execution_count": 10,
   "metadata": {},
   "outputs": [
    {
     "data": {
      "image/png": "[encoded data removed]",
      "text/plain": [
       "<Figure size 432x288 with 1 Axes>"
      ]
     },
     "metadata": {
      "needs_background": "light"
     },
     "output_type": "display_data"
    }
   ],
   "source": [
    "data['rating'].hist(bins=10);"
   ]
  },
  {
   "cell_type": "code",
   "execution_count": 11,
   "metadata": {},
   "outputs": [
    {
     "data": {
      "text/plain": [
       "<matplotlib.axes._subplots.AxesSubplot at 0x7f584dc282d0>"
      ]
     },
     "execution_count": 11,
     "metadata": {},
     "output_type": "execute_result"
    },
    {
     "data": {
      "image/png": "[encoded data removed]",
      "text/plain": [
       "<Figure size 432x288 with 1 Axes>"
      ]
     },
     "metadata": {
      "needs_background": "light"
     },
     "output_type": "display_data"
    }
   ],
   "source": [
    "data['rating'].plot.box()"
   ]
  },
  {
   "cell_type": "markdown",
   "metadata": {},
   "source": [
    "#### Упорядочим строки по возрастанию времени выставления рейтинга товара."
   ]
  },
  {
   "cell_type": "code",
   "execution_count": 12,
   "metadata": {},
   "outputs": [],
   "source": [
    "df = data.sort_values(\"unixReviewTime\")\n",
    "df.reset_index(inplace=True, drop=True)"
   ]
  },
  {
   "cell_type": "code",
   "execution_count": 13,
   "metadata": {},
   "outputs": [
    {
     "data": {
      "text/html": [
       "<div>\n",
       "<style scoped>\n",
       "    .dataframe tbody tr th:only-of-type {\n",
       "        vertical-align: middle;\n",
       "    }\n",
       "\n",
       "    .dataframe tbody tr th {\n",
       "        vertical-align: top;\n",
       "    }\n",
       "\n",
       "    .dataframe thead th {\n",
       "        text-align: right;\n",
       "    }\n",
       "</style>\n",
       "<table border=\"1\" class=\"dataframe\">\n",
       "  <thead>\n",
       "    <tr style=\"text-align: right;\">\n",
       "      <th></th>\n",
       "      <th>rating</th>\n",
       "      <th>verified</th>\n",
       "      <th>reviewTime</th>\n",
       "      <th>customerID</th>\n",
       "      <th>productID</th>\n",
       "      <th>reviewerName</th>\n",
       "      <th>reviewText</th>\n",
       "      <th>summary</th>\n",
       "      <th>unixReviewTime</th>\n",
       "      <th>vote</th>\n",
       "      <th>style</th>\n",
       "      <th>image</th>\n",
       "    </tr>\n",
       "  </thead>\n",
       "  <tbody>\n",
       "    <tr>\n",
       "      <td>0</td>\n",
       "      <td>4.0</td>\n",
       "      <td>False</td>\n",
       "      <td>10 28, 2003</td>\n",
       "      <td>A1YC9XEDFKXPLK</td>\n",
       "      <td>B00006HO3L</td>\n",
       "      <td>Armando M. Mesa</td>\n",
       "      <td>This particular Audio Technica cartridge will ...</td>\n",
       "      <td>A Solidly Good Cartridge</td>\n",
       "      <td>1067299200</td>\n",
       "      <td>55</td>\n",
       "      <td>{'Style:': ' AT92ECD Phonograph Cartridge'}</td>\n",
       "      <td>NaN</td>\n",
       "    </tr>\n",
       "    <tr>\n",
       "      <td>1</td>\n",
       "      <td>3.0</td>\n",
       "      <td>True</td>\n",
       "      <td>03 27, 2004</td>\n",
       "      <td>A2B1OJ22IYM3NR</td>\n",
       "      <td>B00001W0DH</td>\n",
       "      <td>K. Lyman</td>\n",
       "      <td>These headphones are very clean.  Highs are cr...</td>\n",
       "      <td>Sounds good, but may not be what you want</td>\n",
       "      <td>1080345600</td>\n",
       "      <td>2</td>\n",
       "      <td>NaN</td>\n",
       "      <td>NaN</td>\n",
       "    </tr>\n",
       "    <tr>\n",
       "      <td>2</td>\n",
       "      <td>4.0</td>\n",
       "      <td>False</td>\n",
       "      <td>06 1, 2004</td>\n",
       "      <td>A17BUUBOU0598B</td>\n",
       "      <td>B00001W0DT</td>\n",
       "      <td>Mark</td>\n",
       "      <td>The other reviewers wrote some great info abou...</td>\n",
       "      <td>Affordable Digital Recording.  GREAT VALUE!!!</td>\n",
       "      <td>1086048000</td>\n",
       "      <td>87</td>\n",
       "      <td>NaN</td>\n",
       "      <td>NaN</td>\n",
       "    </tr>\n",
       "    <tr>\n",
       "      <td>3</td>\n",
       "      <td>5.0</td>\n",
       "      <td>False</td>\n",
       "      <td>06 1, 2004</td>\n",
       "      <td>A17BUUBOU0598B</td>\n",
       "      <td>B00006HOLL</td>\n",
       "      <td>Mark</td>\n",
       "      <td>This unit is not as compatible as compared to ...</td>\n",
       "      <td>Great for MD recording! Nice for the price!</td>\n",
       "      <td>1086048000</td>\n",
       "      <td>64</td>\n",
       "      <td>NaN</td>\n",
       "      <td>NaN</td>\n",
       "    </tr>\n",
       "    <tr>\n",
       "      <td>4</td>\n",
       "      <td>4.0</td>\n",
       "      <td>False</td>\n",
       "      <td>07 20, 2004</td>\n",
       "      <td>A2NEVXUACYIECB</td>\n",
       "      <td>B0002CZVKA</td>\n",
       "      <td>BassMan</td>\n",
       "      <td>For years I used Rat distortion boxes for guit...</td>\n",
       "      <td>Rich complex distortion</td>\n",
       "      <td>1090281600</td>\n",
       "      <td>11</td>\n",
       "      <td>NaN</td>\n",
       "      <td>NaN</td>\n",
       "    </tr>\n",
       "  </tbody>\n",
       "</table>\n",
       "</div>"
      ],
      "text/plain": [
       "   rating  verified   reviewTime      customerID   productID     reviewerName  \\\n",
       "0     4.0     False  10 28, 2003  A1YC9XEDFKXPLK  B00006HO3L  Armando M. Mesa   \n",
       "1     3.0      True  03 27, 2004  A2B1OJ22IYM3NR  B00001W0DH         K. Lyman   \n",
       "2     4.0     False   06 1, 2004  A17BUUBOU0598B  B00001W0DT             Mark   \n",
       "3     5.0     False   06 1, 2004  A17BUUBOU0598B  B00006HOLL             Mark   \n",
       "4     4.0     False  07 20, 2004  A2NEVXUACYIECB  B0002CZVKA          BassMan   \n",
       "\n",
       "                                          reviewText  \\\n",
       "0  This particular Audio Technica cartridge will ...   \n",
       "1  These headphones are very clean.  Highs are cr...   \n",
       "2  The other reviewers wrote some great info abou...   \n",
       "3  This unit is not as compatible as compared to ...   \n",
       "4  For years I used Rat distortion boxes for guit...   \n",
       "\n",
       "                                         summary  unixReviewTime vote  \\\n",
       "0                       A Solidly Good Cartridge      1067299200   55   \n",
       "1      Sounds good, but may not be what you want      1080345600    2   \n",
       "2  Affordable Digital Recording.  GREAT VALUE!!!      1086048000   87   \n",
       "3    Great for MD recording! Nice for the price!      1086048000   64   \n",
       "4                        Rich complex distortion      1090281600   11   \n",
       "\n",
       "                                         style image  \n",
       "0  {'Style:': ' AT92ECD Phonograph Cartridge'}   NaN  \n",
       "1                                          NaN   NaN  \n",
       "2                                          NaN   NaN  \n",
       "3                                          NaN   NaN  \n",
       "4                                          NaN   NaN  "
      ]
     },
     "execution_count": 13,
     "metadata": {},
     "output_type": "execute_result"
    }
   ],
   "source": [
    "df.head()"
   ]
  },
  {
   "cell_type": "markdown",
   "metadata": {},
   "source": [
    "## Создание рекомендательной системы"
   ]
  },
  {
   "cell_type": "code",
   "execution_count": 14,
   "metadata": {},
   "outputs": [],
   "source": [
    "df_short = df[['customerID', 'productID','rating']].drop_duplicates(subset = ['customerID', 'productID'])"
   ]
  },
  {
   "cell_type": "code",
   "execution_count": 15,
   "metadata": {},
   "outputs": [
    {
     "data": {
      "text/plain": [
       "(219156, 3)"
      ]
     },
     "execution_count": 15,
     "metadata": {},
     "output_type": "execute_result"
    }
   ],
   "source": [
    "df_short.shape"
   ]
  },
  {
   "cell_type": "code",
   "execution_count": 16,
   "metadata": {},
   "outputs": [
    {
     "data": {
      "text/html": [
       "<div>\n",
       "<style scoped>\n",
       "    .dataframe tbody tr th:only-of-type {\n",
       "        vertical-align: middle;\n",
       "    }\n",
       "\n",
       "    .dataframe tbody tr th {\n",
       "        vertical-align: top;\n",
       "    }\n",
       "\n",
       "    .dataframe thead th {\n",
       "        text-align: right;\n",
       "    }\n",
       "</style>\n",
       "<table border=\"1\" class=\"dataframe\">\n",
       "  <thead>\n",
       "    <tr style=\"text-align: right;\">\n",
       "      <th></th>\n",
       "      <th>customerID</th>\n",
       "      <th>productID</th>\n",
       "      <th>rating</th>\n",
       "    </tr>\n",
       "  </thead>\n",
       "  <tbody>\n",
       "    <tr>\n",
       "      <td>0</td>\n",
       "      <td>A1YC9XEDFKXPLK</td>\n",
       "      <td>B00006HO3L</td>\n",
       "      <td>4.0</td>\n",
       "    </tr>\n",
       "    <tr>\n",
       "      <td>1</td>\n",
       "      <td>A2B1OJ22IYM3NR</td>\n",
       "      <td>B00001W0DH</td>\n",
       "      <td>3.0</td>\n",
       "    </tr>\n",
       "    <tr>\n",
       "      <td>2</td>\n",
       "      <td>A17BUUBOU0598B</td>\n",
       "      <td>B00001W0DT</td>\n",
       "      <td>4.0</td>\n",
       "    </tr>\n",
       "    <tr>\n",
       "      <td>3</td>\n",
       "      <td>A17BUUBOU0598B</td>\n",
       "      <td>B00006HOLL</td>\n",
       "      <td>5.0</td>\n",
       "    </tr>\n",
       "    <tr>\n",
       "      <td>4</td>\n",
       "      <td>A2NEVXUACYIECB</td>\n",
       "      <td>B0002CZVKA</td>\n",
       "      <td>4.0</td>\n",
       "    </tr>\n",
       "    <tr>\n",
       "      <td>5</td>\n",
       "      <td>A2NEVXUACYIECB</td>\n",
       "      <td>B001E95KEC</td>\n",
       "      <td>4.0</td>\n",
       "    </tr>\n",
       "    <tr>\n",
       "      <td>6</td>\n",
       "      <td>A1MI9FDCNB3CMR</td>\n",
       "      <td>B0002E3D62</td>\n",
       "      <td>5.0</td>\n",
       "    </tr>\n",
       "    <tr>\n",
       "      <td>7</td>\n",
       "      <td>A1MI9FDCNB3CMR</td>\n",
       "      <td>B0002F79E8</td>\n",
       "      <td>5.0</td>\n",
       "    </tr>\n",
       "    <tr>\n",
       "      <td>8</td>\n",
       "      <td>AV8MDYLHHTUOY</td>\n",
       "      <td>B000CD3QY2</td>\n",
       "      <td>4.0</td>\n",
       "    </tr>\n",
       "    <tr>\n",
       "      <td>9</td>\n",
       "      <td>A3KDTS7917RNBA</td>\n",
       "      <td>B0002M2U2C</td>\n",
       "      <td>4.0</td>\n",
       "    </tr>\n",
       "  </tbody>\n",
       "</table>\n",
       "</div>"
      ],
      "text/plain": [
       "       customerID   productID  rating\n",
       "0  A1YC9XEDFKXPLK  B00006HO3L     4.0\n",
       "1  A2B1OJ22IYM3NR  B00001W0DH     3.0\n",
       "2  A17BUUBOU0598B  B00001W0DT     4.0\n",
       "3  A17BUUBOU0598B  B00006HOLL     5.0\n",
       "4  A2NEVXUACYIECB  B0002CZVKA     4.0\n",
       "5  A2NEVXUACYIECB  B001E95KEC     4.0\n",
       "6  A1MI9FDCNB3CMR  B0002E3D62     5.0\n",
       "7  A1MI9FDCNB3CMR  B0002F79E8     5.0\n",
       "8   AV8MDYLHHTUOY  B000CD3QY2     4.0\n",
       "9  A3KDTS7917RNBA  B0002M2U2C     4.0"
      ]
     },
     "execution_count": 16,
     "metadata": {},
     "output_type": "execute_result"
    }
   ],
   "source": [
    "df_short.head(10)"
   ]
  },
  {
   "cell_type": "markdown",
   "metadata": {},
   "source": [
    "#### Закодируем ID покупателей и товаров. "
   ]
  },
  {
   "cell_type": "code",
   "execution_count": 17,
   "metadata": {},
   "outputs": [
    {
     "name": "stdout",
     "output_type": "stream",
     "text": [
      "27530\n"
     ]
    }
   ],
   "source": [
    "customers_df = df_short['customerID']\n",
    "customers = customers_df.unique()\n",
    "n_customers = np.size(customers)\n",
    "\n",
    "print(n_customers)"
   ]
  },
  {
   "cell_type": "code",
   "execution_count": 18,
   "metadata": {},
   "outputs": [
    {
     "name": "stdout",
     "output_type": "stream",
     "text": [
      "10620\n"
     ]
    }
   ],
   "source": [
    "products_df = df_short['productID']\n",
    "products = products_df.unique()\n",
    "n_products = np.size(products_df.unique())\n",
    "\n",
    "print(n_products)"
   ]
  },
  {
   "cell_type": "code",
   "execution_count": 19,
   "metadata": {},
   "outputs": [
    {
     "data": {
      "text/plain": [
       "0    A1YC9XEDFKXPLK\n",
       "1    A2B1OJ22IYM3NR\n",
       "2    A17BUUBOU0598B\n",
       "3    A17BUUBOU0598B\n",
       "4    A2NEVXUACYIECB\n",
       "Name: customerID, dtype: object"
      ]
     },
     "execution_count": 19,
     "metadata": {},
     "output_type": "execute_result"
    }
   ],
   "source": [
    "customers_df.head()"
   ]
  },
  {
   "cell_type": "code",
   "execution_count": 20,
   "metadata": {},
   "outputs": [
    {
     "data": {
      "text/plain": [
       "0    B00006HO3L\n",
       "1    B00001W0DH\n",
       "2    B00001W0DT\n",
       "3    B00006HOLL\n",
       "4    B0002CZVKA\n",
       "Name: productID, dtype: object"
      ]
     },
     "execution_count": 20,
     "metadata": {},
     "output_type": "execute_result"
    }
   ],
   "source": [
    "products_df.head()"
   ]
  },
  {
   "cell_type": "code",
   "execution_count": 21,
   "metadata": {},
   "outputs": [],
   "source": [
    "# Закодируем идентификаторы покупателей \n",
    "cust_codes = customers_df.astype('category').cat.codes\n",
    "cust_zip = np.array(list(zip(customers_df.astype('category'), cust_codes)))\n",
    "# Разметим идентификаторы покупателей их кодами \n",
    "cust_map = pd.Series(cust_zip[:, 0], index=cust_zip[:, 1].astype('int32')).drop_duplicates()"
   ]
  },
  {
   "cell_type": "code",
   "execution_count": 22,
   "metadata": {},
   "outputs": [],
   "source": [
    "# Закодируем идентификаторы товаров\n",
    "prod_codes = products_df.astype('category').cat.codes\n",
    "prod_zip = np.array(list(zip(products_df.astype('category'), prod_codes)))\n",
    "# Разметим идентификаторы товаров их кодами \n",
    "prod_map = pd.Series(prod_zip[:, 0], index=prod_zip[:, 1].astype('int32')).drop_duplicates()"
   ]
  },
  {
   "cell_type": "code",
   "execution_count": 23,
   "metadata": {},
   "outputs": [
    {
     "data": {
      "text/plain": [
       "6954     A1YC9XEDFKXPLK\n",
       "9541     A2B1OJ22IYM3NR\n",
       "1455     A17BUUBOU0598B\n",
       "11986    A2NEVXUACYIECB\n",
       "4571     A1MI9FDCNB3CMR\n",
       "dtype: object"
      ]
     },
     "execution_count": 23,
     "metadata": {},
     "output_type": "execute_result"
    }
   ],
   "source": [
    "cust_map.head()"
   ]
  },
  {
   "cell_type": "code",
   "execution_count": 24,
   "metadata": {
    "scrolled": false
   },
   "outputs": [
    {
     "data": {
      "text/plain": [
       "43     B00006HO3L\n",
       "6      B00001W0DH\n",
       "7      B00001W0DT\n",
       "45     B00006HOLL\n",
       "196    B0002CZVKA\n",
       "dtype: object"
      ]
     },
     "execution_count": 24,
     "metadata": {},
     "output_type": "execute_result"
    }
   ],
   "source": [
    "prod_map.head()"
   ]
  },
  {
   "cell_type": "markdown",
   "metadata": {},
   "source": [
    "#### Создадим матрицу взаимодействия customer-product."
   ]
  },
  {
   "cell_type": "code",
   "execution_count": 25,
   "metadata": {},
   "outputs": [],
   "source": [
    "ratings = df_short['rating'].to_list()"
   ]
  },
  {
   "cell_type": "code",
   "execution_count": 26,
   "metadata": {},
   "outputs": [
    {
     "data": {
      "text/plain": [
       "(27530, 10620)"
      ]
     },
     "execution_count": 26,
     "metadata": {},
     "output_type": "execute_result"
    }
   ],
   "source": [
    "interact_sparse = sparse.csr_matrix((ratings, (cust_codes, prod_codes)), shape=(n_customers, n_products))\n",
    "\n",
    "interact_sparse.shape"
   ]
  },
  {
   "cell_type": "markdown",
   "metadata": {},
   "source": [
    "#### Создадим тренировочные данные, обнулив рейтинги с большим временем создания. Для тренировки возьмем 80% ненулевых значений."
   ]
  },
  {
   "cell_type": "code",
   "execution_count": 27,
   "metadata": {},
   "outputs": [],
   "source": [
    "nonzero_pairs = list(zip(cust_codes,prod_codes))"
   ]
  },
  {
   "cell_type": "code",
   "execution_count": 28,
   "metadata": {},
   "outputs": [],
   "source": [
    "pct_train= 0.8\n",
    "n_pairs = len(nonzero_pairs)\n",
    "training_set = interact_sparse.copy() "
   ]
  },
  {
   "cell_type": "code",
   "execution_count": 29,
   "metadata": {},
   "outputs": [
    {
     "name": "stdout",
     "output_type": "stream",
     "text": [
      "43832\n"
     ]
    }
   ],
   "source": [
    "num_samples = int(np.ceil((1 - pct_train)*len(nonzero_pairs)))\n",
    "print(num_samples)\n",
    "samples = nonzero_pairs[-num_samples:]\n",
    "user_inds = [index[0] for index in samples] \n",
    "item_inds = [index[1] for index in samples] \n",
    "\n",
    "training_set[user_inds, item_inds] = 0 \n",
    "training_set.eliminate_zeros() "
   ]
  },
  {
   "cell_type": "markdown",
   "metadata": {},
   "source": [
    "#### Тестовые данные - матрица откликов"
   ]
  },
  {
   "cell_type": "code",
   "execution_count": 30,
   "metadata": {},
   "outputs": [],
   "source": [
    "test_set = interact_sparse.copy()\n",
    "test_set[test_set != 0] = 1"
   ]
  },
  {
   "cell_type": "markdown",
   "metadata": {},
   "source": [
    "#### Построим факторизацию матрицы взаимодействий для тренировочных данных"
   ]
  },
  {
   "cell_type": "code",
   "execution_count": 31,
   "metadata": {},
   "outputs": [
    {
     "data": {
      "text/plain": [
       "<lightfm.lightfm.LightFM at 0x7f580a787310>"
      ]
     },
     "execution_count": 31,
     "metadata": {},
     "output_type": "execute_result"
    }
   ],
   "source": [
    "from lightfm import LightFM\n",
    "\n",
    "model = LightFM(loss='warp')\n",
    "\n",
    "model.fit_partial(training_set, epochs=40, num_threads=4)"
   ]
  },
  {
   "cell_type": "markdown",
   "metadata": {},
   "source": [
    "#### Оценим производительность модели."
   ]
  },
  {
   "cell_type": "code",
   "execution_count": 32,
   "metadata": {},
   "outputs": [],
   "source": [
    "from lightfm.evaluation import auc_score"
   ]
  },
  {
   "cell_type": "code",
   "execution_count": 33,
   "metadata": {},
   "outputs": [
    {
     "name": "stdout",
     "output_type": "stream",
     "text": [
      "0.97009915\n"
     ]
    }
   ],
   "source": [
    "# усредненная оценка на тренировочном наборе \n",
    "\n",
    "train_auc = auc_score(model, training_set).mean()\n",
    "\n",
    "print(train_auc)"
   ]
  },
  {
   "cell_type": "code",
   "execution_count": 34,
   "metadata": {},
   "outputs": [
    {
     "name": "stdout",
     "output_type": "stream",
     "text": [
      "0.91689897\n"
     ]
    }
   ],
   "source": [
    "# усредненная оценка на тестовом наборе \n",
    "\n",
    "test_auc = auc_score(model, test_set).mean()\n",
    "\n",
    "print(test_auc)"
   ]
  },
  {
   "cell_type": "markdown",
   "metadata": {},
   "source": [
    "### Коллаборативная фильтрация"
   ]
  },
  {
   "cell_type": "code",
   "execution_count": 35,
   "metadata": {},
   "outputs": [],
   "source": [
    "from sklearn.metrics.pairwise import cosine_similarity"
   ]
  },
  {
   "cell_type": "markdown",
   "metadata": {},
   "source": [
    "#### Поиск 5 наиболее похожих товаров на заданный товар"
   ]
  },
  {
   "cell_type": "code",
   "execution_count": 36,
   "metadata": {},
   "outputs": [],
   "source": [
    "cos_sim_matr = cosine_similarity(model.item_embeddings)"
   ]
  },
  {
   "cell_type": "code",
   "execution_count": 37,
   "metadata": {},
   "outputs": [
    {
     "data": {
      "text/plain": [
       "(10620, 10620)"
      ]
     },
     "execution_count": 37,
     "metadata": {},
     "output_type": "execute_result"
    }
   ],
   "source": [
    "cos_sim_matr.shape"
   ]
  },
  {
   "cell_type": "code",
   "execution_count": 38,
   "metadata": {},
   "outputs": [],
   "source": [
    "def item_to_items_recommendations(productID):\n",
    "    item_id = np.where(products == productID)[0][0]\n",
    "    cos_sim = cos_sim_matr[item_id]\n",
    "    inds_sim =  cos_sim.argsort()[-5:][::-1]\n",
    "    top_items = prod_map.iloc[inds_sim].to_list()\n",
    "    return top_items"
   ]
  },
  {
   "cell_type": "code",
   "execution_count": 39,
   "metadata": {},
   "outputs": [
    {
     "name": "stdout",
     "output_type": "stream",
     "text": [
      "['B00001W0DT', 'B000VZ4HRG', 'B0002E3DNU', 'B007K7LY4M', 'B003QTM9O2']\n"
     ]
    }
   ],
   "source": [
    "# Пример применения\n",
    "productID = 'B00001W0DT'\n",
    "print(item_to_items_recommendations(productID))"
   ]
  },
  {
   "cell_type": "markdown",
   "metadata": {},
   "source": [
    "#### Топ-10 рекомендуемых заданному покупателю товаров"
   ]
  },
  {
   "cell_type": "code",
   "execution_count": 40,
   "metadata": {},
   "outputs": [],
   "source": [
    "def recommended_items(customerID):\n",
    "    \n",
    "    user_id = np.where(customers == customerID)[0][0]\n",
    "      \n",
    "    scores = model.predict(user_id, np.arange(n_products))\n",
    "    ids = np.argsort(-scores)[:10]\n",
    "    \n",
    "    top_items = prod_map.iloc[ids].to_list()\n",
    "    return top_items   \n",
    "   "
   ]
  },
  {
   "cell_type": "code",
   "execution_count": 41,
   "metadata": {},
   "outputs": [
    {
     "name": "stdout",
     "output_type": "stream",
     "text": [
      "['B000MWWT6E', 'B0002KZHRO', 'B0002CZVZK', 'B000MJ9EBA', 'B0002IHFI0', 'B00EPWAQS0', 'B004OZ0BLU', 'B003P15MTK', 'B0002CZUIS', 'B0002F787G']\n"
     ]
    }
   ],
   "source": [
    "customerID = 'A2B1OJ22IYM3NR'\n",
    "print(recommended_items(customerID))"
   ]
  }
 ],
 "metadata": {
  "kernelspec": {
   "display_name": "Python 3",
   "language": "python",
   "name": "python3"
  },
  "language_info": {
   "codemirror_mode": {
    "name": "ipython",
    "version": 3
   },
   "file_extension": ".py",
   "mimetype": "text/x-python",
   "name": "python",
   "nbconvert_exporter": "python",
   "pygments_lexer": "ipython3",
   "version": "3.7.4"
  }
 },
 "nbformat": 4,
 "nbformat_minor": 2
}
