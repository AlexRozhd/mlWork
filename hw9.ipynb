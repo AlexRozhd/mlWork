{
 "cells": [
  {
   "cell_type": "markdown",
   "metadata": {},
   "source": [
    "Чтобы потренироваться в применении основных алгоритмов кластеризации возьмем датасет с уже размеченными классами.\n",
    "В этом датасете приводятся обработанные спутниковые снимки местности.\n",
    "Снимки классифицируются по типам растительности шести видов (занумерованными цифрами 1,2,3,4,5,7). "
   ]
  },
  {
   "cell_type": "code",
   "execution_count": 1,
   "metadata": {},
   "outputs": [],
   "source": [
    "import pandas as pd\n",
    "import matplotlib.pyplot as plt\n",
    "%matplotlib inline\n",
    "import numpy as np\n",
    "from sklearn.preprocessing import StandardScaler, MinMaxScaler"
   ]
  },
  {
   "cell_type": "code",
   "execution_count": 2,
   "metadata": {},
   "outputs": [],
   "source": [
    "dataTrain = pd.read_csv(\"sat.trn\", header = None, sep='\\s+')\n",
    "dataTest = pd.read_csv(\"sat.tst\", header = None, sep='\\s+')\n",
    "data = dataTrain.append(dataTest, ignore_index = True)"
   ]
  },
  {
   "cell_type": "code",
   "execution_count": 3,
   "metadata": {},
   "outputs": [
    {
     "data": {
      "text/html": [
       "<div>\n",
       "<style scoped>\n",
       "    .dataframe tbody tr th:only-of-type {\n",
       "        vertical-align: middle;\n",
       "    }\n",
       "\n",
       "    .dataframe tbody tr th {\n",
       "        vertical-align: top;\n",
       "    }\n",
       "\n",
       "    .dataframe thead th {\n",
       "        text-align: right;\n",
       "    }\n",
       "</style>\n",
       "<table border=\"1\" class=\"dataframe\">\n",
       "  <thead>\n",
       "    <tr style=\"text-align: right;\">\n",
       "      <th></th>\n",
       "      <th>0</th>\n",
       "      <th>1</th>\n",
       "      <th>2</th>\n",
       "      <th>3</th>\n",
       "      <th>4</th>\n",
       "      <th>5</th>\n",
       "      <th>6</th>\n",
       "      <th>7</th>\n",
       "      <th>8</th>\n",
       "      <th>9</th>\n",
       "      <th>...</th>\n",
       "      <th>27</th>\n",
       "      <th>28</th>\n",
       "      <th>29</th>\n",
       "      <th>30</th>\n",
       "      <th>31</th>\n",
       "      <th>32</th>\n",
       "      <th>33</th>\n",
       "      <th>34</th>\n",
       "      <th>35</th>\n",
       "      <th>36</th>\n",
       "    </tr>\n",
       "  </thead>\n",
       "  <tbody>\n",
       "    <tr>\n",
       "      <td>count</td>\n",
       "      <td>6435.000000</td>\n",
       "      <td>6435.000000</td>\n",
       "      <td>6435.000000</td>\n",
       "      <td>6435.000000</td>\n",
       "      <td>6435.000000</td>\n",
       "      <td>6435.000000</td>\n",
       "      <td>6435.000000</td>\n",
       "      <td>6435.000000</td>\n",
       "      <td>6435.000000</td>\n",
       "      <td>6435.000000</td>\n",
       "      <td>...</td>\n",
       "      <td>6435.000000</td>\n",
       "      <td>6435.000000</td>\n",
       "      <td>6435.000000</td>\n",
       "      <td>6435.000000</td>\n",
       "      <td>6435.000000</td>\n",
       "      <td>6435.000000</td>\n",
       "      <td>6435.000000</td>\n",
       "      <td>6435.000000</td>\n",
       "      <td>6435.000000</td>\n",
       "      <td>6435.000000</td>\n",
       "    </tr>\n",
       "    <tr>\n",
       "      <td>mean</td>\n",
       "      <td>69.400000</td>\n",
       "      <td>83.594872</td>\n",
       "      <td>99.290598</td>\n",
       "      <td>82.592696</td>\n",
       "      <td>69.150272</td>\n",
       "      <td>83.243512</td>\n",
       "      <td>99.110645</td>\n",
       "      <td>82.497125</td>\n",
       "      <td>68.912354</td>\n",
       "      <td>82.893085</td>\n",
       "      <td>...</td>\n",
       "      <td>82.660606</td>\n",
       "      <td>68.944056</td>\n",
       "      <td>83.145610</td>\n",
       "      <td>99.111888</td>\n",
       "      <td>82.618026</td>\n",
       "      <td>68.727584</td>\n",
       "      <td>82.858897</td>\n",
       "      <td>98.926030</td>\n",
       "      <td>82.505361</td>\n",
       "      <td>3.668687</td>\n",
       "    </tr>\n",
       "    <tr>\n",
       "      <td>std</td>\n",
       "      <td>13.605871</td>\n",
       "      <td>22.882234</td>\n",
       "      <td>16.645944</td>\n",
       "      <td>18.897674</td>\n",
       "      <td>13.561197</td>\n",
       "      <td>22.886495</td>\n",
       "      <td>16.664088</td>\n",
       "      <td>18.940923</td>\n",
       "      <td>13.470599</td>\n",
       "      <td>22.862255</td>\n",
       "      <td>...</td>\n",
       "      <td>18.991281</td>\n",
       "      <td>13.492684</td>\n",
       "      <td>22.847199</td>\n",
       "      <td>16.704305</td>\n",
       "      <td>19.043661</td>\n",
       "      <td>13.401603</td>\n",
       "      <td>22.816959</td>\n",
       "      <td>16.695488</td>\n",
       "      <td>19.054274</td>\n",
       "      <td>2.214052</td>\n",
       "    </tr>\n",
       "    <tr>\n",
       "      <td>min</td>\n",
       "      <td>39.000000</td>\n",
       "      <td>27.000000</td>\n",
       "      <td>53.000000</td>\n",
       "      <td>33.000000</td>\n",
       "      <td>39.000000</td>\n",
       "      <td>27.000000</td>\n",
       "      <td>50.000000</td>\n",
       "      <td>29.000000</td>\n",
       "      <td>40.000000</td>\n",
       "      <td>27.000000</td>\n",
       "      <td>...</td>\n",
       "      <td>29.000000</td>\n",
       "      <td>39.000000</td>\n",
       "      <td>27.000000</td>\n",
       "      <td>50.000000</td>\n",
       "      <td>29.000000</td>\n",
       "      <td>39.000000</td>\n",
       "      <td>27.000000</td>\n",
       "      <td>50.000000</td>\n",
       "      <td>29.000000</td>\n",
       "      <td>1.000000</td>\n",
       "    </tr>\n",
       "    <tr>\n",
       "      <td>25%</td>\n",
       "      <td>60.000000</td>\n",
       "      <td>71.000000</td>\n",
       "      <td>85.000000</td>\n",
       "      <td>69.000000</td>\n",
       "      <td>60.000000</td>\n",
       "      <td>71.000000</td>\n",
       "      <td>85.000000</td>\n",
       "      <td>69.000000</td>\n",
       "      <td>60.000000</td>\n",
       "      <td>71.000000</td>\n",
       "      <td>...</td>\n",
       "      <td>69.000000</td>\n",
       "      <td>60.000000</td>\n",
       "      <td>71.000000</td>\n",
       "      <td>85.000000</td>\n",
       "      <td>69.000000</td>\n",
       "      <td>60.000000</td>\n",
       "      <td>71.000000</td>\n",
       "      <td>85.000000</td>\n",
       "      <td>68.000000</td>\n",
       "      <td>2.000000</td>\n",
       "    </tr>\n",
       "    <tr>\n",
       "      <td>50%</td>\n",
       "      <td>68.000000</td>\n",
       "      <td>87.000000</td>\n",
       "      <td>101.000000</td>\n",
       "      <td>81.000000</td>\n",
       "      <td>68.000000</td>\n",
       "      <td>85.000000</td>\n",
       "      <td>101.000000</td>\n",
       "      <td>81.000000</td>\n",
       "      <td>67.000000</td>\n",
       "      <td>85.000000</td>\n",
       "      <td>...</td>\n",
       "      <td>81.000000</td>\n",
       "      <td>68.000000</td>\n",
       "      <td>85.000000</td>\n",
       "      <td>100.000000</td>\n",
       "      <td>81.000000</td>\n",
       "      <td>67.000000</td>\n",
       "      <td>84.000000</td>\n",
       "      <td>100.000000</td>\n",
       "      <td>81.000000</td>\n",
       "      <td>3.000000</td>\n",
       "    </tr>\n",
       "    <tr>\n",
       "      <td>75%</td>\n",
       "      <td>80.000000</td>\n",
       "      <td>103.000000</td>\n",
       "      <td>113.000000</td>\n",
       "      <td>92.000000</td>\n",
       "      <td>80.000000</td>\n",
       "      <td>103.000000</td>\n",
       "      <td>113.000000</td>\n",
       "      <td>92.000000</td>\n",
       "      <td>79.000000</td>\n",
       "      <td>102.000000</td>\n",
       "      <td>...</td>\n",
       "      <td>92.000000</td>\n",
       "      <td>79.000000</td>\n",
       "      <td>103.000000</td>\n",
       "      <td>113.000000</td>\n",
       "      <td>92.000000</td>\n",
       "      <td>79.000000</td>\n",
       "      <td>103.000000</td>\n",
       "      <td>113.000000</td>\n",
       "      <td>92.000000</td>\n",
       "      <td>5.000000</td>\n",
       "    </tr>\n",
       "    <tr>\n",
       "      <td>max</td>\n",
       "      <td>104.000000</td>\n",
       "      <td>137.000000</td>\n",
       "      <td>140.000000</td>\n",
       "      <td>154.000000</td>\n",
       "      <td>104.000000</td>\n",
       "      <td>137.000000</td>\n",
       "      <td>145.000000</td>\n",
       "      <td>157.000000</td>\n",
       "      <td>104.000000</td>\n",
       "      <td>130.000000</td>\n",
       "      <td>...</td>\n",
       "      <td>154.000000</td>\n",
       "      <td>104.000000</td>\n",
       "      <td>130.000000</td>\n",
       "      <td>145.000000</td>\n",
       "      <td>157.000000</td>\n",
       "      <td>104.000000</td>\n",
       "      <td>130.000000</td>\n",
       "      <td>145.000000</td>\n",
       "      <td>157.000000</td>\n",
       "      <td>7.000000</td>\n",
       "    </tr>\n",
       "  </tbody>\n",
       "</table>\n",
       "<p>8 rows × 37 columns</p>\n",
       "</div>"
      ],
      "text/plain": [
       "                0            1            2            3            4   \\\n",
       "count  6435.000000  6435.000000  6435.000000  6435.000000  6435.000000   \n",
       "mean     69.400000    83.594872    99.290598    82.592696    69.150272   \n",
       "std      13.605871    22.882234    16.645944    18.897674    13.561197   \n",
       "min      39.000000    27.000000    53.000000    33.000000    39.000000   \n",
       "25%      60.000000    71.000000    85.000000    69.000000    60.000000   \n",
       "50%      68.000000    87.000000   101.000000    81.000000    68.000000   \n",
       "75%      80.000000   103.000000   113.000000    92.000000    80.000000   \n",
       "max     104.000000   137.000000   140.000000   154.000000   104.000000   \n",
       "\n",
       "                5            6            7            8            9   ...  \\\n",
       "count  6435.000000  6435.000000  6435.000000  6435.000000  6435.000000  ...   \n",
       "mean     83.243512    99.110645    82.497125    68.912354    82.893085  ...   \n",
       "std      22.886495    16.664088    18.940923    13.470599    22.862255  ...   \n",
       "min      27.000000    50.000000    29.000000    40.000000    27.000000  ...   \n",
       "25%      71.000000    85.000000    69.000000    60.000000    71.000000  ...   \n",
       "50%      85.000000   101.000000    81.000000    67.000000    85.000000  ...   \n",
       "75%     103.000000   113.000000    92.000000    79.000000   102.000000  ...   \n",
       "max     137.000000   145.000000   157.000000   104.000000   130.000000  ...   \n",
       "\n",
       "                27           28           29           30           31  \\\n",
       "count  6435.000000  6435.000000  6435.000000  6435.000000  6435.000000   \n",
       "mean     82.660606    68.944056    83.145610    99.111888    82.618026   \n",
       "std      18.991281    13.492684    22.847199    16.704305    19.043661   \n",
       "min      29.000000    39.000000    27.000000    50.000000    29.000000   \n",
       "25%      69.000000    60.000000    71.000000    85.000000    69.000000   \n",
       "50%      81.000000    68.000000    85.000000   100.000000    81.000000   \n",
       "75%      92.000000    79.000000   103.000000   113.000000    92.000000   \n",
       "max     154.000000   104.000000   130.000000   145.000000   157.000000   \n",
       "\n",
       "                32           33           34           35           36  \n",
       "count  6435.000000  6435.000000  6435.000000  6435.000000  6435.000000  \n",
       "mean     68.727584    82.858897    98.926030    82.505361     3.668687  \n",
       "std      13.401603    22.816959    16.695488    19.054274     2.214052  \n",
       "min      39.000000    27.000000    50.000000    29.000000     1.000000  \n",
       "25%      60.000000    71.000000    85.000000    68.000000     2.000000  \n",
       "50%      67.000000    84.000000   100.000000    81.000000     3.000000  \n",
       "75%      79.000000   103.000000   113.000000    92.000000     5.000000  \n",
       "max     104.000000   130.000000   145.000000   157.000000     7.000000  \n",
       "\n",
       "[8 rows x 37 columns]"
      ]
     },
     "execution_count": 3,
     "metadata": {},
     "output_type": "execute_result"
    }
   ],
   "source": [
    "data.describe()\n"
   ]
  },
  {
   "cell_type": "markdown",
   "metadata": {},
   "source": [
    "Видим, что целевой признак - в последнем столбце."
   ]
  },
  {
   "cell_type": "code",
   "execution_count": 4,
   "metadata": {},
   "outputs": [
    {
     "data": {
      "text/plain": [
       "(6435, 37)"
      ]
     },
     "execution_count": 4,
     "metadata": {},
     "output_type": "execute_result"
    }
   ],
   "source": [
    "data.shape"
   ]
  },
  {
   "cell_type": "code",
   "execution_count": 5,
   "metadata": {},
   "outputs": [
    {
     "data": {
      "text/plain": [
       "1    1533\n",
       "7    1508\n",
       "3    1358\n",
       "5     707\n",
       "2     703\n",
       "4     626\n",
       "Name: 36, dtype: int64"
      ]
     },
     "execution_count": 5,
     "metadata": {},
     "output_type": "execute_result"
    }
   ],
   "source": [
    "data[data.columns[-1,]].value_counts()"
   ]
  },
  {
   "cell_type": "code",
   "execution_count": 6,
   "metadata": {},
   "outputs": [],
   "source": [
    "df = data.drop(data.columns[-1,], axis=1)"
   ]
  },
  {
   "cell_type": "code",
   "execution_count": 7,
   "metadata": {},
   "outputs": [],
   "source": [
    "classes = data[data.columns[-1,]].values.tolist()"
   ]
  },
  {
   "cell_type": "markdown",
   "metadata": {},
   "source": [
    "### Предобработка"
   ]
  },
  {
   "cell_type": "markdown",
   "metadata": {},
   "source": [
    "Промасштабируем признаки:"
   ]
  },
  {
   "cell_type": "code",
   "execution_count": 8,
   "metadata": {},
   "outputs": [],
   "source": [
    "X = StandardScaler().fit_transform(df)"
   ]
  },
  {
   "cell_type": "markdown",
   "metadata": {},
   "source": [
    "## ML"
   ]
  },
  {
   "cell_type": "markdown",
   "metadata": {},
   "source": [
    "Для оценки качества кластеризации будем использовать следующие индексы:\n",
    "- индекс достоверности $S\\_Dbw$, \n",
    "$$\n",
    "S\\_Dbw = Scatt + Dens\\_bw,\n",
    "$$\n",
    "где $Scatt$ - среднее рассеяние для кластеров, а $Dens\\_bw$ - межкластерная плотность;\n",
    "- коэффициент силуэта, $silhouette\\_score$.\n",
    "\n",
    "Для оценки того, хорошо ли наше разбиение на кластеры соответствует \"истинному\" разбиению на классы будем использовать скорректированный индекс Rand, $adjusted\\_rand\\_score$."
   ]
  },
  {
   "cell_type": "code",
   "execution_count": 9,
   "metadata": {},
   "outputs": [],
   "source": [
    "from sklearn.neighbors import NearestNeighbors"
   ]
  },
  {
   "cell_type": "code",
   "execution_count": 10,
   "metadata": {},
   "outputs": [],
   "source": [
    "from sklearn.cluster import KMeans, AgglomerativeClustering, DBSCAN\n",
    "from sklearn.mixture import GaussianMixture\n",
    "from sklearn.metrics import adjusted_rand_score, silhouette_score"
   ]
  },
  {
   "cell_type": "code",
   "execution_count": 11,
   "metadata": {},
   "outputs": [],
   "source": [
    "from s_dbw import S_Dbw"
   ]
  },
  {
   "cell_type": "code",
   "execution_count": 12,
   "metadata": {},
   "outputs": [],
   "source": [
    "range_n_clusters = range(2, 12)\n",
    "adjRSdf = pd.DataFrame(index = range_n_clusters)\n",
    "adjSltdf = pd.DataFrame(index = range_n_clusters)\n",
    "adjSDbwdf = pd.DataFrame(index = range_n_clusters)"
   ]
  },
  {
   "cell_type": "markdown",
   "metadata": {},
   "source": [
    "### DBSCAN"
   ]
  },
  {
   "cell_type": "markdown",
   "metadata": {},
   "source": [
    "Для заданного числа соседей будем искать значение $\\varepsilon$ методом 'локтя' по упорядоченному массиву средних дистанций до соседей. Для этого введем следующую функцию:"
   ]
  },
  {
   "cell_type": "code",
   "execution_count": 13,
   "metadata": {},
   "outputs": [],
   "source": [
    "def set_eps(X, n_neighbors, metric) :\n",
    "    nbrs = NearestNeighbors(n_neighbors = n_neighbors, algorithm = 'auto', metric = metric, n_jobs = -1).fit(X)\n",
    "    distances, indices = nbrs.kneighbors(X)\n",
    "    dm = np.mean(distances, axis = 1)\n",
    "    dms = np.sort(dm)\n",
    "    D = np.abs(dms[2:]-dms[1:-1]) / np.abs(dms[1:-1]-dms[:-2])\n",
    "    argEps = D.argmin()\n",
    "    eps = dms[argEps]\n",
    "    return eps"
   ]
  },
  {
   "cell_type": "markdown",
   "metadata": {},
   "source": [
    "Будем искать экстремум заданного индекса - оценки проиводительности кластеризации,  варьируя число соседей и величину $\\varepsilon$ около найденного его значения по методу \"локтя\" ($dr=1$ в случае минимизации индекса и\n",
    "$dr = -1$ в случае его максимизации)."
   ]
  },
  {
   "cell_type": "code",
   "execution_count": 14,
   "metadata": {},
   "outputs": [],
   "source": [
    "def best_DBSCAN_score(X, n_neigh_range, metric, score, dr):\n",
    "    best = {'scoreBest': dr * np.infty, 'epsBest': 0., 'nNghbBest': 0}\n",
    "    for nNghb in n_neigh_range:\n",
    "        print(\"n_neighbors : %d\" % nNghb)\n",
    "        eps = set_eps(X, nNghb, metric)\n",
    "        \n",
    "        for mult in [0.9, 1., 1.1]:\n",
    "            eps1 = mult * eps\n",
    "            print(\"  eps : %0.3f\" % eps1)\n",
    "            db = DBSCAN(eps = eps1, min_samples = nNghb, metric = metric, n_jobs = -1).fit(X)\n",
    "            labels = db.labels_\n",
    "    \n",
    "            if len(set(labels)) > 1:         \n",
    "                sc = score(X, labels, metric = metric)\n",
    "                \n",
    "                if dr * sc < dr * best['scoreBest']:\n",
    "                    best['scoreBest'] = sc\n",
    "                    best['nNghbBest'] = nNghb\n",
    "                    best['epsBest'] = eps1\n",
    "                    print(\"  score: %0.3f\" % sc)\n",
    "    return best"
   ]
  },
  {
   "cell_type": "code",
   "execution_count": 15,
   "metadata": {},
   "outputs": [],
   "source": [
    "def DBSCAN_report(best_par, metric) :\n",
    "    db = DBSCAN(eps = best_par['epsBest'], min_samples = best_par['nNghbBest'], metric = metric, n_jobs = -1).fit(X)\n",
    "    labels = db.labels_\n",
    "\n",
    "    n_clusters_ = len(set(labels)) - (1 if -1 in labels else 0)\n",
    "    n_noise_ = list(labels).count(-1)\n",
    "\n",
    "    print('Estimated number of clusters: %d' % n_clusters_)\n",
    "    print('Estimated number of noise points: %d' % n_noise_)\n",
    "    print(\"SDbw score: %0.3f\" % S_Dbw(X, labels, metric = metric))\n",
    "    print('Silhouette score: %0.3f' % silhouette_score(X, labels, metric = metric))\n",
    "    print('Adjusted rand score: %0.3f' % adjusted_rand_score(classes, labels))\n",
    "    return labels"
   ]
  },
  {
   "cell_type": "code",
   "execution_count": 16,
   "metadata": {},
   "outputs": [],
   "source": [
    "n_neigh_range = range(6,10)\n",
    "metric= 'euclidean'"
   ]
  },
  {
   "cell_type": "markdown",
   "metadata": {},
   "source": [
    "Сначала попробуем минимизировать индекс $S\\_Dbw$."
   ]
  },
  {
   "cell_type": "code",
   "execution_count": 17,
   "metadata": {},
   "outputs": [
    {
     "name": "stdout",
     "output_type": "stream",
     "text": [
      "n_neighbors : 6\n",
      "  eps : 0.850\n",
      "  score: 0.121\n",
      "  eps : 0.944\n",
      "  eps : 1.039\n",
      "n_neighbors : 7\n",
      "  eps : 1.786\n",
      "  eps : 1.984\n",
      "  eps : 2.182\n",
      "n_neighbors : 8\n",
      "  eps : 0.914\n",
      "  eps : 1.016\n",
      "  eps : 1.118\n",
      "n_neighbors : 9\n",
      "  eps : 0.850\n",
      "  score: 0.109\n",
      "  eps : 0.945\n",
      "  eps : 1.039\n"
     ]
    }
   ],
   "source": [
    "best_S_Dbw = best_DBSCAN_score(X, n_neigh_range, metric, S_Dbw, 1)"
   ]
  },
  {
   "cell_type": "code",
   "execution_count": 18,
   "metadata": {
    "scrolled": true
   },
   "outputs": [
    {
     "name": "stdout",
     "output_type": "stream",
     "text": [
      "Estimated number of clusters: 6\n",
      "Estimated number of noise points: 6362\n",
      "SDbw score: 0.109\n",
      "Silhouette score: -0.117\n",
      "Adjusted rand score: -0.002\n"
     ]
    }
   ],
   "source": [
    "labels = DBSCAN_report(best_S_Dbw, metric)"
   ]
  },
  {
   "cell_type": "markdown",
   "metadata": {},
   "source": [
    "Видим, что хотя количество кластеров определилось правильно, но почти все точки оказались \"шумом\"."
   ]
  },
  {
   "cell_type": "code",
   "execution_count": 19,
   "metadata": {},
   "outputs": [
    {
     "data": {
      "text/plain": [
       "(array([-1,  0,  1,  2,  3,  4,  5]),\n",
       " array([6362,   18,    6,   23,    6,   10,   10]))"
      ]
     },
     "execution_count": 19,
     "metadata": {},
     "output_type": "execute_result"
    }
   ],
   "source": [
    "np.unique(labels, return_counts=True)"
   ]
  },
  {
   "cell_type": "markdown",
   "metadata": {},
   "source": [
    "Теперь посмотрим, что дает максимизация индекса $silhouette\\_score$."
   ]
  },
  {
   "cell_type": "code",
   "execution_count": 20,
   "metadata": {},
   "outputs": [
    {
     "name": "stdout",
     "output_type": "stream",
     "text": [
      "n_neighbors : 6\n",
      "  eps : 0.850\n",
      "  score: -0.108\n",
      "  eps : 0.944\n",
      "  eps : 1.039\n",
      "n_neighbors : 7\n",
      "  eps : 1.786\n",
      "  eps : 1.984\n",
      "  score: 0.188\n",
      "  eps : 2.182\n",
      "n_neighbors : 8\n",
      "  eps : 0.914\n",
      "  eps : 1.016\n",
      "  eps : 1.118\n",
      "n_neighbors : 9\n",
      "  eps : 0.850\n",
      "  eps : 0.945\n",
      "  eps : 1.039\n"
     ]
    }
   ],
   "source": [
    "best_silhouette = best_DBSCAN_score(X, n_neigh_range, metric, silhouette_score, -1)"
   ]
  },
  {
   "cell_type": "code",
   "execution_count": 21,
   "metadata": {
    "scrolled": true
   },
   "outputs": [
    {
     "name": "stdout",
     "output_type": "stream",
     "text": [
      "Estimated number of clusters: 4\n",
      "Estimated number of noise points: 638\n",
      "SDbw score: 0.495\n",
      "Silhouette score: 0.188\n",
      "Adjusted rand score: 0.100\n"
     ]
    }
   ],
   "source": [
    "labels = DBSCAN_report(best_silhouette, metric)"
   ]
  },
  {
   "cell_type": "markdown",
   "metadata": {},
   "source": [
    "Видим, что все найденные индексы далеки от своих наилучших значений."
   ]
  },
  {
   "cell_type": "code",
   "execution_count": 22,
   "metadata": {},
   "outputs": [
    {
     "data": {
      "text/plain": [
       "(array([-1,  0,  1,  2,  3]), array([ 638, 5376,  407,    7,    7]))"
      ]
     },
     "execution_count": 22,
     "metadata": {},
     "output_type": "execute_result"
    }
   ],
   "source": [
    "np.unique(labels, return_counts=True)"
   ]
  },
  {
   "cell_type": "markdown",
   "metadata": {},
   "source": [
    "## KMeans"
   ]
  },
  {
   "cell_type": "code",
   "execution_count": 23,
   "metadata": {},
   "outputs": [],
   "source": [
    "SDbw = []\n",
    "silhouette = []\n",
    "adjRandSc = []\n",
    " \n",
    "for n_clusters in range_n_clusters:\n",
    "    km = KMeans(n_clusters = n_clusters, n_jobs = -1, verbose = 1, random_state = 42) \n",
    "    labels = km.fit_predict(X)\n",
    "    SDbws = S_Dbw(X, labels)\n",
    "    SDbw.append(SDbws)\n",
    "    silhouette_avg = silhouette_score(X, labels)\n",
    "    silhouette.append(silhouette_avg)\n",
    "    adjRandSc_avg = adjusted_rand_score(classes, labels)\n",
    "    adjRandSc.append(adjRandSc_avg)    "
   ]
  },
  {
   "cell_type": "code",
   "execution_count": 24,
   "metadata": {},
   "outputs": [
    {
     "data": {
      "text/plain": [
       "Text(0, 0.5, 'silhouette score')"
      ]
     },
     "execution_count": 24,
     "metadata": {},
     "output_type": "execute_result"
    },
    {
     "data": {
      "image/png": "[encoded data removed]",
      "text/plain": [
       "<Figure size 432x288 with 1 Axes>"
      ]
     },
     "metadata": {
      "needs_background": "light"
     },
     "output_type": "display_data"
    }
   ],
   "source": [
    "plt.plot(range_n_clusters,  silhouette)\n",
    "plt.xlabel('k')\n",
    "plt.ylabel('silhouette score')"
   ]
  },
  {
   "cell_type": "code",
   "execution_count": 25,
   "metadata": {},
   "outputs": [
    {
     "data": {
      "text/plain": [
       "Text(0, 0.5, 'S_Dbw')"
      ]
     },
     "execution_count": 25,
     "metadata": {},
     "output_type": "execute_result"
    },
    {
     "data": {
      "image/png": "[encoded data removed]",
      "text/plain": [
       "<Figure size 432x288 with 1 Axes>"
      ]
     },
     "metadata": {
      "needs_background": "light"
     },
     "output_type": "display_data"
    }
   ],
   "source": [
    "plt.plot(range_n_clusters,  SDbw)\n",
    "plt.xlabel('k')\n",
    "plt.ylabel('S_Dbw')"
   ]
  },
  {
   "cell_type": "code",
   "execution_count": 26,
   "metadata": {},
   "outputs": [
    {
     "data": {
      "text/plain": [
       "Text(0, 0.5, 'adj. Rand score')"
      ]
     },
     "execution_count": 26,
     "metadata": {},
     "output_type": "execute_result"
    },
    {
     "data": {
      "image/png": "[encoded data removed]",
      "text/plain": [
       "<Figure size 432x288 with 1 Axes>"
      ]
     },
     "metadata": {
      "needs_background": "light"
     },
     "output_type": "display_data"
    }
   ],
   "source": [
    "plt.plot(range_n_clusters,  adjRandSc)\n",
    "plt.xlabel('k')\n",
    "plt.ylabel('adj. Rand score')"
   ]
  },
  {
   "cell_type": "code",
   "execution_count": 27,
   "metadata": {},
   "outputs": [
    {
     "data": {
      "text/html": [
       "<div>\n",
       "<style scoped>\n",
       "    .dataframe tbody tr th:only-of-type {\n",
       "        vertical-align: middle;\n",
       "    }\n",
       "\n",
       "    .dataframe tbody tr th {\n",
       "        vertical-align: top;\n",
       "    }\n",
       "\n",
       "    .dataframe thead th {\n",
       "        text-align: right;\n",
       "    }\n",
       "</style>\n",
       "<table border=\"1\" class=\"dataframe\">\n",
       "  <thead>\n",
       "    <tr style=\"text-align: right;\">\n",
       "      <th></th>\n",
       "      <th>adj. Rand score</th>\n",
       "      <th>Silhouette</th>\n",
       "      <th>S_Dbw</th>\n",
       "    </tr>\n",
       "  </thead>\n",
       "  <tbody>\n",
       "    <tr>\n",
       "      <td>2</td>\n",
       "      <td>0.191959</td>\n",
       "      <td>0.346910</td>\n",
       "      <td>0.750592</td>\n",
       "    </tr>\n",
       "    <tr>\n",
       "      <td>3</td>\n",
       "      <td>0.293505</td>\n",
       "      <td>0.437332</td>\n",
       "      <td>0.631317</td>\n",
       "    </tr>\n",
       "    <tr>\n",
       "      <td>4</td>\n",
       "      <td>0.459169</td>\n",
       "      <td>0.395397</td>\n",
       "      <td>0.559879</td>\n",
       "    </tr>\n",
       "    <tr>\n",
       "      <td>5</td>\n",
       "      <td>0.462151</td>\n",
       "      <td>0.331865</td>\n",
       "      <td>0.508784</td>\n",
       "    </tr>\n",
       "    <tr>\n",
       "      <td>6</td>\n",
       "      <td>0.529365</td>\n",
       "      <td>0.352249</td>\n",
       "      <td>0.478403</td>\n",
       "    </tr>\n",
       "    <tr>\n",
       "      <td>7</td>\n",
       "      <td>0.563240</td>\n",
       "      <td>0.331512</td>\n",
       "      <td>0.458585</td>\n",
       "    </tr>\n",
       "    <tr>\n",
       "      <td>8</td>\n",
       "      <td>0.431974</td>\n",
       "      <td>0.298151</td>\n",
       "      <td>0.440188</td>\n",
       "    </tr>\n",
       "    <tr>\n",
       "      <td>9</td>\n",
       "      <td>0.418721</td>\n",
       "      <td>0.281106</td>\n",
       "      <td>0.440011</td>\n",
       "    </tr>\n",
       "    <tr>\n",
       "      <td>10</td>\n",
       "      <td>0.456179</td>\n",
       "      <td>0.274483</td>\n",
       "      <td>0.425892</td>\n",
       "    </tr>\n",
       "    <tr>\n",
       "      <td>11</td>\n",
       "      <td>0.446201</td>\n",
       "      <td>0.278656</td>\n",
       "      <td>0.438713</td>\n",
       "    </tr>\n",
       "  </tbody>\n",
       "</table>\n",
       "</div>"
      ],
      "text/plain": [
       "    adj. Rand score  Silhouette     S_Dbw\n",
       "2          0.191959    0.346910  0.750592\n",
       "3          0.293505    0.437332  0.631317\n",
       "4          0.459169    0.395397  0.559879\n",
       "5          0.462151    0.331865  0.508784\n",
       "6          0.529365    0.352249  0.478403\n",
       "7          0.563240    0.331512  0.458585\n",
       "8          0.431974    0.298151  0.440188\n",
       "9          0.418721    0.281106  0.440011\n",
       "10         0.456179    0.274483  0.425892\n",
       "11         0.446201    0.278656  0.438713"
      ]
     },
     "execution_count": 27,
     "metadata": {},
     "output_type": "execute_result"
    }
   ],
   "source": [
    "adjRSdf['kMeans'] = adjRandSc\n",
    "adjSltdf['kMeans'] = silhouette\n",
    "adjSDbwdf['kMeans'] = SDbw\n",
    "kMeansDf = pd.DataFrame(adjRandSc, range_n_clusters, ['adj. Rand score'])\n",
    "kMeansDf['Silhouette'] = silhouette\n",
    "kMeansDf['S_Dbw'] = SDbw\n",
    "kMeansDf"
   ]
  },
  {
   "cell_type": "markdown",
   "metadata": {},
   "source": [
    "Мы видим, что метод kMeans по-другому \"отработал\" на данном датасете, чем DBSCAN:\n",
    "индекс $adjusted\\_rand\\_score$ близок на \"правильном\" количестве кластеров (k=6) к своему максимальному значению,\n",
    "индекс $silhouette$ имеет локальный максимум при k=6, при этом индекс  $S\\_Dbw$ стал хуже."
   ]
  },
  {
   "cell_type": "markdown",
   "metadata": {},
   "source": [
    "## GMM"
   ]
  },
  {
   "cell_type": "markdown",
   "metadata": {},
   "source": [
    "Для оценки качества кластеризации методом GMM будем также использовать BIC (байесовский информационный критерий)."
   ]
  },
  {
   "cell_type": "code",
   "execution_count": 28,
   "metadata": {
    "scrolled": true
   },
   "outputs": [
    {
     "name": "stdout",
     "output_type": "stream",
     "text": [
      "Initialization 0\n",
      "  Iteration 10\n",
      "Initialization converged: True\n",
      "Initialization 0\n",
      "  Iteration 10\n",
      "  Iteration 20\n",
      "  Iteration 30\n",
      "Initialization converged: True\n",
      "Initialization 0\n",
      "  Iteration 10\n",
      "Initialization converged: True\n",
      "Initialization 0\n",
      "  Iteration 10\n",
      "Initialization converged: True\n",
      "Initialization 0\n",
      "  Iteration 10\n",
      "  Iteration 20\n",
      "Initialization converged: True\n",
      "Initialization 0\n",
      "  Iteration 10\n",
      "  Iteration 20\n",
      "  Iteration 30\n",
      "Initialization converged: True\n",
      "Initialization 0\n",
      "  Iteration 10\n",
      "  Iteration 20\n",
      "  Iteration 30\n",
      "Initialization converged: True\n",
      "Initialization 0\n",
      "  Iteration 10\n",
      "  Iteration 20\n",
      "  Iteration 30\n",
      "  Iteration 40\n",
      "Initialization converged: True\n",
      "Initialization 0\n",
      "  Iteration 10\n",
      "  Iteration 20\n",
      "  Iteration 30\n",
      "  Iteration 40\n",
      "  Iteration 50\n",
      "  Iteration 60\n",
      "  Iteration 70\n",
      "  Iteration 80\n",
      "Initialization converged: True\n",
      "Initialization 0\n",
      "  Iteration 10\n",
      "  Iteration 20\n",
      "Initialization converged: True\n"
     ]
    }
   ],
   "source": [
    "lowest_bic = np.infty\n",
    "bic = []\n",
    "adjRandSc = []\n",
    "silhouette = []\n",
    "\n",
    "SDbw = []\n",
    "for n_components in range_n_clusters:\n",
    "    gmm = GaussianMixture(n_components = n_components, verbose = 1, random_state = 42)\n",
    "    gmm.fit(X)\n",
    "    labels = gmm.predict(X)\n",
    "    bic_cur = gmm.bic(X)\n",
    "    bic.append(bic_cur)\n",
    "    silhouette_avg = silhouette_score(X, labels)\n",
    "    silhouette.append(silhouette_avg)\n",
    "    adjRandSc_avg = adjusted_rand_score(classes, labels)\n",
    "    adjRandSc.append(adjRandSc_avg)\n",
    "    SDbws = S_Dbw(X, labels)\n",
    "    SDbw.append(SDbws)"
   ]
  },
  {
   "cell_type": "code",
   "execution_count": 29,
   "metadata": {
    "scrolled": true
   },
   "outputs": [
    {
     "data": {
      "text/plain": [
       "Text(0, 0.5, 'adjusted_rand_score')"
      ]
     },
     "execution_count": 29,
     "metadata": {},
     "output_type": "execute_result"
    },
    {
     "data": {
      "image/png": "[encoded data removed]",
      "text/plain": [
       "<Figure size 432x288 with 1 Axes>"
      ]
     },
     "metadata": {
      "needs_background": "light"
     },
     "output_type": "display_data"
    }
   ],
   "source": [
    "plt.plot(range_n_clusters,  adjRandSc)\n",
    "plt.xlabel('k')\n",
    "plt.ylabel('adjusted_rand_score')"
   ]
  },
  {
   "cell_type": "code",
   "execution_count": 30,
   "metadata": {},
   "outputs": [
    {
     "data": {
      "text/plain": [
       "Text(0, 0.5, 'BIC')"
      ]
     },
     "execution_count": 30,
     "metadata": {},
     "output_type": "execute_result"
    },
    {
     "data": {
      "image/png": "[encoded data removed]",
      "text/plain": [
       "<Figure size 432x288 with 1 Axes>"
      ]
     },
     "metadata": {
      "needs_background": "light"
     },
     "output_type": "display_data"
    }
   ],
   "source": [
    "plt.plot(range_n_clusters,  bic)\n",
    "plt.xlabel('k')\n",
    "plt.ylabel('BIC')"
   ]
  },
  {
   "cell_type": "code",
   "execution_count": 31,
   "metadata": {},
   "outputs": [
    {
     "data": {
      "text/plain": [
       "Text(0, 0.5, 'silhouette')"
      ]
     },
     "execution_count": 31,
     "metadata": {},
     "output_type": "execute_result"
    },
    {
     "data": {
      "image/png": "[encoded data removed]",
      "text/plain": [
       "<Figure size 432x288 with 1 Axes>"
      ]
     },
     "metadata": {
      "needs_background": "light"
     },
     "output_type": "display_data"
    }
   ],
   "source": [
    "plt.plot(range_n_clusters,  silhouette)\n",
    "plt.xlabel('k')\n",
    "plt.ylabel('silhouette')"
   ]
  },
  {
   "cell_type": "code",
   "execution_count": 32,
   "metadata": {
    "scrolled": true
   },
   "outputs": [
    {
     "data": {
      "text/plain": [
       "Text(0, 0.5, 'SDbw')"
      ]
     },
     "execution_count": 32,
     "metadata": {},
     "output_type": "execute_result"
    },
    {
     "data": {
      "image/png": "[encoded data removed]",
      "text/plain": [
       "<Figure size 432x288 with 1 Axes>"
      ]
     },
     "metadata": {
      "needs_background": "light"
     },
     "output_type": "display_data"
    }
   ],
   "source": [
    "plt.plot(range_n_clusters,  SDbw)\n",
    "plt.xlabel('k')\n",
    "plt.ylabel('SDbw')"
   ]
  },
  {
   "cell_type": "code",
   "execution_count": 33,
   "metadata": {},
   "outputs": [
    {
     "data": {
      "text/html": [
       "<div>\n",
       "<style scoped>\n",
       "    .dataframe tbody tr th:only-of-type {\n",
       "        vertical-align: middle;\n",
       "    }\n",
       "\n",
       "    .dataframe tbody tr th {\n",
       "        vertical-align: top;\n",
       "    }\n",
       "\n",
       "    .dataframe thead th {\n",
       "        text-align: right;\n",
       "    }\n",
       "</style>\n",
       "<table border=\"1\" class=\"dataframe\">\n",
       "  <thead>\n",
       "    <tr style=\"text-align: right;\">\n",
       "      <th></th>\n",
       "      <th>adj. Rand score</th>\n",
       "      <th>Silhouette</th>\n",
       "      <th>S_Dbw</th>\n",
       "      <th>BIC</th>\n",
       "    </tr>\n",
       "  </thead>\n",
       "  <tbody>\n",
       "    <tr>\n",
       "      <td>2</td>\n",
       "      <td>0.179709</td>\n",
       "      <td>0.273501</td>\n",
       "      <td>1.041844</td>\n",
       "      <td>-34724.495590</td>\n",
       "    </tr>\n",
       "    <tr>\n",
       "      <td>3</td>\n",
       "      <td>0.423786</td>\n",
       "      <td>0.149473</td>\n",
       "      <td>0.877344</td>\n",
       "      <td>-44768.015297</td>\n",
       "    </tr>\n",
       "    <tr>\n",
       "      <td>4</td>\n",
       "      <td>0.477593</td>\n",
       "      <td>0.118647</td>\n",
       "      <td>0.809198</td>\n",
       "      <td>-48698.168451</td>\n",
       "    </tr>\n",
       "    <tr>\n",
       "      <td>5</td>\n",
       "      <td>0.476437</td>\n",
       "      <td>0.101010</td>\n",
       "      <td>0.742275</td>\n",
       "      <td>-47694.750798</td>\n",
       "    </tr>\n",
       "    <tr>\n",
       "      <td>6</td>\n",
       "      <td>0.467898</td>\n",
       "      <td>0.086652</td>\n",
       "      <td>0.695820</td>\n",
       "      <td>-50019.130617</td>\n",
       "    </tr>\n",
       "    <tr>\n",
       "      <td>7</td>\n",
       "      <td>0.458877</td>\n",
       "      <td>0.047878</td>\n",
       "      <td>0.682631</td>\n",
       "      <td>-47862.634628</td>\n",
       "    </tr>\n",
       "    <tr>\n",
       "      <td>8</td>\n",
       "      <td>0.606292</td>\n",
       "      <td>0.173682</td>\n",
       "      <td>0.605536</td>\n",
       "      <td>-44192.265007</td>\n",
       "    </tr>\n",
       "    <tr>\n",
       "      <td>9</td>\n",
       "      <td>0.478412</td>\n",
       "      <td>0.080455</td>\n",
       "      <td>0.601864</td>\n",
       "      <td>-42775.705471</td>\n",
       "    </tr>\n",
       "    <tr>\n",
       "      <td>10</td>\n",
       "      <td>0.472718</td>\n",
       "      <td>0.073723</td>\n",
       "      <td>0.618399</td>\n",
       "      <td>-38447.402474</td>\n",
       "    </tr>\n",
       "    <tr>\n",
       "      <td>11</td>\n",
       "      <td>0.581414</td>\n",
       "      <td>0.137575</td>\n",
       "      <td>0.604649</td>\n",
       "      <td>-32092.467988</td>\n",
       "    </tr>\n",
       "  </tbody>\n",
       "</table>\n",
       "</div>"
      ],
      "text/plain": [
       "    adj. Rand score  Silhouette     S_Dbw           BIC\n",
       "2          0.179709    0.273501  1.041844 -34724.495590\n",
       "3          0.423786    0.149473  0.877344 -44768.015297\n",
       "4          0.477593    0.118647  0.809198 -48698.168451\n",
       "5          0.476437    0.101010  0.742275 -47694.750798\n",
       "6          0.467898    0.086652  0.695820 -50019.130617\n",
       "7          0.458877    0.047878  0.682631 -47862.634628\n",
       "8          0.606292    0.173682  0.605536 -44192.265007\n",
       "9          0.478412    0.080455  0.601864 -42775.705471\n",
       "10         0.472718    0.073723  0.618399 -38447.402474\n",
       "11         0.581414    0.137575  0.604649 -32092.467988"
      ]
     },
     "execution_count": 33,
     "metadata": {},
     "output_type": "execute_result"
    }
   ],
   "source": [
    "adjRSdf['GMM'] = adjRandSc\n",
    "adjSltdf['GMM'] = silhouette\n",
    "adjSDbwdf['GMM'] = SDbw\n",
    "GMMDf = pd.DataFrame(adjRandSc, range_n_clusters, ['adj. Rand score'])\n",
    "GMMDf['Silhouette'] = silhouette\n",
    "GMMDf['S_Dbw'] = SDbw\n",
    "GMMDf['BIC'] = bic\n",
    "GMMDf"
   ]
  },
  {
   "cell_type": "markdown",
   "metadata": {},
   "source": [
    "Отметим, что байесовский информационный критерий $BIC$ достиг минимального значения на \"правильном\" количестве кластеров. Индекс $adjusted\\_rand\\_score$ оказался немного ниже, а индекс $silhouette$ значительно ниже, чем при использовании метода kMeans."
   ]
  },
  {
   "cell_type": "markdown",
   "metadata": {},
   "source": [
    "## Иерархическая кластеризация"
   ]
  },
  {
   "cell_type": "code",
   "execution_count": 34,
   "metadata": {},
   "outputs": [],
   "source": [
    "linkages = [\"ward\", \"complete\", \"average\", \"single\"]\n",
    "\n",
    "aggClDf = pd.DataFrame(index=range_n_clusters)\n",
    "\n",
    "adjRandSc = []\n",
    "for n_clusters in range_n_clusters:\n",
    "    sl = []\n",
    "    for linkage in linkages:\n",
    "        ac = AgglomerativeClustering(n_clusters = n_clusters, linkage = linkage)\n",
    "        labels = ac.fit_predict(X)\n",
    "        sc = adjusted_rand_score(classes, labels)\n",
    "        sl.append(sc)\n",
    "    adjRandSc.append(np.max(sl)) \n",
    "aggClDf['adjRandSc'] = adjRandSc\n",
    "\n",
    "silhouette = []\n",
    "for n_clusters in range_n_clusters:\n",
    "    sl = []\n",
    "    for linkage in linkages:\n",
    "        ac = AgglomerativeClustering(n_clusters = n_clusters, linkage = linkage)\n",
    "        labels = ac.fit_predict(X)\n",
    "        sc = silhouette_score(X, labels)\n",
    "        sl.append(sc)\n",
    "    silhouette.append(np.max(sl)) \n",
    "aggClDf['silhouette'] = silhouette\n",
    "\n",
    "SDbw = []\n",
    "for n_clusters in range_n_clusters:\n",
    "    sl = []\n",
    "    for linkage in linkages:\n",
    "        ac = AgglomerativeClustering(n_clusters = n_clusters, linkage = linkage)\n",
    "        labels = ac.fit_predict(X)\n",
    "        sc = S_Dbw(X, labels)\n",
    "        sl.append(sc)\n",
    "    SDbw.append(np.min(sl)) \n",
    "aggClDf['S_Dbw'] = SDbw\n",
    "\n",
    "adjRSdf['AggClust'] = adjRandSc\n",
    "adjSltdf['AggClust'] = silhouette\n",
    "adjSDbwdf['AggClust'] = SDbw"
   ]
  },
  {
   "cell_type": "code",
   "execution_count": 35,
   "metadata": {},
   "outputs": [
    {
     "data": {
      "text/plain": [
       "Text(0, 0.5, 'adjusted_rand_score')"
      ]
     },
     "execution_count": 35,
     "metadata": {},
     "output_type": "execute_result"
    },
    {
     "data": {
      "image/png": "[encoded data removed]",
      "text/plain": [
       "<Figure size 432x288 with 1 Axes>"
      ]
     },
     "metadata": {
      "needs_background": "light"
     },
     "output_type": "display_data"
    }
   ],
   "source": [
    "plt.plot(range_n_clusters,  adjRandSc)\n",
    "plt.xlabel('k')\n",
    "plt.ylabel('adjusted_rand_score')"
   ]
  },
  {
   "cell_type": "code",
   "execution_count": 36,
   "metadata": {},
   "outputs": [
    {
     "data": {
      "text/plain": [
       "Text(0, 0.5, 'silhouette')"
      ]
     },
     "execution_count": 36,
     "metadata": {},
     "output_type": "execute_result"
    },
    {
     "data": {
      "image/png": "[encoded data removed]",
      "text/plain": [
       "<Figure size 432x288 with 1 Axes>"
      ]
     },
     "metadata": {
      "needs_background": "light"
     },
     "output_type": "display_data"
    }
   ],
   "source": [
    "plt.plot(range_n_clusters,  silhouette)\n",
    "plt.xlabel('k')\n",
    "plt.ylabel('silhouette')"
   ]
  },
  {
   "cell_type": "code",
   "execution_count": 37,
   "metadata": {
    "scrolled": true
   },
   "outputs": [
    {
     "data": {
      "text/plain": [
       "Text(0, 0.5, 'SDbw')"
      ]
     },
     "execution_count": 37,
     "metadata": {},
     "output_type": "execute_result"
    },
    {
     "data": {
      "image/png": "[encoded data removed]",
      "text/plain": [
       "<Figure size 432x288 with 1 Axes>"
      ]
     },
     "metadata": {
      "needs_background": "light"
     },
     "output_type": "display_data"
    }
   ],
   "source": [
    "plt.plot(range_n_clusters,  SDbw)\n",
    "plt.xlabel('k')\n",
    "plt.ylabel('SDbw')"
   ]
  },
  {
   "cell_type": "code",
   "execution_count": 38,
   "metadata": {},
   "outputs": [
    {
     "data": {
      "text/html": [
       "<div>\n",
       "<style scoped>\n",
       "    .dataframe tbody tr th:only-of-type {\n",
       "        vertical-align: middle;\n",
       "    }\n",
       "\n",
       "    .dataframe tbody tr th {\n",
       "        vertical-align: top;\n",
       "    }\n",
       "\n",
       "    .dataframe thead th {\n",
       "        text-align: right;\n",
       "    }\n",
       "</style>\n",
       "<table border=\"1\" class=\"dataframe\">\n",
       "  <thead>\n",
       "    <tr style=\"text-align: right;\">\n",
       "      <th></th>\n",
       "      <th>adjRandSc</th>\n",
       "      <th>silhouette</th>\n",
       "      <th>S_Dbw</th>\n",
       "    </tr>\n",
       "  </thead>\n",
       "  <tbody>\n",
       "    <tr>\n",
       "      <td>2</td>\n",
       "      <td>0.206617</td>\n",
       "      <td>0.468545</td>\n",
       "      <td>0.000155</td>\n",
       "    </tr>\n",
       "    <tr>\n",
       "      <td>3</td>\n",
       "      <td>0.288465</td>\n",
       "      <td>0.410508</td>\n",
       "      <td>0.000155</td>\n",
       "    </tr>\n",
       "    <tr>\n",
       "      <td>4</td>\n",
       "      <td>0.347686</td>\n",
       "      <td>0.386156</td>\n",
       "      <td>0.000155</td>\n",
       "    </tr>\n",
       "    <tr>\n",
       "      <td>5</td>\n",
       "      <td>0.482315</td>\n",
       "      <td>0.384911</td>\n",
       "      <td>0.000155</td>\n",
       "    </tr>\n",
       "    <tr>\n",
       "      <td>6</td>\n",
       "      <td>0.446303</td>\n",
       "      <td>0.364384</td>\n",
       "      <td>0.045135</td>\n",
       "    </tr>\n",
       "    <tr>\n",
       "      <td>7</td>\n",
       "      <td>0.403252</td>\n",
       "      <td>0.361469</td>\n",
       "      <td>0.037638</td>\n",
       "    </tr>\n",
       "    <tr>\n",
       "      <td>8</td>\n",
       "      <td>0.416282</td>\n",
       "      <td>0.328500</td>\n",
       "      <td>0.032284</td>\n",
       "    </tr>\n",
       "    <tr>\n",
       "      <td>9</td>\n",
       "      <td>0.401867</td>\n",
       "      <td>0.326587</td>\n",
       "      <td>0.028268</td>\n",
       "    </tr>\n",
       "    <tr>\n",
       "      <td>10</td>\n",
       "      <td>0.419825</td>\n",
       "      <td>0.324188</td>\n",
       "      <td>0.025144</td>\n",
       "    </tr>\n",
       "    <tr>\n",
       "      <td>11</td>\n",
       "      <td>0.418391</td>\n",
       "      <td>0.251299</td>\n",
       "      <td>0.022645</td>\n",
       "    </tr>\n",
       "  </tbody>\n",
       "</table>\n",
       "</div>"
      ],
      "text/plain": [
       "    adjRandSc  silhouette     S_Dbw\n",
       "2    0.206617    0.468545  0.000155\n",
       "3    0.288465    0.410508  0.000155\n",
       "4    0.347686    0.386156  0.000155\n",
       "5    0.482315    0.384911  0.000155\n",
       "6    0.446303    0.364384  0.045135\n",
       "7    0.403252    0.361469  0.037638\n",
       "8    0.416282    0.328500  0.032284\n",
       "9    0.401867    0.326587  0.028268\n",
       "10   0.419825    0.324188  0.025144\n",
       "11   0.418391    0.251299  0.022645"
      ]
     },
     "execution_count": 38,
     "metadata": {},
     "output_type": "execute_result"
    }
   ],
   "source": [
    "aggClDf"
   ]
  },
  {
   "cell_type": "code",
   "execution_count": 39,
   "metadata": {},
   "outputs": [
    {
     "name": "stdout",
     "output_type": "stream",
     "text": [
      "Adjusted Rand score\n"
     ]
    },
    {
     "data": {
      "text/html": [
       "<div>\n",
       "<style scoped>\n",
       "    .dataframe tbody tr th:only-of-type {\n",
       "        vertical-align: middle;\n",
       "    }\n",
       "\n",
       "    .dataframe tbody tr th {\n",
       "        vertical-align: top;\n",
       "    }\n",
       "\n",
       "    .dataframe thead th {\n",
       "        text-align: right;\n",
       "    }\n",
       "</style>\n",
       "<table border=\"1\" class=\"dataframe\">\n",
       "  <thead>\n",
       "    <tr style=\"text-align: right;\">\n",
       "      <th></th>\n",
       "      <th>kMeans</th>\n",
       "      <th>GMM</th>\n",
       "      <th>AggClust</th>\n",
       "    </tr>\n",
       "  </thead>\n",
       "  <tbody>\n",
       "    <tr>\n",
       "      <td>2</td>\n",
       "      <td>0.191959</td>\n",
       "      <td>0.179709</td>\n",
       "      <td>0.206617</td>\n",
       "    </tr>\n",
       "    <tr>\n",
       "      <td>3</td>\n",
       "      <td>0.293505</td>\n",
       "      <td>0.423786</td>\n",
       "      <td>0.288465</td>\n",
       "    </tr>\n",
       "    <tr>\n",
       "      <td>4</td>\n",
       "      <td>0.459169</td>\n",
       "      <td>0.477593</td>\n",
       "      <td>0.347686</td>\n",
       "    </tr>\n",
       "    <tr>\n",
       "      <td>5</td>\n",
       "      <td>0.462151</td>\n",
       "      <td>0.476437</td>\n",
       "      <td>0.482315</td>\n",
       "    </tr>\n",
       "    <tr>\n",
       "      <td>6</td>\n",
       "      <td>0.529365</td>\n",
       "      <td>0.467898</td>\n",
       "      <td>0.446303</td>\n",
       "    </tr>\n",
       "    <tr>\n",
       "      <td>7</td>\n",
       "      <td>0.563240</td>\n",
       "      <td>0.458877</td>\n",
       "      <td>0.403252</td>\n",
       "    </tr>\n",
       "    <tr>\n",
       "      <td>8</td>\n",
       "      <td>0.431974</td>\n",
       "      <td>0.606292</td>\n",
       "      <td>0.416282</td>\n",
       "    </tr>\n",
       "    <tr>\n",
       "      <td>9</td>\n",
       "      <td>0.418721</td>\n",
       "      <td>0.478412</td>\n",
       "      <td>0.401867</td>\n",
       "    </tr>\n",
       "    <tr>\n",
       "      <td>10</td>\n",
       "      <td>0.456179</td>\n",
       "      <td>0.472718</td>\n",
       "      <td>0.419825</td>\n",
       "    </tr>\n",
       "    <tr>\n",
       "      <td>11</td>\n",
       "      <td>0.446201</td>\n",
       "      <td>0.581414</td>\n",
       "      <td>0.418391</td>\n",
       "    </tr>\n",
       "  </tbody>\n",
       "</table>\n",
       "</div>"
      ],
      "text/plain": [
       "      kMeans       GMM  AggClust\n",
       "2   0.191959  0.179709  0.206617\n",
       "3   0.293505  0.423786  0.288465\n",
       "4   0.459169  0.477593  0.347686\n",
       "5   0.462151  0.476437  0.482315\n",
       "6   0.529365  0.467898  0.446303\n",
       "7   0.563240  0.458877  0.403252\n",
       "8   0.431974  0.606292  0.416282\n",
       "9   0.418721  0.478412  0.401867\n",
       "10  0.456179  0.472718  0.419825\n",
       "11  0.446201  0.581414  0.418391"
      ]
     },
     "execution_count": 39,
     "metadata": {},
     "output_type": "execute_result"
    }
   ],
   "source": [
    "print('Adjusted Rand score')\n",
    "adjRSdf"
   ]
  },
  {
   "cell_type": "code",
   "execution_count": 40,
   "metadata": {},
   "outputs": [
    {
     "name": "stdout",
     "output_type": "stream",
     "text": [
      "Silhouette score\n"
     ]
    },
    {
     "data": {
      "text/html": [
       "<div>\n",
       "<style scoped>\n",
       "    .dataframe tbody tr th:only-of-type {\n",
       "        vertical-align: middle;\n",
       "    }\n",
       "\n",
       "    .dataframe tbody tr th {\n",
       "        vertical-align: top;\n",
       "    }\n",
       "\n",
       "    .dataframe thead th {\n",
       "        text-align: right;\n",
       "    }\n",
       "</style>\n",
       "<table border=\"1\" class=\"dataframe\">\n",
       "  <thead>\n",
       "    <tr style=\"text-align: right;\">\n",
       "      <th></th>\n",
       "      <th>kMeans</th>\n",
       "      <th>GMM</th>\n",
       "      <th>AggClust</th>\n",
       "    </tr>\n",
       "  </thead>\n",
       "  <tbody>\n",
       "    <tr>\n",
       "      <td>2</td>\n",
       "      <td>0.346910</td>\n",
       "      <td>0.273501</td>\n",
       "      <td>0.468545</td>\n",
       "    </tr>\n",
       "    <tr>\n",
       "      <td>3</td>\n",
       "      <td>0.437332</td>\n",
       "      <td>0.149473</td>\n",
       "      <td>0.410508</td>\n",
       "    </tr>\n",
       "    <tr>\n",
       "      <td>4</td>\n",
       "      <td>0.395397</td>\n",
       "      <td>0.118647</td>\n",
       "      <td>0.386156</td>\n",
       "    </tr>\n",
       "    <tr>\n",
       "      <td>5</td>\n",
       "      <td>0.331865</td>\n",
       "      <td>0.101010</td>\n",
       "      <td>0.384911</td>\n",
       "    </tr>\n",
       "    <tr>\n",
       "      <td>6</td>\n",
       "      <td>0.352249</td>\n",
       "      <td>0.086652</td>\n",
       "      <td>0.364384</td>\n",
       "    </tr>\n",
       "    <tr>\n",
       "      <td>7</td>\n",
       "      <td>0.331512</td>\n",
       "      <td>0.047878</td>\n",
       "      <td>0.361469</td>\n",
       "    </tr>\n",
       "    <tr>\n",
       "      <td>8</td>\n",
       "      <td>0.298151</td>\n",
       "      <td>0.173682</td>\n",
       "      <td>0.328500</td>\n",
       "    </tr>\n",
       "    <tr>\n",
       "      <td>9</td>\n",
       "      <td>0.281106</td>\n",
       "      <td>0.080455</td>\n",
       "      <td>0.326587</td>\n",
       "    </tr>\n",
       "    <tr>\n",
       "      <td>10</td>\n",
       "      <td>0.274483</td>\n",
       "      <td>0.073723</td>\n",
       "      <td>0.324188</td>\n",
       "    </tr>\n",
       "    <tr>\n",
       "      <td>11</td>\n",
       "      <td>0.278656</td>\n",
       "      <td>0.137575</td>\n",
       "      <td>0.251299</td>\n",
       "    </tr>\n",
       "  </tbody>\n",
       "</table>\n",
       "</div>"
      ],
      "text/plain": [
       "      kMeans       GMM  AggClust\n",
       "2   0.346910  0.273501  0.468545\n",
       "3   0.437332  0.149473  0.410508\n",
       "4   0.395397  0.118647  0.386156\n",
       "5   0.331865  0.101010  0.384911\n",
       "6   0.352249  0.086652  0.364384\n",
       "7   0.331512  0.047878  0.361469\n",
       "8   0.298151  0.173682  0.328500\n",
       "9   0.281106  0.080455  0.326587\n",
       "10  0.274483  0.073723  0.324188\n",
       "11  0.278656  0.137575  0.251299"
      ]
     },
     "execution_count": 40,
     "metadata": {},
     "output_type": "execute_result"
    }
   ],
   "source": [
    "print('Silhouette score')\n",
    "adjSltdf"
   ]
  },
  {
   "cell_type": "code",
   "execution_count": 41,
   "metadata": {},
   "outputs": [
    {
     "name": "stdout",
     "output_type": "stream",
     "text": [
      "S_Dbw score\n"
     ]
    },
    {
     "data": {
      "text/html": [
       "<div>\n",
       "<style scoped>\n",
       "    .dataframe tbody tr th:only-of-type {\n",
       "        vertical-align: middle;\n",
       "    }\n",
       "\n",
       "    .dataframe tbody tr th {\n",
       "        vertical-align: top;\n",
       "    }\n",
       "\n",
       "    .dataframe thead th {\n",
       "        text-align: right;\n",
       "    }\n",
       "</style>\n",
       "<table border=\"1\" class=\"dataframe\">\n",
       "  <thead>\n",
       "    <tr style=\"text-align: right;\">\n",
       "      <th></th>\n",
       "      <th>kMeans</th>\n",
       "      <th>GMM</th>\n",
       "      <th>AggClust</th>\n",
       "    </tr>\n",
       "  </thead>\n",
       "  <tbody>\n",
       "    <tr>\n",
       "      <td>2</td>\n",
       "      <td>0.750592</td>\n",
       "      <td>1.041844</td>\n",
       "      <td>0.000155</td>\n",
       "    </tr>\n",
       "    <tr>\n",
       "      <td>3</td>\n",
       "      <td>0.631317</td>\n",
       "      <td>0.877344</td>\n",
       "      <td>0.000155</td>\n",
       "    </tr>\n",
       "    <tr>\n",
       "      <td>4</td>\n",
       "      <td>0.559879</td>\n",
       "      <td>0.809198</td>\n",
       "      <td>0.000155</td>\n",
       "    </tr>\n",
       "    <tr>\n",
       "      <td>5</td>\n",
       "      <td>0.508784</td>\n",
       "      <td>0.742275</td>\n",
       "      <td>0.000155</td>\n",
       "    </tr>\n",
       "    <tr>\n",
       "      <td>6</td>\n",
       "      <td>0.478403</td>\n",
       "      <td>0.695820</td>\n",
       "      <td>0.045135</td>\n",
       "    </tr>\n",
       "    <tr>\n",
       "      <td>7</td>\n",
       "      <td>0.458585</td>\n",
       "      <td>0.682631</td>\n",
       "      <td>0.037638</td>\n",
       "    </tr>\n",
       "    <tr>\n",
       "      <td>8</td>\n",
       "      <td>0.440188</td>\n",
       "      <td>0.605536</td>\n",
       "      <td>0.032284</td>\n",
       "    </tr>\n",
       "    <tr>\n",
       "      <td>9</td>\n",
       "      <td>0.440011</td>\n",
       "      <td>0.601864</td>\n",
       "      <td>0.028268</td>\n",
       "    </tr>\n",
       "    <tr>\n",
       "      <td>10</td>\n",
       "      <td>0.425892</td>\n",
       "      <td>0.618399</td>\n",
       "      <td>0.025144</td>\n",
       "    </tr>\n",
       "    <tr>\n",
       "      <td>11</td>\n",
       "      <td>0.438713</td>\n",
       "      <td>0.604649</td>\n",
       "      <td>0.022645</td>\n",
       "    </tr>\n",
       "  </tbody>\n",
       "</table>\n",
       "</div>"
      ],
      "text/plain": [
       "      kMeans       GMM  AggClust\n",
       "2   0.750592  1.041844  0.000155\n",
       "3   0.631317  0.877344  0.000155\n",
       "4   0.559879  0.809198  0.000155\n",
       "5   0.508784  0.742275  0.000155\n",
       "6   0.478403  0.695820  0.045135\n",
       "7   0.458585  0.682631  0.037638\n",
       "8   0.440188  0.605536  0.032284\n",
       "9   0.440011  0.601864  0.028268\n",
       "10  0.425892  0.618399  0.025144\n",
       "11  0.438713  0.604649  0.022645"
      ]
     },
     "execution_count": 41,
     "metadata": {},
     "output_type": "execute_result"
    }
   ],
   "source": [
    "print('S_Dbw score')\n",
    "adjSDbwdf"
   ]
  },
  {
   "cell_type": "markdown",
   "metadata": {},
   "source": [
    "По индексу $Ajusted Rand$  наилучший результат показал метод $kMeans$, по индексам $Silhouette$ и $S Dbw$ - метод $Agglomerative Clustering$."
   ]
  }
 ],
 "metadata": {
  "kernelspec": {
   "display_name": "Python 3",
   "language": "python",
   "name": "python3"
  },
  "language_info": {
   "codemirror_mode": {
    "name": "ipython",
    "version": 3
   },
   "file_extension": ".py",
   "mimetype": "text/x-python",
   "name": "python",
   "nbconvert_exporter": "python",
   "pygments_lexer": "ipython3",
   "version": "3.7.4"
  }
 },
 "nbformat": 4,
 "nbformat_minor": 2
}
