{
 "cells": [
  {
   "cell_type": "code",
   "execution_count": 1,
   "metadata": {},
   "outputs": [],
   "source": [
    "import pandas as pd\n",
    "import numpy as np\n",
    "import seaborn as sns\n",
    "import matplotlib.pyplot as plt\n",
    "%matplotlib inline"
   ]
  },
  {
   "cell_type": "markdown",
   "metadata": {},
   "source": [
    "Датасет уже разбит на две выборки, поэтому для нашего анализа соберем их в одну таблицу:"
   ]
  },
  {
   "cell_type": "code",
   "execution_count": 2,
   "metadata": {},
   "outputs": [],
   "source": [
    "dfTrain = pd.read_csv('aps_failure_training_set.csv', na_values='na', decimal=',')"
   ]
  },
  {
   "cell_type": "code",
   "execution_count": 3,
   "metadata": {},
   "outputs": [],
   "source": [
    "dfTest = pd.read_csv('aps_failure_test_set.csv', na_values='na', decimal=',')"
   ]
  },
  {
   "cell_type": "code",
   "execution_count": 4,
   "metadata": {},
   "outputs": [
    {
     "data": {
      "text/plain": [
       "((60000, 171), (16000, 171))"
      ]
     },
     "execution_count": 4,
     "metadata": {},
     "output_type": "execute_result"
    }
   ],
   "source": [
    "dfTrain.shape, dfTest.shape"
   ]
  },
  {
   "cell_type": "code",
   "execution_count": 5,
   "metadata": {},
   "outputs": [],
   "source": [
    "df = dfTrain.append(dfTest, ignore_index = True)"
   ]
  },
  {
   "cell_type": "code",
   "execution_count": 6,
   "metadata": {},
   "outputs": [
    {
     "data": {
      "text/plain": [
       "(76000, 171)"
      ]
     },
     "execution_count": 6,
     "metadata": {},
     "output_type": "execute_result"
    }
   ],
   "source": [
    "df.shape"
   ]
  },
  {
   "cell_type": "code",
   "execution_count": 7,
   "metadata": {},
   "outputs": [
    {
     "data": {
      "text/html": [
       "<div>\n",
       "<style scoped>\n",
       "    .dataframe tbody tr th:only-of-type {\n",
       "        vertical-align: middle;\n",
       "    }\n",
       "\n",
       "    .dataframe tbody tr th {\n",
       "        vertical-align: top;\n",
       "    }\n",
       "\n",
       "    .dataframe thead th {\n",
       "        text-align: right;\n",
       "    }\n",
       "</style>\n",
       "<table border=\"1\" class=\"dataframe\">\n",
       "  <thead>\n",
       "    <tr style=\"text-align: right;\">\n",
       "      <th></th>\n",
       "      <th>class</th>\n",
       "      <th>aa_000</th>\n",
       "      <th>ab_000</th>\n",
       "      <th>ac_000</th>\n",
       "      <th>ad_000</th>\n",
       "      <th>ae_000</th>\n",
       "      <th>af_000</th>\n",
       "      <th>ag_000</th>\n",
       "      <th>ag_001</th>\n",
       "      <th>ag_002</th>\n",
       "      <th>...</th>\n",
       "      <th>ee_002</th>\n",
       "      <th>ee_003</th>\n",
       "      <th>ee_004</th>\n",
       "      <th>ee_005</th>\n",
       "      <th>ee_006</th>\n",
       "      <th>ee_007</th>\n",
       "      <th>ee_008</th>\n",
       "      <th>ee_009</th>\n",
       "      <th>ef_000</th>\n",
       "      <th>eg_000</th>\n",
       "    </tr>\n",
       "  </thead>\n",
       "  <tbody>\n",
       "    <tr>\n",
       "      <td>0</td>\n",
       "      <td>neg</td>\n",
       "      <td>76698</td>\n",
       "      <td>NaN</td>\n",
       "      <td>2.130706e+09</td>\n",
       "      <td>280.0</td>\n",
       "      <td>0.0</td>\n",
       "      <td>0.0</td>\n",
       "      <td>0.0</td>\n",
       "      <td>0.0</td>\n",
       "      <td>0.0</td>\n",
       "      <td>...</td>\n",
       "      <td>1240520.0</td>\n",
       "      <td>493384.0</td>\n",
       "      <td>721044.0</td>\n",
       "      <td>469792.0</td>\n",
       "      <td>339156.0</td>\n",
       "      <td>157956.0</td>\n",
       "      <td>73224.0</td>\n",
       "      <td>0.0</td>\n",
       "      <td>0.0</td>\n",
       "      <td>0.0</td>\n",
       "    </tr>\n",
       "    <tr>\n",
       "      <td>1</td>\n",
       "      <td>neg</td>\n",
       "      <td>33058</td>\n",
       "      <td>NaN</td>\n",
       "      <td>0.000000e+00</td>\n",
       "      <td>NaN</td>\n",
       "      <td>0.0</td>\n",
       "      <td>0.0</td>\n",
       "      <td>0.0</td>\n",
       "      <td>0.0</td>\n",
       "      <td>0.0</td>\n",
       "      <td>...</td>\n",
       "      <td>421400.0</td>\n",
       "      <td>178064.0</td>\n",
       "      <td>293306.0</td>\n",
       "      <td>245416.0</td>\n",
       "      <td>133654.0</td>\n",
       "      <td>81140.0</td>\n",
       "      <td>97576.0</td>\n",
       "      <td>1500.0</td>\n",
       "      <td>0.0</td>\n",
       "      <td>0.0</td>\n",
       "    </tr>\n",
       "    <tr>\n",
       "      <td>2</td>\n",
       "      <td>neg</td>\n",
       "      <td>41040</td>\n",
       "      <td>NaN</td>\n",
       "      <td>2.280000e+02</td>\n",
       "      <td>100.0</td>\n",
       "      <td>0.0</td>\n",
       "      <td>0.0</td>\n",
       "      <td>0.0</td>\n",
       "      <td>0.0</td>\n",
       "      <td>0.0</td>\n",
       "      <td>...</td>\n",
       "      <td>277378.0</td>\n",
       "      <td>159812.0</td>\n",
       "      <td>423992.0</td>\n",
       "      <td>409564.0</td>\n",
       "      <td>320746.0</td>\n",
       "      <td>158022.0</td>\n",
       "      <td>95128.0</td>\n",
       "      <td>514.0</td>\n",
       "      <td>0.0</td>\n",
       "      <td>0.0</td>\n",
       "    </tr>\n",
       "    <tr>\n",
       "      <td>3</td>\n",
       "      <td>neg</td>\n",
       "      <td>12</td>\n",
       "      <td>0.0</td>\n",
       "      <td>7.000000e+01</td>\n",
       "      <td>66.0</td>\n",
       "      <td>0.0</td>\n",
       "      <td>10.0</td>\n",
       "      <td>0.0</td>\n",
       "      <td>0.0</td>\n",
       "      <td>0.0</td>\n",
       "      <td>...</td>\n",
       "      <td>240.0</td>\n",
       "      <td>46.0</td>\n",
       "      <td>58.0</td>\n",
       "      <td>44.0</td>\n",
       "      <td>10.0</td>\n",
       "      <td>0.0</td>\n",
       "      <td>0.0</td>\n",
       "      <td>0.0</td>\n",
       "      <td>4.0</td>\n",
       "      <td>32.0</td>\n",
       "    </tr>\n",
       "    <tr>\n",
       "      <td>4</td>\n",
       "      <td>neg</td>\n",
       "      <td>60874</td>\n",
       "      <td>NaN</td>\n",
       "      <td>1.368000e+03</td>\n",
       "      <td>458.0</td>\n",
       "      <td>0.0</td>\n",
       "      <td>0.0</td>\n",
       "      <td>0.0</td>\n",
       "      <td>0.0</td>\n",
       "      <td>0.0</td>\n",
       "      <td>...</td>\n",
       "      <td>622012.0</td>\n",
       "      <td>229790.0</td>\n",
       "      <td>405298.0</td>\n",
       "      <td>347188.0</td>\n",
       "      <td>286954.0</td>\n",
       "      <td>311560.0</td>\n",
       "      <td>433954.0</td>\n",
       "      <td>1218.0</td>\n",
       "      <td>0.0</td>\n",
       "      <td>0.0</td>\n",
       "    </tr>\n",
       "  </tbody>\n",
       "</table>\n",
       "<p>5 rows × 171 columns</p>\n",
       "</div>"
      ],
      "text/plain": [
       "  class  aa_000  ab_000        ac_000  ad_000  ae_000  af_000  ag_000  ag_001  \\\n",
       "0   neg   76698     NaN  2.130706e+09   280.0     0.0     0.0     0.0     0.0   \n",
       "1   neg   33058     NaN  0.000000e+00     NaN     0.0     0.0     0.0     0.0   \n",
       "2   neg   41040     NaN  2.280000e+02   100.0     0.0     0.0     0.0     0.0   \n",
       "3   neg      12     0.0  7.000000e+01    66.0     0.0    10.0     0.0     0.0   \n",
       "4   neg   60874     NaN  1.368000e+03   458.0     0.0     0.0     0.0     0.0   \n",
       "\n",
       "   ag_002  ...     ee_002    ee_003    ee_004    ee_005    ee_006    ee_007  \\\n",
       "0     0.0  ...  1240520.0  493384.0  721044.0  469792.0  339156.0  157956.0   \n",
       "1     0.0  ...   421400.0  178064.0  293306.0  245416.0  133654.0   81140.0   \n",
       "2     0.0  ...   277378.0  159812.0  423992.0  409564.0  320746.0  158022.0   \n",
       "3     0.0  ...      240.0      46.0      58.0      44.0      10.0       0.0   \n",
       "4     0.0  ...   622012.0  229790.0  405298.0  347188.0  286954.0  311560.0   \n",
       "\n",
       "     ee_008  ee_009  ef_000  eg_000  \n",
       "0   73224.0     0.0     0.0     0.0  \n",
       "1   97576.0  1500.0     0.0     0.0  \n",
       "2   95128.0   514.0     0.0     0.0  \n",
       "3       0.0     0.0     4.0    32.0  \n",
       "4  433954.0  1218.0     0.0     0.0  \n",
       "\n",
       "[5 rows x 171 columns]"
      ]
     },
     "execution_count": 7,
     "metadata": {},
     "output_type": "execute_result"
    }
   ],
   "source": [
    "df.head()"
   ]
  },
  {
   "cell_type": "markdown",
   "metadata": {},
   "source": [
    "Посмотрим на распределение целевого признака. Видим большой дисбаланс классов."
   ]
  },
  {
   "cell_type": "code",
   "execution_count": 8,
   "metadata": {},
   "outputs": [
    {
     "data": {
      "text/plain": [
       "neg    74625\n",
       "pos     1375\n",
       "Name: class, dtype: int64"
      ]
     },
     "execution_count": 8,
     "metadata": {},
     "output_type": "execute_result"
    }
   ],
   "source": [
    "vc=df['class'].value_counts()\n",
    "vc"
   ]
  },
  {
   "cell_type": "code",
   "execution_count": 9,
   "metadata": {},
   "outputs": [
    {
     "data": {
      "text/plain": [
       "<matplotlib.axes._subplots.AxesSubplot at 0x7f3316d2bc10>"
      ]
     },
     "execution_count": 9,
     "metadata": {},
     "output_type": "execute_result"
    },
    {
     "data": {
      "image/png": "[encoded data removed]",
      "text/plain": [
       "<Figure size 432x288 with 1 Axes>"
      ]
     },
     "metadata": {
      "needs_background": "light"
     },
     "output_type": "display_data"
    }
   ],
   "source": [
    "sns.countplot(df['class'])"
   ]
  },
  {
   "cell_type": "markdown",
   "metadata": {},
   "source": [
    "## EDA"
   ]
  },
  {
   "cell_type": "markdown",
   "metadata": {},
   "source": [
    "Вводим функцию для определения столбцов, в которых количество NaN превышает заданный порог:"
   ]
  },
  {
   "cell_type": "code",
   "execution_count": 10,
   "metadata": {},
   "outputs": [],
   "source": [
    "# Функция возвращает список столбцов таблицы data, \n",
    "# в которых доля ячеек с NaN больше порога threshold\n",
    "def DetectNaThr(data, threshold):\n",
    "    rowNum = data.shape[0]\n",
    "    rates = (data.isna().sum() / rowNum).sort_values(ascending = False)\n",
    "    thrLen = len(rates[rates > threshold])\n",
    "    dropList = rates.head(thrLen).index.tolist()\n",
    "    return dropList"
   ]
  },
  {
   "cell_type": "markdown",
   "metadata": {},
   "source": [
    "Удаляем столбцы, в которых NaN больше 40%"
   ]
  },
  {
   "cell_type": "code",
   "execution_count": 11,
   "metadata": {},
   "outputs": [],
   "source": [
    "dropList0 = DetectNaThr(df, 0.4)"
   ]
  },
  {
   "cell_type": "code",
   "execution_count": 12,
   "metadata": {},
   "outputs": [],
   "source": [
    "df0 = df.drop(labels = dropList0, axis = 1)"
   ]
  },
  {
   "cell_type": "markdown",
   "metadata": {},
   "source": [
    "Удаляем строки, где есть NaN"
   ]
  },
  {
   "cell_type": "code",
   "execution_count": 13,
   "metadata": {},
   "outputs": [],
   "source": [
    "df0.dropna(inplace = True)"
   ]
  },
  {
   "cell_type": "code",
   "execution_count": 14,
   "metadata": {},
   "outputs": [
    {
     "data": {
      "text/plain": [
       "(30858, 162)"
      ]
     },
     "execution_count": 14,
     "metadata": {},
     "output_type": "execute_result"
    }
   ],
   "source": [
    "df0.shape"
   ]
  },
  {
   "cell_type": "code",
   "execution_count": 15,
   "metadata": {},
   "outputs": [],
   "source": [
    "def corr_feature_detect(data, target_variable, threshold=0.8):\n",
    "    \n",
    "    corrmat = data.drop(target_variable, axis=1).corr()\n",
    "\n",
    "    corrmat = corrmat.abs().unstack().sort_values(ascending=False)\n",
    "\n",
    "    corrmat = corrmat[corrmat >= threshold]\n",
    "    corrmat = corrmat[corrmat < 1]\n",
    "\n",
    "    corrmat = pd.DataFrame(corrmat).reset_index()\n",
    "    corrmat.columns = ['feature1', 'feature2', 'corr']\n",
    "   \n",
    "    correlated_feats = []\n",
    "\n",
    "    for row in corrmat.values:\n",
    "        f1, f2, corr_value = row\n",
    "\n",
    "        if not ((f1 in correlated_feats) | (f2 in correlated_feats)):\n",
    "            f1_feat_len = corrmat[(corrmat.feature1==f1) | (corrmat.feature2==f1)].shape[0]\n",
    "            f2_feat_len = corrmat[(corrmat.feature1==f2) | (corrmat.feature2==f2)].shape[0]\n",
    "\n",
    "            if f1_feat_len >= f2_feat_len:\n",
    "                correlated_feats.append(f1)\n",
    "            else:\n",
    "                correlated_feats.append(f2)\n",
    "    \n",
    "    return correlated_feats"
   ]
  },
  {
   "cell_type": "code",
   "execution_count": 16,
   "metadata": {},
   "outputs": [],
   "source": [
    "target = 'class'"
   ]
  },
  {
   "cell_type": "markdown",
   "metadata": {},
   "source": [
    "Определяем список признаков, после выбрасывания которых в матрице корреляций все внедиагональные значения \n",
    "станут меньше 0.8:"
   ]
  },
  {
   "cell_type": "code",
   "execution_count": 17,
   "metadata": {},
   "outputs": [],
   "source": [
    "corrFeatures = corr_feature_detect(df0, target)"
   ]
  },
  {
   "cell_type": "markdown",
   "metadata": {},
   "source": [
    "... и удаляем их:"
   ]
  },
  {
   "cell_type": "code",
   "execution_count": 18,
   "metadata": {},
   "outputs": [],
   "source": [
    "df1 = df0.drop(labels = corrFeatures, axis = 1)"
   ]
  },
  {
   "cell_type": "code",
   "execution_count": 19,
   "metadata": {},
   "outputs": [
    {
     "data": {
      "text/plain": [
       "(30858, 105)"
      ]
     },
     "execution_count": 19,
     "metadata": {},
     "output_type": "execute_result"
    }
   ],
   "source": [
    "df1.shape"
   ]
  },
  {
   "cell_type": "code",
   "execution_count": 20,
   "metadata": {},
   "outputs": [],
   "source": [
    "dropColList = dropList0 + corrFeatures"
   ]
  },
  {
   "cell_type": "code",
   "execution_count": 21,
   "metadata": {},
   "outputs": [
    {
     "data": {
      "text/plain": [
       "66"
      ]
     },
     "execution_count": 21,
     "metadata": {},
     "output_type": "execute_result"
    }
   ],
   "source": [
    "len(dropColList)"
   ]
  },
  {
   "cell_type": "markdown",
   "metadata": {},
   "source": [
    "Смотрим на 'выбросы'"
   ]
  },
  {
   "cell_type": "code",
   "execution_count": 22,
   "metadata": {},
   "outputs": [
    {
     "data": {
      "text/html": [
       "<div>\n",
       "<style scoped>\n",
       "    .dataframe tbody tr th:only-of-type {\n",
       "        vertical-align: middle;\n",
       "    }\n",
       "\n",
       "    .dataframe tbody tr th {\n",
       "        vertical-align: top;\n",
       "    }\n",
       "\n",
       "    .dataframe thead th {\n",
       "        text-align: right;\n",
       "    }\n",
       "</style>\n",
       "<table border=\"1\" class=\"dataframe\">\n",
       "  <thead>\n",
       "    <tr style=\"text-align: right;\">\n",
       "      <th></th>\n",
       "      <th>ac_000</th>\n",
       "      <th>ae_000</th>\n",
       "      <th>ag_000</th>\n",
       "      <th>ag_001</th>\n",
       "      <th>ag_006</th>\n",
       "      <th>ag_007</th>\n",
       "      <th>ag_008</th>\n",
       "      <th>ag_009</th>\n",
       "      <th>ai_000</th>\n",
       "      <th>ak_000</th>\n",
       "      <th>...</th>\n",
       "      <th>ea_000</th>\n",
       "      <th>eb_000</th>\n",
       "      <th>ec_00</th>\n",
       "      <th>ee_005</th>\n",
       "      <th>ee_006</th>\n",
       "      <th>ee_007</th>\n",
       "      <th>ee_008</th>\n",
       "      <th>ee_009</th>\n",
       "      <th>ef_000</th>\n",
       "      <th>eg_000</th>\n",
       "    </tr>\n",
       "  </thead>\n",
       "  <tbody>\n",
       "    <tr>\n",
       "      <td>count</td>\n",
       "      <td>3.085800e+04</td>\n",
       "      <td>30858.000000</td>\n",
       "      <td>3.085800e+04</td>\n",
       "      <td>3.085800e+04</td>\n",
       "      <td>3.085800e+04</td>\n",
       "      <td>3.085800e+04</td>\n",
       "      <td>3.085800e+04</td>\n",
       "      <td>3.085800e+04</td>\n",
       "      <td>3.085800e+04</td>\n",
       "      <td>3.085800e+04</td>\n",
       "      <td>...</td>\n",
       "      <td>30858.000000</td>\n",
       "      <td>3.085800e+04</td>\n",
       "      <td>30858.000000</td>\n",
       "      <td>3.085800e+04</td>\n",
       "      <td>3.085800e+04</td>\n",
       "      <td>3.085800e+04</td>\n",
       "      <td>3.085800e+04</td>\n",
       "      <td>3.085800e+04</td>\n",
       "      <td>30858.000000</td>\n",
       "      <td>30858.000000</td>\n",
       "    </tr>\n",
       "    <tr>\n",
       "      <td>mean</td>\n",
       "      <td>4.941825e+08</td>\n",
       "      <td>13.005898</td>\n",
       "      <td>3.520657e+02</td>\n",
       "      <td>4.078028e+02</td>\n",
       "      <td>1.977229e+06</td>\n",
       "      <td>6.395040e+05</td>\n",
       "      <td>4.628441e+04</td>\n",
       "      <td>4.476597e+03</td>\n",
       "      <td>8.100241e+03</td>\n",
       "      <td>1.481466e+03</td>\n",
       "      <td>...</td>\n",
       "      <td>2.685851</td>\n",
       "      <td>1.235536e+07</td>\n",
       "      <td>1699.269403</td>\n",
       "      <td>4.615703e+05</td>\n",
       "      <td>3.858235e+05</td>\n",
       "      <td>3.358649e+05</td>\n",
       "      <td>1.856189e+05</td>\n",
       "      <td>1.201115e+04</td>\n",
       "      <td>0.042128</td>\n",
       "      <td>0.318491</td>\n",
       "    </tr>\n",
       "    <tr>\n",
       "      <td>std</td>\n",
       "      <td>8.993144e+08</td>\n",
       "      <td>224.192103</td>\n",
       "      <td>2.812134e+04</td>\n",
       "      <td>1.216986e+04</td>\n",
       "      <td>1.782247e+06</td>\n",
       "      <td>9.086916e+05</td>\n",
       "      <td>1.523869e+05</td>\n",
       "      <td>6.388579e+04</td>\n",
       "      <td>1.278633e+05</td>\n",
       "      <td>9.953701e+04</td>\n",
       "      <td>...</td>\n",
       "      <td>72.115213</td>\n",
       "      <td>4.111283e+07</td>\n",
       "      <td>2072.373377</td>\n",
       "      <td>5.854349e+05</td>\n",
       "      <td>7.451858e+05</td>\n",
       "      <td>1.359892e+06</td>\n",
       "      <td>2.686022e+05</td>\n",
       "      <td>3.839477e+04</td>\n",
       "      <td>2.161941</td>\n",
       "      <td>14.138448</td>\n",
       "    </tr>\n",
       "    <tr>\n",
       "      <td>min</td>\n",
       "      <td>0.000000e+00</td>\n",
       "      <td>0.000000</td>\n",
       "      <td>0.000000e+00</td>\n",
       "      <td>0.000000e+00</td>\n",
       "      <td>0.000000e+00</td>\n",
       "      <td>0.000000e+00</td>\n",
       "      <td>0.000000e+00</td>\n",
       "      <td>0.000000e+00</td>\n",
       "      <td>0.000000e+00</td>\n",
       "      <td>0.000000e+00</td>\n",
       "      <td>...</td>\n",
       "      <td>0.000000</td>\n",
       "      <td>0.000000e+00</td>\n",
       "      <td>0.000000</td>\n",
       "      <td>0.000000e+00</td>\n",
       "      <td>0.000000e+00</td>\n",
       "      <td>0.000000e+00</td>\n",
       "      <td>0.000000e+00</td>\n",
       "      <td>0.000000e+00</td>\n",
       "      <td>0.000000</td>\n",
       "      <td>0.000000</td>\n",
       "    </tr>\n",
       "    <tr>\n",
       "      <td>50%</td>\n",
       "      <td>6.340000e+02</td>\n",
       "      <td>0.000000</td>\n",
       "      <td>0.000000e+00</td>\n",
       "      <td>0.000000e+00</td>\n",
       "      <td>1.694579e+06</td>\n",
       "      <td>5.048040e+05</td>\n",
       "      <td>2.383900e+04</td>\n",
       "      <td>3.660000e+02</td>\n",
       "      <td>0.000000e+00</td>\n",
       "      <td>0.000000e+00</td>\n",
       "      <td>...</td>\n",
       "      <td>0.000000</td>\n",
       "      <td>1.927600e+06</td>\n",
       "      <td>1221.000000</td>\n",
       "      <td>3.480210e+05</td>\n",
       "      <td>2.342920e+05</td>\n",
       "      <td>1.384900e+05</td>\n",
       "      <td>1.057360e+05</td>\n",
       "      <td>9.260000e+02</td>\n",
       "      <td>0.000000</td>\n",
       "      <td>0.000000</td>\n",
       "    </tr>\n",
       "    <tr>\n",
       "      <td>99%</td>\n",
       "      <td>2.130706e+09</td>\n",
       "      <td>326.000000</td>\n",
       "      <td>0.000000e+00</td>\n",
       "      <td>0.000000e+00</td>\n",
       "      <td>7.357253e+06</td>\n",
       "      <td>3.138960e+06</td>\n",
       "      <td>3.270324e+05</td>\n",
       "      <td>3.644658e+04</td>\n",
       "      <td>1.214864e+05</td>\n",
       "      <td>0.000000e+00</td>\n",
       "      <td>...</td>\n",
       "      <td>18.000000</td>\n",
       "      <td>1.297010e+08</td>\n",
       "      <td>9685.118000</td>\n",
       "      <td>2.296794e+06</td>\n",
       "      <td>3.386248e+06</td>\n",
       "      <td>4.481814e+06</td>\n",
       "      <td>1.197236e+06</td>\n",
       "      <td>1.565035e+05</td>\n",
       "      <td>0.000000</td>\n",
       "      <td>0.000000</td>\n",
       "    </tr>\n",
       "    <tr>\n",
       "      <td>max</td>\n",
       "      <td>2.130707e+09</td>\n",
       "      <td>21050.000000</td>\n",
       "      <td>3.376892e+06</td>\n",
       "      <td>1.150462e+06</td>\n",
       "      <td>7.763627e+07</td>\n",
       "      <td>6.334675e+07</td>\n",
       "      <td>1.590070e+07</td>\n",
       "      <td>5.468048e+06</td>\n",
       "      <td>1.048350e+07</td>\n",
       "      <td>1.044492e+07</td>\n",
       "      <td>...</td>\n",
       "      <td>8506.000000</td>\n",
       "      <td>1.322457e+09</td>\n",
       "      <td>47911.540000</td>\n",
       "      <td>3.411102e+07</td>\n",
       "      <td>2.811407e+07</td>\n",
       "      <td>1.195801e+08</td>\n",
       "      <td>8.291710e+06</td>\n",
       "      <td>2.528010e+06</td>\n",
       "      <td>340.000000</td>\n",
       "      <td>1720.000000</td>\n",
       "    </tr>\n",
       "  </tbody>\n",
       "</table>\n",
       "<p>7 rows × 104 columns</p>\n",
       "</div>"
      ],
      "text/plain": [
       "             ac_000        ae_000        ag_000        ag_001        ag_006  \\\n",
       "count  3.085800e+04  30858.000000  3.085800e+04  3.085800e+04  3.085800e+04   \n",
       "mean   4.941825e+08     13.005898  3.520657e+02  4.078028e+02  1.977229e+06   \n",
       "std    8.993144e+08    224.192103  2.812134e+04  1.216986e+04  1.782247e+06   \n",
       "min    0.000000e+00      0.000000  0.000000e+00  0.000000e+00  0.000000e+00   \n",
       "50%    6.340000e+02      0.000000  0.000000e+00  0.000000e+00  1.694579e+06   \n",
       "99%    2.130706e+09    326.000000  0.000000e+00  0.000000e+00  7.357253e+06   \n",
       "max    2.130707e+09  21050.000000  3.376892e+06  1.150462e+06  7.763627e+07   \n",
       "\n",
       "             ag_007        ag_008        ag_009        ai_000        ak_000  \\\n",
       "count  3.085800e+04  3.085800e+04  3.085800e+04  3.085800e+04  3.085800e+04   \n",
       "mean   6.395040e+05  4.628441e+04  4.476597e+03  8.100241e+03  1.481466e+03   \n",
       "std    9.086916e+05  1.523869e+05  6.388579e+04  1.278633e+05  9.953701e+04   \n",
       "min    0.000000e+00  0.000000e+00  0.000000e+00  0.000000e+00  0.000000e+00   \n",
       "50%    5.048040e+05  2.383900e+04  3.660000e+02  0.000000e+00  0.000000e+00   \n",
       "99%    3.138960e+06  3.270324e+05  3.644658e+04  1.214864e+05  0.000000e+00   \n",
       "max    6.334675e+07  1.590070e+07  5.468048e+06  1.048350e+07  1.044492e+07   \n",
       "\n",
       "       ...        ea_000        eb_000         ec_00        ee_005  \\\n",
       "count  ...  30858.000000  3.085800e+04  30858.000000  3.085800e+04   \n",
       "mean   ...      2.685851  1.235536e+07   1699.269403  4.615703e+05   \n",
       "std    ...     72.115213  4.111283e+07   2072.373377  5.854349e+05   \n",
       "min    ...      0.000000  0.000000e+00      0.000000  0.000000e+00   \n",
       "50%    ...      0.000000  1.927600e+06   1221.000000  3.480210e+05   \n",
       "99%    ...     18.000000  1.297010e+08   9685.118000  2.296794e+06   \n",
       "max    ...   8506.000000  1.322457e+09  47911.540000  3.411102e+07   \n",
       "\n",
       "             ee_006        ee_007        ee_008        ee_009        ef_000  \\\n",
       "count  3.085800e+04  3.085800e+04  3.085800e+04  3.085800e+04  30858.000000   \n",
       "mean   3.858235e+05  3.358649e+05  1.856189e+05  1.201115e+04      0.042128   \n",
       "std    7.451858e+05  1.359892e+06  2.686022e+05  3.839477e+04      2.161941   \n",
       "min    0.000000e+00  0.000000e+00  0.000000e+00  0.000000e+00      0.000000   \n",
       "50%    2.342920e+05  1.384900e+05  1.057360e+05  9.260000e+02      0.000000   \n",
       "99%    3.386248e+06  4.481814e+06  1.197236e+06  1.565035e+05      0.000000   \n",
       "max    2.811407e+07  1.195801e+08  8.291710e+06  2.528010e+06    340.000000   \n",
       "\n",
       "             eg_000  \n",
       "count  30858.000000  \n",
       "mean       0.318491  \n",
       "std       14.138448  \n",
       "min        0.000000  \n",
       "50%        0.000000  \n",
       "99%        0.000000  \n",
       "max     1720.000000  \n",
       "\n",
       "[7 rows x 104 columns]"
      ]
     },
     "execution_count": 22,
     "metadata": {},
     "output_type": "execute_result"
    }
   ],
   "source": [
    "ds = df1.describe(percentiles = [0.99])\n",
    "ds"
   ]
  },
  {
   "cell_type": "code",
   "execution_count": 23,
   "metadata": {},
   "outputs": [],
   "source": [
    "# Функция возвращает список столбцов таблицы data, \n",
    "# для которых отношение prst%-процентили к максимуму меньше eps\n",
    "def DetectPrstThr(data, prst, eps):\n",
    "    P1 = prst * 0.01\n",
    "    rates = (data.quantile(P1) / data.max()).sort_values()\n",
    "    thrLen = len(rates[rates < eps])\n",
    "    dropList = rates.head(thrLen).index.tolist()\n",
    "    return dropList"
   ]
  },
  {
   "cell_type": "markdown",
   "metadata": {},
   "source": [
    "Удаляем столбцы, в которых отношение 99%-процентили к максимому меньше 0.01"
   ]
  },
  {
   "cell_type": "code",
   "execution_count": 24,
   "metadata": {},
   "outputs": [
    {
     "data": {
      "text/plain": [
       "['ag_000',\n",
       " 'ag_001',\n",
       " 'ag_009',\n",
       " 'ak_000',\n",
       " 'as_000',\n",
       " 'at_000',\n",
       " 'au_000',\n",
       " 'ay_000',\n",
       " 'ay_001',\n",
       " 'ay_003',\n",
       " 'ay_004',\n",
       " 'ay_005',\n",
       " 'ay_009',\n",
       " 'az_007',\n",
       " 'az_008',\n",
       " 'az_009',\n",
       " 'ch_000',\n",
       " 'cn_000',\n",
       " 'cn_009',\n",
       " 'cs_008',\n",
       " 'cs_009',\n",
       " 'cy_000',\n",
       " 'da_000',\n",
       " 'df_000',\n",
       " 'dg_000',\n",
       " 'dh_000',\n",
       " 'dj_000',\n",
       " 'dk_000',\n",
       " 'dl_000',\n",
       " 'dz_000',\n",
       " 'ea_000',\n",
       " 'ef_000',\n",
       " 'eg_000']"
      ]
     },
     "execution_count": 24,
     "metadata": {},
     "output_type": "execute_result"
    }
   ],
   "source": [
    "dropListP = DetectPrstThr(df1, 99, 0.01)\n",
    "dropListP.sort()\n",
    "dropListP"
   ]
  },
  {
   "cell_type": "code",
   "execution_count": 25,
   "metadata": {},
   "outputs": [],
   "source": [
    "df2 = df1.drop(labels = dropListP, axis = 1)"
   ]
  },
  {
   "cell_type": "code",
   "execution_count": 26,
   "metadata": {},
   "outputs": [],
   "source": [
    "dropColList = dropColList + dropListP"
   ]
  },
  {
   "cell_type": "code",
   "execution_count": 27,
   "metadata": {},
   "outputs": [
    {
     "data": {
      "text/plain": [
       "99"
      ]
     },
     "execution_count": 27,
     "metadata": {},
     "output_type": "execute_result"
    }
   ],
   "source": [
    "len(dropColList)"
   ]
  },
  {
   "cell_type": "code",
   "execution_count": 28,
   "metadata": {},
   "outputs": [
    {
     "data": {
      "text/plain": [
       "(30858, 72)"
      ]
     },
     "execution_count": 28,
     "metadata": {},
     "output_type": "execute_result"
    }
   ],
   "source": [
    "df2.shape"
   ]
  },
  {
   "cell_type": "code",
   "execution_count": 29,
   "metadata": {},
   "outputs": [
    {
     "data": {
      "text/html": [
       "<div>\n",
       "<style scoped>\n",
       "    .dataframe tbody tr th:only-of-type {\n",
       "        vertical-align: middle;\n",
       "    }\n",
       "\n",
       "    .dataframe tbody tr th {\n",
       "        vertical-align: top;\n",
       "    }\n",
       "\n",
       "    .dataframe thead th {\n",
       "        text-align: right;\n",
       "    }\n",
       "</style>\n",
       "<table border=\"1\" class=\"dataframe\">\n",
       "  <thead>\n",
       "    <tr style=\"text-align: right;\">\n",
       "      <th></th>\n",
       "      <th>ac_000</th>\n",
       "      <th>ae_000</th>\n",
       "      <th>ag_006</th>\n",
       "      <th>ag_007</th>\n",
       "      <th>ag_008</th>\n",
       "      <th>ai_000</th>\n",
       "      <th>al_000</th>\n",
       "      <th>ao_000</th>\n",
       "      <th>ar_000</th>\n",
       "      <th>av_000</th>\n",
       "      <th>...</th>\n",
       "      <th>ds_000</th>\n",
       "      <th>du_000</th>\n",
       "      <th>dy_000</th>\n",
       "      <th>eb_000</th>\n",
       "      <th>ec_00</th>\n",
       "      <th>ee_005</th>\n",
       "      <th>ee_006</th>\n",
       "      <th>ee_007</th>\n",
       "      <th>ee_008</th>\n",
       "      <th>ee_009</th>\n",
       "    </tr>\n",
       "  </thead>\n",
       "  <tbody>\n",
       "    <tr>\n",
       "      <td>count</td>\n",
       "      <td>3.085800e+04</td>\n",
       "      <td>30858.000000</td>\n",
       "      <td>3.085800e+04</td>\n",
       "      <td>3.085800e+04</td>\n",
       "      <td>3.085800e+04</td>\n",
       "      <td>3.085800e+04</td>\n",
       "      <td>3.085800e+04</td>\n",
       "      <td>3.085800e+04</td>\n",
       "      <td>30858.000000</td>\n",
       "      <td>30858.000000</td>\n",
       "      <td>...</td>\n",
       "      <td>3.085800e+04</td>\n",
       "      <td>3.085800e+04</td>\n",
       "      <td>3.085800e+04</td>\n",
       "      <td>3.085800e+04</td>\n",
       "      <td>30858.000000</td>\n",
       "      <td>3.085800e+04</td>\n",
       "      <td>3.085800e+04</td>\n",
       "      <td>3.085800e+04</td>\n",
       "      <td>3.085800e+04</td>\n",
       "      <td>3.085800e+04</td>\n",
       "    </tr>\n",
       "    <tr>\n",
       "      <td>mean</td>\n",
       "      <td>4.941825e+08</td>\n",
       "      <td>13.005898</td>\n",
       "      <td>1.977229e+06</td>\n",
       "      <td>6.395040e+05</td>\n",
       "      <td>4.628441e+04</td>\n",
       "      <td>8.100241e+03</td>\n",
       "      <td>4.049286e+04</td>\n",
       "      <td>3.516460e+06</td>\n",
       "      <td>0.446367</td>\n",
       "      <td>1989.236308</td>\n",
       "      <td>...</td>\n",
       "      <td>1.222550e+05</td>\n",
       "      <td>5.575837e+06</td>\n",
       "      <td>9.642279e+03</td>\n",
       "      <td>1.235536e+07</td>\n",
       "      <td>1699.269403</td>\n",
       "      <td>4.615703e+05</td>\n",
       "      <td>3.858235e+05</td>\n",
       "      <td>3.358649e+05</td>\n",
       "      <td>1.856189e+05</td>\n",
       "      <td>1.201115e+04</td>\n",
       "    </tr>\n",
       "    <tr>\n",
       "      <td>std</td>\n",
       "      <td>8.993144e+08</td>\n",
       "      <td>224.192103</td>\n",
       "      <td>1.782247e+06</td>\n",
       "      <td>9.086916e+05</td>\n",
       "      <td>1.523869e+05</td>\n",
       "      <td>1.278633e+05</td>\n",
       "      <td>2.386628e+05</td>\n",
       "      <td>4.530613e+06</td>\n",
       "      <td>5.402477</td>\n",
       "      <td>6401.970032</td>\n",
       "      <td>...</td>\n",
       "      <td>1.526373e+05</td>\n",
       "      <td>1.063425e+07</td>\n",
       "      <td>5.823936e+04</td>\n",
       "      <td>4.111283e+07</td>\n",
       "      <td>2072.373377</td>\n",
       "      <td>5.854349e+05</td>\n",
       "      <td>7.451858e+05</td>\n",
       "      <td>1.359892e+06</td>\n",
       "      <td>2.686022e+05</td>\n",
       "      <td>3.839477e+04</td>\n",
       "    </tr>\n",
       "    <tr>\n",
       "      <td>min</td>\n",
       "      <td>0.000000e+00</td>\n",
       "      <td>0.000000</td>\n",
       "      <td>0.000000e+00</td>\n",
       "      <td>0.000000e+00</td>\n",
       "      <td>0.000000e+00</td>\n",
       "      <td>0.000000e+00</td>\n",
       "      <td>0.000000e+00</td>\n",
       "      <td>2.171620e+05</td>\n",
       "      <td>0.000000</td>\n",
       "      <td>0.000000</td>\n",
       "      <td>...</td>\n",
       "      <td>0.000000e+00</td>\n",
       "      <td>0.000000e+00</td>\n",
       "      <td>0.000000e+00</td>\n",
       "      <td>0.000000e+00</td>\n",
       "      <td>0.000000</td>\n",
       "      <td>0.000000e+00</td>\n",
       "      <td>0.000000e+00</td>\n",
       "      <td>0.000000e+00</td>\n",
       "      <td>0.000000e+00</td>\n",
       "      <td>0.000000e+00</td>\n",
       "    </tr>\n",
       "    <tr>\n",
       "      <td>25%</td>\n",
       "      <td>2.560000e+02</td>\n",
       "      <td>0.000000</td>\n",
       "      <td>1.246946e+06</td>\n",
       "      <td>2.312150e+05</td>\n",
       "      <td>7.042000e+03</td>\n",
       "      <td>0.000000e+00</td>\n",
       "      <td>0.000000e+00</td>\n",
       "      <td>1.896108e+06</td>\n",
       "      <td>0.000000</td>\n",
       "      <td>306.000000</td>\n",
       "      <td>...</td>\n",
       "      <td>6.336800e+04</td>\n",
       "      <td>1.318200e+05</td>\n",
       "      <td>0.000000e+00</td>\n",
       "      <td>4.168650e+05</td>\n",
       "      <td>892.760000</td>\n",
       "      <td>2.445645e+05</td>\n",
       "      <td>1.515140e+05</td>\n",
       "      <td>6.737550e+04</td>\n",
       "      <td>1.138800e+04</td>\n",
       "      <td>0.000000e+00</td>\n",
       "    </tr>\n",
       "    <tr>\n",
       "      <td>50%</td>\n",
       "      <td>6.340000e+02</td>\n",
       "      <td>0.000000</td>\n",
       "      <td>1.694579e+06</td>\n",
       "      <td>5.048040e+05</td>\n",
       "      <td>2.383900e+04</td>\n",
       "      <td>0.000000e+00</td>\n",
       "      <td>0.000000e+00</td>\n",
       "      <td>2.274284e+06</td>\n",
       "      <td>0.000000</td>\n",
       "      <td>692.000000</td>\n",
       "      <td>...</td>\n",
       "      <td>8.820000e+04</td>\n",
       "      <td>9.947500e+05</td>\n",
       "      <td>0.000000e+00</td>\n",
       "      <td>1.927600e+06</td>\n",
       "      <td>1221.000000</td>\n",
       "      <td>3.480210e+05</td>\n",
       "      <td>2.342920e+05</td>\n",
       "      <td>1.384900e+05</td>\n",
       "      <td>1.057360e+05</td>\n",
       "      <td>9.260000e+02</td>\n",
       "    </tr>\n",
       "    <tr>\n",
       "      <td>75%</td>\n",
       "      <td>3.800000e+03</td>\n",
       "      <td>0.000000</td>\n",
       "      <td>2.309294e+06</td>\n",
       "      <td>8.183340e+05</td>\n",
       "      <td>5.293800e+04</td>\n",
       "      <td>0.000000e+00</td>\n",
       "      <td>7.560000e+02</td>\n",
       "      <td>3.415360e+06</td>\n",
       "      <td>0.000000</td>\n",
       "      <td>1796.000000</td>\n",
       "      <td>...</td>\n",
       "      <td>1.278615e+05</td>\n",
       "      <td>7.399630e+06</td>\n",
       "      <td>8.060000e+02</td>\n",
       "      <td>9.929000e+06</td>\n",
       "      <td>1830.120000</td>\n",
       "      <td>5.222460e+05</td>\n",
       "      <td>3.783975e+05</td>\n",
       "      <td>2.378580e+05</td>\n",
       "      <td>2.583315e+05</td>\n",
       "      <td>9.454000e+03</td>\n",
       "    </tr>\n",
       "    <tr>\n",
       "      <td>max</td>\n",
       "      <td>2.130707e+09</td>\n",
       "      <td>21050.000000</td>\n",
       "      <td>7.763627e+07</td>\n",
       "      <td>6.334675e+07</td>\n",
       "      <td>1.590070e+07</td>\n",
       "      <td>1.048350e+07</td>\n",
       "      <td>1.149018e+07</td>\n",
       "      <td>8.501810e+07</td>\n",
       "      <td>350.000000</td>\n",
       "      <td>299810.000000</td>\n",
       "      <td>...</td>\n",
       "      <td>3.322022e+06</td>\n",
       "      <td>1.873697e+08</td>\n",
       "      <td>3.115824e+06</td>\n",
       "      <td>1.322457e+09</td>\n",
       "      <td>47911.540000</td>\n",
       "      <td>3.411102e+07</td>\n",
       "      <td>2.811407e+07</td>\n",
       "      <td>1.195801e+08</td>\n",
       "      <td>8.291710e+06</td>\n",
       "      <td>2.528010e+06</td>\n",
       "    </tr>\n",
       "  </tbody>\n",
       "</table>\n",
       "<p>8 rows × 71 columns</p>\n",
       "</div>"
      ],
      "text/plain": [
       "             ac_000        ae_000        ag_006        ag_007        ag_008  \\\n",
       "count  3.085800e+04  30858.000000  3.085800e+04  3.085800e+04  3.085800e+04   \n",
       "mean   4.941825e+08     13.005898  1.977229e+06  6.395040e+05  4.628441e+04   \n",
       "std    8.993144e+08    224.192103  1.782247e+06  9.086916e+05  1.523869e+05   \n",
       "min    0.000000e+00      0.000000  0.000000e+00  0.000000e+00  0.000000e+00   \n",
       "25%    2.560000e+02      0.000000  1.246946e+06  2.312150e+05  7.042000e+03   \n",
       "50%    6.340000e+02      0.000000  1.694579e+06  5.048040e+05  2.383900e+04   \n",
       "75%    3.800000e+03      0.000000  2.309294e+06  8.183340e+05  5.293800e+04   \n",
       "max    2.130707e+09  21050.000000  7.763627e+07  6.334675e+07  1.590070e+07   \n",
       "\n",
       "             ai_000        al_000        ao_000        ar_000         av_000  \\\n",
       "count  3.085800e+04  3.085800e+04  3.085800e+04  30858.000000   30858.000000   \n",
       "mean   8.100241e+03  4.049286e+04  3.516460e+06      0.446367    1989.236308   \n",
       "std    1.278633e+05  2.386628e+05  4.530613e+06      5.402477    6401.970032   \n",
       "min    0.000000e+00  0.000000e+00  2.171620e+05      0.000000       0.000000   \n",
       "25%    0.000000e+00  0.000000e+00  1.896108e+06      0.000000     306.000000   \n",
       "50%    0.000000e+00  0.000000e+00  2.274284e+06      0.000000     692.000000   \n",
       "75%    0.000000e+00  7.560000e+02  3.415360e+06      0.000000    1796.000000   \n",
       "max    1.048350e+07  1.149018e+07  8.501810e+07    350.000000  299810.000000   \n",
       "\n",
       "       ...        ds_000        du_000        dy_000        eb_000  \\\n",
       "count  ...  3.085800e+04  3.085800e+04  3.085800e+04  3.085800e+04   \n",
       "mean   ...  1.222550e+05  5.575837e+06  9.642279e+03  1.235536e+07   \n",
       "std    ...  1.526373e+05  1.063425e+07  5.823936e+04  4.111283e+07   \n",
       "min    ...  0.000000e+00  0.000000e+00  0.000000e+00  0.000000e+00   \n",
       "25%    ...  6.336800e+04  1.318200e+05  0.000000e+00  4.168650e+05   \n",
       "50%    ...  8.820000e+04  9.947500e+05  0.000000e+00  1.927600e+06   \n",
       "75%    ...  1.278615e+05  7.399630e+06  8.060000e+02  9.929000e+06   \n",
       "max    ...  3.322022e+06  1.873697e+08  3.115824e+06  1.322457e+09   \n",
       "\n",
       "              ec_00        ee_005        ee_006        ee_007        ee_008  \\\n",
       "count  30858.000000  3.085800e+04  3.085800e+04  3.085800e+04  3.085800e+04   \n",
       "mean    1699.269403  4.615703e+05  3.858235e+05  3.358649e+05  1.856189e+05   \n",
       "std     2072.373377  5.854349e+05  7.451858e+05  1.359892e+06  2.686022e+05   \n",
       "min        0.000000  0.000000e+00  0.000000e+00  0.000000e+00  0.000000e+00   \n",
       "25%      892.760000  2.445645e+05  1.515140e+05  6.737550e+04  1.138800e+04   \n",
       "50%     1221.000000  3.480210e+05  2.342920e+05  1.384900e+05  1.057360e+05   \n",
       "75%     1830.120000  5.222460e+05  3.783975e+05  2.378580e+05  2.583315e+05   \n",
       "max    47911.540000  3.411102e+07  2.811407e+07  1.195801e+08  8.291710e+06   \n",
       "\n",
       "             ee_009  \n",
       "count  3.085800e+04  \n",
       "mean   1.201115e+04  \n",
       "std    3.839477e+04  \n",
       "min    0.000000e+00  \n",
       "25%    0.000000e+00  \n",
       "50%    9.260000e+02  \n",
       "75%    9.454000e+03  \n",
       "max    2.528010e+06  \n",
       "\n",
       "[8 rows x 71 columns]"
      ]
     },
     "execution_count": 29,
     "metadata": {},
     "output_type": "execute_result"
    }
   ],
   "source": [
    "df2.describe()"
   ]
  },
  {
   "cell_type": "markdown",
   "metadata": {},
   "source": [
    "Кодируем целевой признак:"
   ]
  },
  {
   "cell_type": "code",
   "execution_count": 30,
   "metadata": {},
   "outputs": [],
   "source": [
    "df3 = pd.get_dummies(df2, columns=[target], drop_first=True)"
   ]
  },
  {
   "cell_type": "code",
   "execution_count": 31,
   "metadata": {},
   "outputs": [
    {
     "data": {
      "text/html": [
       "<div>\n",
       "<style scoped>\n",
       "    .dataframe tbody tr th:only-of-type {\n",
       "        vertical-align: middle;\n",
       "    }\n",
       "\n",
       "    .dataframe tbody tr th {\n",
       "        vertical-align: top;\n",
       "    }\n",
       "\n",
       "    .dataframe thead th {\n",
       "        text-align: right;\n",
       "    }\n",
       "</style>\n",
       "<table border=\"1\" class=\"dataframe\">\n",
       "  <thead>\n",
       "    <tr style=\"text-align: right;\">\n",
       "      <th></th>\n",
       "      <th>ac_000</th>\n",
       "      <th>ae_000</th>\n",
       "      <th>ag_006</th>\n",
       "      <th>ag_007</th>\n",
       "      <th>ag_008</th>\n",
       "      <th>ai_000</th>\n",
       "      <th>al_000</th>\n",
       "      <th>ao_000</th>\n",
       "      <th>ar_000</th>\n",
       "      <th>av_000</th>\n",
       "      <th>...</th>\n",
       "      <th>du_000</th>\n",
       "      <th>dy_000</th>\n",
       "      <th>eb_000</th>\n",
       "      <th>ec_00</th>\n",
       "      <th>ee_005</th>\n",
       "      <th>ee_006</th>\n",
       "      <th>ee_007</th>\n",
       "      <th>ee_008</th>\n",
       "      <th>ee_009</th>\n",
       "      <th>class_pos</th>\n",
       "    </tr>\n",
       "  </thead>\n",
       "  <tbody>\n",
       "    <tr>\n",
       "      <td>0</td>\n",
       "      <td>2.130706e+09</td>\n",
       "      <td>0.0</td>\n",
       "      <td>3664156.0</td>\n",
       "      <td>1007684.0</td>\n",
       "      <td>25896.0</td>\n",
       "      <td>0.0</td>\n",
       "      <td>0.0</td>\n",
       "      <td>3655166.0</td>\n",
       "      <td>0.0</td>\n",
       "      <td>1012.0</td>\n",
       "      <td>...</td>\n",
       "      <td>14745580.0</td>\n",
       "      <td>0.0</td>\n",
       "      <td>2801180.0</td>\n",
       "      <td>2445.80</td>\n",
       "      <td>469792.0</td>\n",
       "      <td>339156.0</td>\n",
       "      <td>157956.0</td>\n",
       "      <td>73224.0</td>\n",
       "      <td>0.0</td>\n",
       "      <td>0</td>\n",
       "    </tr>\n",
       "    <tr>\n",
       "      <td>2</td>\n",
       "      <td>2.280000e+02</td>\n",
       "      <td>0.0</td>\n",
       "      <td>1883374.0</td>\n",
       "      <td>292936.0</td>\n",
       "      <td>12016.0</td>\n",
       "      <td>0.0</td>\n",
       "      <td>0.0</td>\n",
       "      <td>2173634.0</td>\n",
       "      <td>0.0</td>\n",
       "      <td>358.0</td>\n",
       "      <td>...</td>\n",
       "      <td>300240.0</td>\n",
       "      <td>0.0</td>\n",
       "      <td>1040120.0</td>\n",
       "      <td>1018.64</td>\n",
       "      <td>409564.0</td>\n",
       "      <td>320746.0</td>\n",
       "      <td>158022.0</td>\n",
       "      <td>95128.0</td>\n",
       "      <td>514.0</td>\n",
       "      <td>0</td>\n",
       "    </tr>\n",
       "    <tr>\n",
       "      <td>4</td>\n",
       "      <td>1.368000e+03</td>\n",
       "      <td>0.0</td>\n",
       "      <td>1800340.0</td>\n",
       "      <td>131646.0</td>\n",
       "      <td>4588.0</td>\n",
       "      <td>0.0</td>\n",
       "      <td>0.0</td>\n",
       "      <td>2618878.0</td>\n",
       "      <td>0.0</td>\n",
       "      <td>1788.0</td>\n",
       "      <td>...</td>\n",
       "      <td>457040.0</td>\n",
       "      <td>27588.0</td>\n",
       "      <td>21173050.0</td>\n",
       "      <td>1116.06</td>\n",
       "      <td>347188.0</td>\n",
       "      <td>286954.0</td>\n",
       "      <td>311560.0</td>\n",
       "      <td>433954.0</td>\n",
       "      <td>1218.0</td>\n",
       "      <td>0</td>\n",
       "    </tr>\n",
       "    <tr>\n",
       "      <td>5</td>\n",
       "      <td>2.130706e+09</td>\n",
       "      <td>0.0</td>\n",
       "      <td>1462836.0</td>\n",
       "      <td>449716.0</td>\n",
       "      <td>39000.0</td>\n",
       "      <td>0.0</td>\n",
       "      <td>0.0</td>\n",
       "      <td>1892752.0</td>\n",
       "      <td>0.0</td>\n",
       "      <td>1142.0</td>\n",
       "      <td>...</td>\n",
       "      <td>10244700.0</td>\n",
       "      <td>0.0</td>\n",
       "      <td>0.0</td>\n",
       "      <td>1013.14</td>\n",
       "      <td>300412.0</td>\n",
       "      <td>1534.0</td>\n",
       "      <td>338.0</td>\n",
       "      <td>856.0</td>\n",
       "      <td>0.0</td>\n",
       "      <td>0</td>\n",
       "    </tr>\n",
       "    <tr>\n",
       "      <td>7</td>\n",
       "      <td>2.130706e+09</td>\n",
       "      <td>0.0</td>\n",
       "      <td>4227340.0</td>\n",
       "      <td>1674278.0</td>\n",
       "      <td>59718.0</td>\n",
       "      <td>0.0</td>\n",
       "      <td>0.0</td>\n",
       "      <td>4916376.0</td>\n",
       "      <td>0.0</td>\n",
       "      <td>182.0</td>\n",
       "      <td>...</td>\n",
       "      <td>14438160.0</td>\n",
       "      <td>0.0</td>\n",
       "      <td>3537310.0</td>\n",
       "      <td>2018.08</td>\n",
       "      <td>1052166.0</td>\n",
       "      <td>1108672.0</td>\n",
       "      <td>341532.0</td>\n",
       "      <td>129504.0</td>\n",
       "      <td>7832.0</td>\n",
       "      <td>0</td>\n",
       "    </tr>\n",
       "  </tbody>\n",
       "</table>\n",
       "<p>5 rows × 72 columns</p>\n",
       "</div>"
      ],
      "text/plain": [
       "         ac_000  ae_000     ag_006     ag_007   ag_008  ai_000  al_000  \\\n",
       "0  2.130706e+09     0.0  3664156.0  1007684.0  25896.0     0.0     0.0   \n",
       "2  2.280000e+02     0.0  1883374.0   292936.0  12016.0     0.0     0.0   \n",
       "4  1.368000e+03     0.0  1800340.0   131646.0   4588.0     0.0     0.0   \n",
       "5  2.130706e+09     0.0  1462836.0   449716.0  39000.0     0.0     0.0   \n",
       "7  2.130706e+09     0.0  4227340.0  1674278.0  59718.0     0.0     0.0   \n",
       "\n",
       "      ao_000  ar_000  av_000  ...      du_000   dy_000      eb_000    ec_00  \\\n",
       "0  3655166.0     0.0  1012.0  ...  14745580.0      0.0   2801180.0  2445.80   \n",
       "2  2173634.0     0.0   358.0  ...    300240.0      0.0   1040120.0  1018.64   \n",
       "4  2618878.0     0.0  1788.0  ...    457040.0  27588.0  21173050.0  1116.06   \n",
       "5  1892752.0     0.0  1142.0  ...  10244700.0      0.0         0.0  1013.14   \n",
       "7  4916376.0     0.0   182.0  ...  14438160.0      0.0   3537310.0  2018.08   \n",
       "\n",
       "      ee_005     ee_006    ee_007    ee_008  ee_009  class_pos  \n",
       "0   469792.0   339156.0  157956.0   73224.0     0.0          0  \n",
       "2   409564.0   320746.0  158022.0   95128.0   514.0          0  \n",
       "4   347188.0   286954.0  311560.0  433954.0  1218.0          0  \n",
       "5   300412.0     1534.0     338.0     856.0     0.0          0  \n",
       "7  1052166.0  1108672.0  341532.0  129504.0  7832.0          0  \n",
       "\n",
       "[5 rows x 72 columns]"
      ]
     },
     "execution_count": 31,
     "metadata": {},
     "output_type": "execute_result"
    }
   ],
   "source": [
    "df3.head()"
   ]
  },
  {
   "cell_type": "markdown",
   "metadata": {},
   "source": [
    "## Scaling"
   ]
  },
  {
   "cell_type": "code",
   "execution_count": 32,
   "metadata": {},
   "outputs": [],
   "source": [
    "from sklearn.preprocessing import MinMaxScaler\n",
    "from sklearn.model_selection import train_test_split"
   ]
  },
  {
   "cell_type": "code",
   "execution_count": 33,
   "metadata": {},
   "outputs": [],
   "source": [
    "X = df3.drop(labels = 'class_pos', axis = 1)"
   ]
  },
  {
   "cell_type": "code",
   "execution_count": 34,
   "metadata": {},
   "outputs": [],
   "source": [
    "y = df3['class_pos']"
   ]
  },
  {
   "cell_type": "code",
   "execution_count": 35,
   "metadata": {},
   "outputs": [],
   "source": [
    "X_train, X_test, y_train, y_test = train_test_split (X, y, test_size = 0.3, random_state = 42, stratify = y)"
   ]
  },
  {
   "cell_type": "code",
   "execution_count": 36,
   "metadata": {},
   "outputs": [],
   "source": [
    "# Нормализуем данные\n",
    "scaler = MinMaxScaler()\n",
    "X_train_scaled = scaler.fit_transform(X_train)\n",
    "X_test_scaled = scaler.transform(X_test)"
   ]
  },
  {
   "cell_type": "markdown",
   "metadata": {},
   "source": [
    "## ML"
   ]
  },
  {
   "cell_type": "code",
   "execution_count": 37,
   "metadata": {},
   "outputs": [],
   "source": [
    "from sklearn.linear_model import LogisticRegression\n",
    "from sklearn.metrics import roc_auc_score, mean_squared_error, \\\n",
    "    accuracy_score, precision_score, recall_score, f1_score"
   ]
  },
  {
   "cell_type": "code",
   "execution_count": 38,
   "metadata": {},
   "outputs": [],
   "source": [
    "def quality_report(prediction, actual, verbose=True):\n",
    "    report_str = \"Accuracy: \\t {:.3f}\\n\" +\\\n",
    "                 \"Precision: \\t {:.3f}\\n\" +\\\n",
    "                 \"Recall: \\t {:.3f}\\n\" +\\\n",
    "                 \"f1_score: \\t {:.3f}\\n\" +\\\n",
    "                 \"ROC-AUC: \\t {:.3f}\"\n",
    "    \n",
    "    acc = accuracy_score(prediction, actual)\n",
    "    precision = precision_score(prediction, actual)\n",
    "    recall = recall_score(prediction, actual)\n",
    "    f1 = f1_score(prediction, actual)\n",
    "    rocauc = roc_auc_score(prediction, actual)\n",
    "    \n",
    "    quality_list = [acc, precision, recall, f1, rocauc]\n",
    "    \n",
    "    if verbose:\n",
    "        print(\"\\n=== Quality Report ===\")\n",
    "        print(report_str.format(\n",
    "            accuracy_score(prediction, actual),\n",
    "            precision_score(prediction, actual),\n",
    "            recall_score(prediction, actual),\n",
    "            f1_score(prediction, actual),\n",
    "            roc_auc_score(prediction, actual)\n",
    "        ))\n",
    "        print(\"======================\\n\")\n",
    "    \n",
    "    return quality_list"
   ]
  },
  {
   "cell_type": "markdown",
   "metadata": {},
   "source": [
    "Применяем логистическую регрессию с  $L_2$-регуляризацией при $\\lambda = 0.01$"
   ]
  },
  {
   "cell_type": "code",
   "execution_count": 39,
   "metadata": {},
   "outputs": [],
   "source": [
    "modelLogR = LogisticRegression(C=100, solver=\"liblinear\", penalty=\"l2\")\n",
    "logR = modelLogR.fit(X_train_scaled, y_train)\n",
    "pred = modelLogR.predict(X_test_scaled)"
   ]
  },
  {
   "cell_type": "code",
   "execution_count": 40,
   "metadata": {
    "scrolled": true
   },
   "outputs": [
    {
     "name": "stdout",
     "output_type": "stream",
     "text": [
      "\n",
      "=== Quality Report ===\n",
      "Accuracy: \t 0.996\n",
      "Precision: \t 0.581\n",
      "Recall: \t 0.896\n",
      "f1_score: \t 0.705\n",
      "ROC-AUC: \t 0.946\n",
      "======================\n",
      "\n"
     ]
    }
   ],
   "source": [
    "quality_list_baseline = quality_report(pred, y_test)"
   ]
  },
  {
   "cell_type": "markdown",
   "metadata": {},
   "source": [
    "Применяем логистическую регрессию с  $L_2$-регуляризацией при $\\lambda = 0.01$ и балансировкой классов:"
   ]
  },
  {
   "cell_type": "code",
   "execution_count": 41,
   "metadata": {},
   "outputs": [],
   "source": [
    "modelLogR = LogisticRegression(C=100, solver=\"liblinear\", penalty=\"l2\", class_weight=\"balanced\")\n",
    "logR = modelLogR.fit(X_train_scaled, y_train)\n",
    "pred = modelLogR.predict(X_test_scaled)"
   ]
  },
  {
   "cell_type": "code",
   "execution_count": 42,
   "metadata": {},
   "outputs": [
    {
     "name": "stdout",
     "output_type": "stream",
     "text": [
      "\n",
      "=== Quality Report ===\n",
      "Accuracy: \t 0.972\n",
      "Precision: \t 0.905\n",
      "Recall: \t 0.213\n",
      "f1_score: \t 0.344\n",
      "ROC-AUC: \t 0.606\n",
      "======================\n",
      "\n"
     ]
    }
   ],
   "source": [
    "quality_list_baseline = quality_report(pred, y_test)"
   ]
  },
  {
   "cell_type": "markdown",
   "metadata": {},
   "source": [
    "Видим, что precision вырос, а остальные метрики упали."
   ]
  },
  {
   "cell_type": "markdown",
   "metadata": {},
   "source": [
    "Теперь применяем логистическую регрессию с $L_1$-регуляризацией при $\\lambda=0.01$:"
   ]
  },
  {
   "cell_type": "code",
   "execution_count": 43,
   "metadata": {},
   "outputs": [],
   "source": [
    "modelLogR = LogisticRegression(C=100, solver=\"liblinear\", penalty=\"l1\")\n",
    "logRBest = modelLogR.fit(X_train_scaled, y_train)\n",
    "pred = modelLogR.predict(X_test_scaled)"
   ]
  },
  {
   "cell_type": "code",
   "execution_count": 44,
   "metadata": {},
   "outputs": [
    {
     "name": "stdout",
     "output_type": "stream",
     "text": [
      "\n",
      "=== Quality Report ===\n",
      "Accuracy: \t 0.997\n",
      "Precision: \t 0.608\n",
      "Recall: \t 0.938\n",
      "f1_score: \t 0.738\n",
      "ROC-AUC: \t 0.967\n",
      "======================\n",
      "\n"
     ]
    }
   ],
   "source": [
    "quality_list_baseline = quality_report(pred, y_test)"
   ]
  },
  {
   "cell_type": "markdown",
   "metadata": {},
   "source": [
    "Видим, что по сравнению с $L_2$-регуляризацией все метрики выросли."
   ]
  },
  {
   "cell_type": "markdown",
   "metadata": {},
   "source": [
    "Применяем логистическую регрессию с  $L_1$-регуляризацией при $\\lambda = 0.01$ и балансировкой классов:"
   ]
  },
  {
   "cell_type": "code",
   "execution_count": 45,
   "metadata": {},
   "outputs": [],
   "source": [
    "modelLogR = LogisticRegression(C=100, solver=\"liblinear\", penalty=\"l1\", class_weight=\"balanced\")\n",
    "logR = modelLogR.fit(X_train_scaled, y_train)\n",
    "pred = modelLogR.predict(X_test_scaled)"
   ]
  },
  {
   "cell_type": "code",
   "execution_count": 46,
   "metadata": {},
   "outputs": [
    {
     "name": "stdout",
     "output_type": "stream",
     "text": [
      "\n",
      "=== Quality Report ===\n",
      "Accuracy: \t 0.971\n",
      "Precision: \t 0.905\n",
      "Recall: \t 0.202\n",
      "f1_score: \t 0.331\n",
      "ROC-AUC: \t 0.601\n",
      "======================\n",
      "\n"
     ]
    }
   ],
   "source": [
    "quality_list_baseline = quality_report(pred, y_test)"
   ]
  },
  {
   "cell_type": "markdown",
   "metadata": {},
   "source": [
    "Видим, что ситуация такая же, как при $L_2$-регуляризации: precision вырос, а остальные метрики упали."
   ]
  },
  {
   "cell_type": "markdown",
   "metadata": {},
   "source": [
    "#### Попробуем сократить количество признаков"
   ]
  },
  {
   "cell_type": "markdown",
   "metadata": {},
   "source": [
    "Посмотрим на распределение значений коэффициентов регресcии:"
   ]
  },
  {
   "cell_type": "code",
   "execution_count": 47,
   "metadata": {},
   "outputs": [
    {
     "data": {
      "image/png": "[encoded data removed]",
      "text/plain": [
       "<Figure size 1440x432 with 1 Axes>"
      ]
     },
     "metadata": {
      "needs_background": "light"
     },
     "output_type": "display_data"
    }
   ],
   "source": [
    "fW = pd.DataFrame({'feature': X.columns, 'weight': logRBest.coef_[0]})\n",
    "fW.set_index('feature', inplace=True)\n",
    "fW.sort_values([\"weight\"], ascending=False, inplace=True)\n",
    "fW[\"weight\"].plot(kind ='bar', figsize = (20, 6));"
   ]
  },
  {
   "cell_type": "markdown",
   "metadata": {},
   "source": [
    "Выделим те коэффициенты, у которых абсолютное значение больше 5: "
   ]
  },
  {
   "cell_type": "code",
   "execution_count": 48,
   "metadata": {},
   "outputs": [
    {
     "data": {
      "text/plain": [
       "(71, 1)"
      ]
     },
     "execution_count": 48,
     "metadata": {},
     "output_type": "execute_result"
    }
   ],
   "source": [
    "fW.shape"
   ]
  },
  {
   "cell_type": "code",
   "execution_count": 54,
   "metadata": {},
   "outputs": [],
   "source": [
    "fW_ = fW[abs(fW['weight'])>5]"
   ]
  },
  {
   "cell_type": "code",
   "execution_count": 55,
   "metadata": {
    "scrolled": true
   },
   "outputs": [
    {
     "data": {
      "text/plain": [
       "40"
      ]
     },
     "execution_count": 55,
     "metadata": {},
     "output_type": "execute_result"
    }
   ],
   "source": [
    "fWList = fW_.index.tolist()\n",
    "len(fWList)"
   ]
  },
  {
   "cell_type": "code",
   "execution_count": 56,
   "metadata": {},
   "outputs": [],
   "source": [
    "XShort = df3[fWList]"
   ]
  },
  {
   "cell_type": "code",
   "execution_count": 57,
   "metadata": {},
   "outputs": [],
   "source": [
    "X_train, X_test, y_train, y_test = train_test_split (XShort, y, test_size = 0.3, random_state = 42, stratify = y)"
   ]
  },
  {
   "cell_type": "code",
   "execution_count": 58,
   "metadata": {},
   "outputs": [],
   "source": [
    "scaler = MinMaxScaler()\n",
    "X_train_scaled = scaler.fit_transform(X_train)\n",
    "X_test_scaled = scaler.transform(X_test)"
   ]
  },
  {
   "cell_type": "code",
   "execution_count": 59,
   "metadata": {},
   "outputs": [],
   "source": [
    "modelLogR = LogisticRegression(C=100, solver=\"liblinear\", penalty=\"l2\")\n",
    "logR = modelLogR.fit(X_train_scaled, y_train)\n",
    "pred = modelLogR.predict(X_test_scaled)"
   ]
  },
  {
   "cell_type": "code",
   "execution_count": 60,
   "metadata": {
    "scrolled": false
   },
   "outputs": [
    {
     "name": "stdout",
     "output_type": "stream",
     "text": [
      "\n",
      "=== Quality Report ===\n",
      "Accuracy: \t 0.996\n",
      "Precision: \t 0.581\n",
      "Recall: \t 0.935\n",
      "f1_score: \t 0.717\n",
      "ROC-AUC: \t 0.966\n",
      "======================\n",
      "\n"
     ]
    }
   ],
   "source": [
    "quality_list_baseline = quality_report(pred, y_test)"
   ]
  },
  {
   "cell_type": "code",
   "execution_count": 61,
   "metadata": {},
   "outputs": [],
   "source": [
    "modelLogR = LogisticRegression(C=100, solver=\"liblinear\", penalty=\"l2\", class_weight=\"balanced\")\n",
    "logR = modelLogR.fit(X_train_scaled, y_train)\n",
    "pred = modelLogR.predict(X_test_scaled)"
   ]
  },
  {
   "cell_type": "code",
   "execution_count": 62,
   "metadata": {
    "scrolled": true
   },
   "outputs": [
    {
     "name": "stdout",
     "output_type": "stream",
     "text": [
      "\n",
      "=== Quality Report ===\n",
      "Accuracy: \t 0.974\n",
      "Precision: \t 0.919\n",
      "Recall: \t 0.222\n",
      "f1_score: \t 0.358\n",
      "ROC-AUC: \t 0.611\n",
      "======================\n",
      "\n"
     ]
    }
   ],
   "source": [
    "quality_list_baseline = quality_report(pred, y_test)"
   ]
  },
  {
   "cell_type": "code",
   "execution_count": 63,
   "metadata": {},
   "outputs": [],
   "source": [
    "modelLogR = LogisticRegression(C=100, solver=\"liblinear\", penalty=\"l1\")\n",
    "logRBest = modelLogR.fit(X_train_scaled, y_train)\n",
    "pred = modelLogR.predict(X_test_scaled)"
   ]
  },
  {
   "cell_type": "code",
   "execution_count": 64,
   "metadata": {
    "scrolled": false
   },
   "outputs": [
    {
     "name": "stdout",
     "output_type": "stream",
     "text": [
      "\n",
      "=== Quality Report ===\n",
      "Accuracy: \t 0.997\n",
      "Precision: \t 0.608\n",
      "Recall: \t 0.938\n",
      "f1_score: \t 0.738\n",
      "ROC-AUC: \t 0.967\n",
      "======================\n",
      "\n"
     ]
    }
   ],
   "source": [
    "quality_list_baseline = quality_report(pred, y_test)"
   ]
  },
  {
   "cell_type": "code",
   "execution_count": 65,
   "metadata": {},
   "outputs": [],
   "source": [
    "modelLogR = LogisticRegression(C=100, solver=\"liblinear\", penalty=\"l1\", class_weight=\"balanced\")\n",
    "logR = modelLogR.fit(X_train_scaled, y_train)\n",
    "pred = modelLogR.predict(X_test_scaled)"
   ]
  },
  {
   "cell_type": "code",
   "execution_count": 66,
   "metadata": {
    "scrolled": true
   },
   "outputs": [
    {
     "name": "stdout",
     "output_type": "stream",
     "text": [
      "\n",
      "=== Quality Report ===\n",
      "Accuracy: \t 0.972\n",
      "Precision: \t 0.919\n",
      "Recall: \t 0.212\n",
      "f1_score: \t 0.344\n",
      "ROC-AUC: \t 0.606\n",
      "======================\n",
      "\n"
     ]
    }
   ],
   "source": [
    "quality_list_baseline = quality_report(pred, y_test)"
   ]
  },
  {
   "cell_type": "code",
   "execution_count": 67,
   "metadata": {},
   "outputs": [
    {
     "data": {
      "image/png": "[encoded data removed]",
      "text/plain": [
       "<Figure size 1440x432 with 1 Axes>"
      ]
     },
     "metadata": {
      "needs_background": "light"
     },
     "output_type": "display_data"
    }
   ],
   "source": [
    "fW = pd.DataFrame({'feature': XShort.columns, 'weight': logRBest.coef_[0]})\n",
    "fW.set_index('feature', inplace=True)\n",
    "fW.sort_values([\"weight\"], ascending=False, inplace=True)\n",
    "fW[\"weight\"].plot(kind ='bar', figsize = (20, 6));"
   ]
  },
  {
   "cell_type": "markdown",
   "metadata": {},
   "source": [
    "Итак, в случае $L_1$-регуляризации с $\\lambda=0.01$ мы сократили количество признаков почти в два раза и сохранили метрики качества обучения: \n",
    "Accuracy: \t 0.997 \\\n",
    "Precision: \t 0.608 \\\n",
    "Recall: \t 0.938 \\\n",
    "f1_score: \t 0.738 \\\n",
    "ROC-AUC: \t 0.967"
   ]
  },
  {
   "cell_type": "code",
   "execution_count": null,
   "metadata": {},
   "outputs": [],
   "source": []
  }
 ],
 "metadata": {
  "kernelspec": {
   "display_name": "Python 3",
   "language": "python",
   "name": "python3"
  },
  "language_info": {
   "codemirror_mode": {
    "name": "ipython",
    "version": 3
   },
   "file_extension": ".py",
   "mimetype": "text/x-python",
   "name": "python",
   "nbconvert_exporter": "python",
   "pygments_lexer": "ipython3",
   "version": "3.7.4"
  }
 },
 "nbformat": 4,
 "nbformat_minor": 2
}
