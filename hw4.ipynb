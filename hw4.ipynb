{
 "cells": [
  {
   "cell_type": "markdown",
   "metadata": {},
   "source": [
    "#### Отметим, что из описания датасета можно сделать вывод, что в данном случае для машинного обучения значительно более важна метрика precision, чем метрика recall. "
   ]
  },
  {
   "cell_type": "code",
   "execution_count": 163,
   "metadata": {},
   "outputs": [],
   "source": [
    "import pandas as pd\n",
    "import numpy as np\n",
    "import seaborn as sns\n",
    "import matplotlib.pyplot as plt\n",
    "%matplotlib inline"
   ]
  },
  {
   "cell_type": "markdown",
   "metadata": {},
   "source": [
    "Датасет уже разбит на две выборки, поэтому для нашего анализа соберем их в одну таблицу:"
   ]
  },
  {
   "cell_type": "code",
   "execution_count": 164,
   "metadata": {},
   "outputs": [],
   "source": [
    "dfTrain = pd.read_csv('aps_failure_training_set.csv', skiprows = 20 ,na_values = 'na', decimal = ',')"
   ]
  },
  {
   "cell_type": "code",
   "execution_count": 165,
   "metadata": {},
   "outputs": [],
   "source": [
    "dfTest = pd.read_csv('aps_failure_test_set.csv', skiprows = 20 ,na_values = 'na', decimal = ',')"
   ]
  },
  {
   "cell_type": "code",
   "execution_count": 166,
   "metadata": {},
   "outputs": [
    {
     "data": {
      "text/plain": [
       "((60000, 171), (16000, 171))"
      ]
     },
     "execution_count": 166,
     "metadata": {},
     "output_type": "execute_result"
    }
   ],
   "source": [
    "dfTrain.shape, dfTest.shape"
   ]
  },
  {
   "cell_type": "code",
   "execution_count": 167,
   "metadata": {},
   "outputs": [],
   "source": [
    "df = dfTrain.append(dfTest, ignore_index = True)"
   ]
  },
  {
   "cell_type": "code",
   "execution_count": 168,
   "metadata": {},
   "outputs": [
    {
     "data": {
      "text/plain": [
       "(76000, 171)"
      ]
     },
     "execution_count": 168,
     "metadata": {},
     "output_type": "execute_result"
    }
   ],
   "source": [
    "df.shape"
   ]
  },
  {
   "cell_type": "code",
   "execution_count": 169,
   "metadata": {},
   "outputs": [
    {
     "data": {
      "text/html": [
       "<div>\n",
       "<style scoped>\n",
       "    .dataframe tbody tr th:only-of-type {\n",
       "        vertical-align: middle;\n",
       "    }\n",
       "\n",
       "    .dataframe tbody tr th {\n",
       "        vertical-align: top;\n",
       "    }\n",
       "\n",
       "    .dataframe thead th {\n",
       "        text-align: right;\n",
       "    }\n",
       "</style>\n",
       "<table border=\"1\" class=\"dataframe\">\n",
       "  <thead>\n",
       "    <tr style=\"text-align: right;\">\n",
       "      <th></th>\n",
       "      <th>class</th>\n",
       "      <th>aa_000</th>\n",
       "      <th>ab_000</th>\n",
       "      <th>ac_000</th>\n",
       "      <th>ad_000</th>\n",
       "      <th>ae_000</th>\n",
       "      <th>af_000</th>\n",
       "      <th>ag_000</th>\n",
       "      <th>ag_001</th>\n",
       "      <th>ag_002</th>\n",
       "      <th>...</th>\n",
       "      <th>ee_002</th>\n",
       "      <th>ee_003</th>\n",
       "      <th>ee_004</th>\n",
       "      <th>ee_005</th>\n",
       "      <th>ee_006</th>\n",
       "      <th>ee_007</th>\n",
       "      <th>ee_008</th>\n",
       "      <th>ee_009</th>\n",
       "      <th>ef_000</th>\n",
       "      <th>eg_000</th>\n",
       "    </tr>\n",
       "  </thead>\n",
       "  <tbody>\n",
       "    <tr>\n",
       "      <td>0</td>\n",
       "      <td>neg</td>\n",
       "      <td>76698</td>\n",
       "      <td>NaN</td>\n",
       "      <td>2.130706e+09</td>\n",
       "      <td>280.0</td>\n",
       "      <td>0.0</td>\n",
       "      <td>0.0</td>\n",
       "      <td>0.0</td>\n",
       "      <td>0.0</td>\n",
       "      <td>0.0</td>\n",
       "      <td>...</td>\n",
       "      <td>1240520.0</td>\n",
       "      <td>493384.0</td>\n",
       "      <td>721044.0</td>\n",
       "      <td>469792.0</td>\n",
       "      <td>339156.0</td>\n",
       "      <td>157956.0</td>\n",
       "      <td>73224.0</td>\n",
       "      <td>0.0</td>\n",
       "      <td>0.0</td>\n",
       "      <td>0.0</td>\n",
       "    </tr>\n",
       "    <tr>\n",
       "      <td>1</td>\n",
       "      <td>neg</td>\n",
       "      <td>33058</td>\n",
       "      <td>NaN</td>\n",
       "      <td>0.000000e+00</td>\n",
       "      <td>NaN</td>\n",
       "      <td>0.0</td>\n",
       "      <td>0.0</td>\n",
       "      <td>0.0</td>\n",
       "      <td>0.0</td>\n",
       "      <td>0.0</td>\n",
       "      <td>...</td>\n",
       "      <td>421400.0</td>\n",
       "      <td>178064.0</td>\n",
       "      <td>293306.0</td>\n",
       "      <td>245416.0</td>\n",
       "      <td>133654.0</td>\n",
       "      <td>81140.0</td>\n",
       "      <td>97576.0</td>\n",
       "      <td>1500.0</td>\n",
       "      <td>0.0</td>\n",
       "      <td>0.0</td>\n",
       "    </tr>\n",
       "    <tr>\n",
       "      <td>2</td>\n",
       "      <td>neg</td>\n",
       "      <td>41040</td>\n",
       "      <td>NaN</td>\n",
       "      <td>2.280000e+02</td>\n",
       "      <td>100.0</td>\n",
       "      <td>0.0</td>\n",
       "      <td>0.0</td>\n",
       "      <td>0.0</td>\n",
       "      <td>0.0</td>\n",
       "      <td>0.0</td>\n",
       "      <td>...</td>\n",
       "      <td>277378.0</td>\n",
       "      <td>159812.0</td>\n",
       "      <td>423992.0</td>\n",
       "      <td>409564.0</td>\n",
       "      <td>320746.0</td>\n",
       "      <td>158022.0</td>\n",
       "      <td>95128.0</td>\n",
       "      <td>514.0</td>\n",
       "      <td>0.0</td>\n",
       "      <td>0.0</td>\n",
       "    </tr>\n",
       "    <tr>\n",
       "      <td>3</td>\n",
       "      <td>neg</td>\n",
       "      <td>12</td>\n",
       "      <td>0.0</td>\n",
       "      <td>7.000000e+01</td>\n",
       "      <td>66.0</td>\n",
       "      <td>0.0</td>\n",
       "      <td>10.0</td>\n",
       "      <td>0.0</td>\n",
       "      <td>0.0</td>\n",
       "      <td>0.0</td>\n",
       "      <td>...</td>\n",
       "      <td>240.0</td>\n",
       "      <td>46.0</td>\n",
       "      <td>58.0</td>\n",
       "      <td>44.0</td>\n",
       "      <td>10.0</td>\n",
       "      <td>0.0</td>\n",
       "      <td>0.0</td>\n",
       "      <td>0.0</td>\n",
       "      <td>4.0</td>\n",
       "      <td>32.0</td>\n",
       "    </tr>\n",
       "    <tr>\n",
       "      <td>4</td>\n",
       "      <td>neg</td>\n",
       "      <td>60874</td>\n",
       "      <td>NaN</td>\n",
       "      <td>1.368000e+03</td>\n",
       "      <td>458.0</td>\n",
       "      <td>0.0</td>\n",
       "      <td>0.0</td>\n",
       "      <td>0.0</td>\n",
       "      <td>0.0</td>\n",
       "      <td>0.0</td>\n",
       "      <td>...</td>\n",
       "      <td>622012.0</td>\n",
       "      <td>229790.0</td>\n",
       "      <td>405298.0</td>\n",
       "      <td>347188.0</td>\n",
       "      <td>286954.0</td>\n",
       "      <td>311560.0</td>\n",
       "      <td>433954.0</td>\n",
       "      <td>1218.0</td>\n",
       "      <td>0.0</td>\n",
       "      <td>0.0</td>\n",
       "    </tr>\n",
       "  </tbody>\n",
       "</table>\n",
       "<p>5 rows × 171 columns</p>\n",
       "</div>"
      ],
      "text/plain": [
       "  class  aa_000  ab_000        ac_000  ad_000  ae_000  af_000  ag_000  ag_001  \\\n",
       "0   neg   76698     NaN  2.130706e+09   280.0     0.0     0.0     0.0     0.0   \n",
       "1   neg   33058     NaN  0.000000e+00     NaN     0.0     0.0     0.0     0.0   \n",
       "2   neg   41040     NaN  2.280000e+02   100.0     0.0     0.0     0.0     0.0   \n",
       "3   neg      12     0.0  7.000000e+01    66.0     0.0    10.0     0.0     0.0   \n",
       "4   neg   60874     NaN  1.368000e+03   458.0     0.0     0.0     0.0     0.0   \n",
       "\n",
       "   ag_002  ...     ee_002    ee_003    ee_004    ee_005    ee_006    ee_007  \\\n",
       "0     0.0  ...  1240520.0  493384.0  721044.0  469792.0  339156.0  157956.0   \n",
       "1     0.0  ...   421400.0  178064.0  293306.0  245416.0  133654.0   81140.0   \n",
       "2     0.0  ...   277378.0  159812.0  423992.0  409564.0  320746.0  158022.0   \n",
       "3     0.0  ...      240.0      46.0      58.0      44.0      10.0       0.0   \n",
       "4     0.0  ...   622012.0  229790.0  405298.0  347188.0  286954.0  311560.0   \n",
       "\n",
       "     ee_008  ee_009  ef_000  eg_000  \n",
       "0   73224.0     0.0     0.0     0.0  \n",
       "1   97576.0  1500.0     0.0     0.0  \n",
       "2   95128.0   514.0     0.0     0.0  \n",
       "3       0.0     0.0     4.0    32.0  \n",
       "4  433954.0  1218.0     0.0     0.0  \n",
       "\n",
       "[5 rows x 171 columns]"
      ]
     },
     "execution_count": 169,
     "metadata": {},
     "output_type": "execute_result"
    }
   ],
   "source": [
    "df.head()"
   ]
  },
  {
   "cell_type": "markdown",
   "metadata": {},
   "source": [
    "Посмотрим на распределение целевого признака. Видим большой дисбаланс классов."
   ]
  },
  {
   "cell_type": "code",
   "execution_count": 170,
   "metadata": {},
   "outputs": [
    {
     "data": {
      "text/plain": [
       "neg    74625\n",
       "pos     1375\n",
       "Name: class, dtype: int64"
      ]
     },
     "execution_count": 170,
     "metadata": {},
     "output_type": "execute_result"
    }
   ],
   "source": [
    "vc=df['class'].value_counts()\n",
    "vc"
   ]
  },
  {
   "cell_type": "code",
   "execution_count": 171,
   "metadata": {},
   "outputs": [
    {
     "data": {
      "text/plain": [
       "<matplotlib.axes._subplots.AxesSubplot at 0x7f922da6a590>"
      ]
     },
     "execution_count": 171,
     "metadata": {},
     "output_type": "execute_result"
    },
    {
     "data": {
      "image/png": "[encoded data removed]",
      "text/plain": [
       "<Figure size 432x288 with 1 Axes>"
      ]
     },
     "metadata": {
      "needs_background": "light"
     },
     "output_type": "display_data"
    }
   ],
   "source": [
    "sns.countplot(df['class'])"
   ]
  },
  {
   "cell_type": "markdown",
   "metadata": {},
   "source": [
    "## EDA"
   ]
  },
  {
   "cell_type": "markdown",
   "metadata": {},
   "source": [
    "Вводим функцию для определения столбцов, в которых количество NaN превышает заданный порог:"
   ]
  },
  {
   "cell_type": "code",
   "execution_count": 172,
   "metadata": {},
   "outputs": [],
   "source": [
    "# Функция возвращает список столбцов таблицы data, \n",
    "# в которых доля ячеек с NaN больше порога threshold\n",
    "def DetectNaThr(data, threshold):\n",
    "    rowNum = data.shape[0]\n",
    "    rates = (data.isna().sum() / rowNum).sort_values(ascending = False)\n",
    "    thrLen = len(rates[rates > threshold])\n",
    "    dropList = rates.head(thrLen).index.tolist()\n",
    "    return dropList"
   ]
  },
  {
   "cell_type": "markdown",
   "metadata": {},
   "source": [
    "Удаляем столбцы, в которых NaN больше 40%"
   ]
  },
  {
   "cell_type": "code",
   "execution_count": 173,
   "metadata": {},
   "outputs": [],
   "source": [
    "dropList0 = DetectNaThr(df, 0.4)"
   ]
  },
  {
   "cell_type": "code",
   "execution_count": 174,
   "metadata": {},
   "outputs": [
    {
     "data": {
      "text/plain": [
       "9"
      ]
     },
     "execution_count": 174,
     "metadata": {},
     "output_type": "execute_result"
    }
   ],
   "source": [
    "len(dropList0)"
   ]
  },
  {
   "cell_type": "code",
   "execution_count": 175,
   "metadata": {},
   "outputs": [],
   "source": [
    "df0 = df.drop(labels = dropList0, axis = 1)"
   ]
  },
  {
   "cell_type": "markdown",
   "metadata": {},
   "source": [
    "Удаляем строки, где есть NaN"
   ]
  },
  {
   "cell_type": "code",
   "execution_count": 176,
   "metadata": {},
   "outputs": [],
   "source": [
    "df0.dropna(inplace = True)"
   ]
  },
  {
   "cell_type": "code",
   "execution_count": 177,
   "metadata": {},
   "outputs": [
    {
     "data": {
      "text/plain": [
       "(30858, 162)"
      ]
     },
     "execution_count": 177,
     "metadata": {},
     "output_type": "execute_result"
    }
   ],
   "source": [
    "df0.shape"
   ]
  },
  {
   "cell_type": "markdown",
   "metadata": {},
   "source": [
    "Смотрим на 'выбросы'"
   ]
  },
  {
   "cell_type": "code",
   "execution_count": 178,
   "metadata": {},
   "outputs": [
    {
     "data": {
      "text/html": [
       "<div>\n",
       "<style scoped>\n",
       "    .dataframe tbody tr th:only-of-type {\n",
       "        vertical-align: middle;\n",
       "    }\n",
       "\n",
       "    .dataframe tbody tr th {\n",
       "        vertical-align: top;\n",
       "    }\n",
       "\n",
       "    .dataframe thead th {\n",
       "        text-align: right;\n",
       "    }\n",
       "</style>\n",
       "<table border=\"1\" class=\"dataframe\">\n",
       "  <thead>\n",
       "    <tr style=\"text-align: right;\">\n",
       "      <th></th>\n",
       "      <th>aa_000</th>\n",
       "      <th>ac_000</th>\n",
       "      <th>ad_000</th>\n",
       "      <th>ae_000</th>\n",
       "      <th>af_000</th>\n",
       "      <th>ag_000</th>\n",
       "      <th>ag_001</th>\n",
       "      <th>ag_002</th>\n",
       "      <th>ag_003</th>\n",
       "      <th>ag_004</th>\n",
       "      <th>...</th>\n",
       "      <th>ee_002</th>\n",
       "      <th>ee_003</th>\n",
       "      <th>ee_004</th>\n",
       "      <th>ee_005</th>\n",
       "      <th>ee_006</th>\n",
       "      <th>ee_007</th>\n",
       "      <th>ee_008</th>\n",
       "      <th>ee_009</th>\n",
       "      <th>ef_000</th>\n",
       "      <th>eg_000</th>\n",
       "    </tr>\n",
       "  </thead>\n",
       "  <tbody>\n",
       "    <tr>\n",
       "      <td>count</td>\n",
       "      <td>3.085800e+04</td>\n",
       "      <td>3.085800e+04</td>\n",
       "      <td>30858.000000</td>\n",
       "      <td>30858.000000</td>\n",
       "      <td>30858.000000</td>\n",
       "      <td>3.085800e+04</td>\n",
       "      <td>3.085800e+04</td>\n",
       "      <td>3.085800e+04</td>\n",
       "      <td>3.085800e+04</td>\n",
       "      <td>3.085800e+04</td>\n",
       "      <td>...</td>\n",
       "      <td>3.085800e+04</td>\n",
       "      <td>3.085800e+04</td>\n",
       "      <td>3.085800e+04</td>\n",
       "      <td>3.085800e+04</td>\n",
       "      <td>3.085800e+04</td>\n",
       "      <td>3.085800e+04</td>\n",
       "      <td>3.085800e+04</td>\n",
       "      <td>3.085800e+04</td>\n",
       "      <td>30858.000000</td>\n",
       "      <td>30858.000000</td>\n",
       "    </tr>\n",
       "    <tr>\n",
       "      <td>mean</td>\n",
       "      <td>6.746499e+04</td>\n",
       "      <td>4.941825e+08</td>\n",
       "      <td>726.797395</td>\n",
       "      <td>13.005898</td>\n",
       "      <td>20.807441</td>\n",
       "      <td>3.520657e+02</td>\n",
       "      <td>4.078028e+02</td>\n",
       "      <td>3.757194e+03</td>\n",
       "      <td>5.461633e+04</td>\n",
       "      <td>3.634072e+05</td>\n",
       "      <td>...</td>\n",
       "      <td>4.982059e+05</td>\n",
       "      <td>2.472399e+05</td>\n",
       "      <td>5.302253e+05</td>\n",
       "      <td>4.615703e+05</td>\n",
       "      <td>3.858235e+05</td>\n",
       "      <td>3.358649e+05</td>\n",
       "      <td>1.856189e+05</td>\n",
       "      <td>1.201115e+04</td>\n",
       "      <td>0.042128</td>\n",
       "      <td>0.318491</td>\n",
       "    </tr>\n",
       "    <tr>\n",
       "      <td>std</td>\n",
       "      <td>9.127003e+04</td>\n",
       "      <td>8.993144e+08</td>\n",
       "      <td>3944.739430</td>\n",
       "      <td>224.192103</td>\n",
       "      <td>288.848355</td>\n",
       "      <td>2.812134e+04</td>\n",
       "      <td>1.216986e+04</td>\n",
       "      <td>7.653326e+04</td>\n",
       "      <td>5.324198e+05</td>\n",
       "      <td>1.961659e+06</td>\n",
       "      <td>...</td>\n",
       "      <td>6.564383e+05</td>\n",
       "      <td>3.268332e+05</td>\n",
       "      <td>7.632769e+05</td>\n",
       "      <td>5.854349e+05</td>\n",
       "      <td>7.451858e+05</td>\n",
       "      <td>1.359892e+06</td>\n",
       "      <td>2.686022e+05</td>\n",
       "      <td>3.839477e+04</td>\n",
       "      <td>2.161941</td>\n",
       "      <td>14.138448</td>\n",
       "    </tr>\n",
       "    <tr>\n",
       "      <td>min</td>\n",
       "      <td>0.000000e+00</td>\n",
       "      <td>0.000000e+00</td>\n",
       "      <td>0.000000</td>\n",
       "      <td>0.000000</td>\n",
       "      <td>0.000000</td>\n",
       "      <td>0.000000e+00</td>\n",
       "      <td>0.000000e+00</td>\n",
       "      <td>0.000000e+00</td>\n",
       "      <td>0.000000e+00</td>\n",
       "      <td>0.000000e+00</td>\n",
       "      <td>...</td>\n",
       "      <td>0.000000e+00</td>\n",
       "      <td>0.000000e+00</td>\n",
       "      <td>0.000000e+00</td>\n",
       "      <td>0.000000e+00</td>\n",
       "      <td>0.000000e+00</td>\n",
       "      <td>0.000000e+00</td>\n",
       "      <td>0.000000e+00</td>\n",
       "      <td>0.000000e+00</td>\n",
       "      <td>0.000000</td>\n",
       "      <td>0.000000</td>\n",
       "    </tr>\n",
       "    <tr>\n",
       "      <td>50%</td>\n",
       "      <td>4.156100e+04</td>\n",
       "      <td>6.340000e+02</td>\n",
       "      <td>364.000000</td>\n",
       "      <td>0.000000</td>\n",
       "      <td>0.000000</td>\n",
       "      <td>0.000000e+00</td>\n",
       "      <td>0.000000e+00</td>\n",
       "      <td>0.000000e+00</td>\n",
       "      <td>0.000000e+00</td>\n",
       "      <td>7.466000e+03</td>\n",
       "      <td>...</td>\n",
       "      <td>3.780400e+05</td>\n",
       "      <td>1.884980e+05</td>\n",
       "      <td>3.983830e+05</td>\n",
       "      <td>3.480210e+05</td>\n",
       "      <td>2.342920e+05</td>\n",
       "      <td>1.384900e+05</td>\n",
       "      <td>1.057360e+05</td>\n",
       "      <td>9.260000e+02</td>\n",
       "      <td>0.000000</td>\n",
       "      <td>0.000000</td>\n",
       "    </tr>\n",
       "    <tr>\n",
       "      <td>99%</td>\n",
       "      <td>5.203269e+05</td>\n",
       "      <td>2.130706e+09</td>\n",
       "      <td>5192.860000</td>\n",
       "      <td>326.000000</td>\n",
       "      <td>508.000000</td>\n",
       "      <td>0.000000e+00</td>\n",
       "      <td>0.000000e+00</td>\n",
       "      <td>4.204096e+04</td>\n",
       "      <td>1.388841e+06</td>\n",
       "      <td>6.825893e+06</td>\n",
       "      <td>...</td>\n",
       "      <td>2.387855e+06</td>\n",
       "      <td>1.204564e+06</td>\n",
       "      <td>2.451121e+06</td>\n",
       "      <td>2.296794e+06</td>\n",
       "      <td>3.386248e+06</td>\n",
       "      <td>4.481814e+06</td>\n",
       "      <td>1.197236e+06</td>\n",
       "      <td>1.565035e+05</td>\n",
       "      <td>0.000000</td>\n",
       "      <td>0.000000</td>\n",
       "    </tr>\n",
       "    <tr>\n",
       "      <td>max</td>\n",
       "      <td>1.675586e+06</td>\n",
       "      <td>2.130707e+09</td>\n",
       "      <td>612266.000000</td>\n",
       "      <td>21050.000000</td>\n",
       "      <td>20070.000000</td>\n",
       "      <td>3.376892e+06</td>\n",
       "      <td>1.150462e+06</td>\n",
       "      <td>6.531796e+06</td>\n",
       "      <td>6.340207e+07</td>\n",
       "      <td>2.288306e+08</td>\n",
       "      <td>...</td>\n",
       "      <td>7.793393e+07</td>\n",
       "      <td>3.775839e+07</td>\n",
       "      <td>9.715238e+07</td>\n",
       "      <td>3.411102e+07</td>\n",
       "      <td>2.811407e+07</td>\n",
       "      <td>1.195801e+08</td>\n",
       "      <td>8.291710e+06</td>\n",
       "      <td>2.528010e+06</td>\n",
       "      <td>340.000000</td>\n",
       "      <td>1720.000000</td>\n",
       "    </tr>\n",
       "  </tbody>\n",
       "</table>\n",
       "<p>7 rows × 155 columns</p>\n",
       "</div>"
      ],
      "text/plain": [
       "             aa_000        ac_000         ad_000        ae_000        af_000  \\\n",
       "count  3.085800e+04  3.085800e+04   30858.000000  30858.000000  30858.000000   \n",
       "mean   6.746499e+04  4.941825e+08     726.797395     13.005898     20.807441   \n",
       "std    9.127003e+04  8.993144e+08    3944.739430    224.192103    288.848355   \n",
       "min    0.000000e+00  0.000000e+00       0.000000      0.000000      0.000000   \n",
       "50%    4.156100e+04  6.340000e+02     364.000000      0.000000      0.000000   \n",
       "99%    5.203269e+05  2.130706e+09    5192.860000    326.000000    508.000000   \n",
       "max    1.675586e+06  2.130707e+09  612266.000000  21050.000000  20070.000000   \n",
       "\n",
       "             ag_000        ag_001        ag_002        ag_003        ag_004  \\\n",
       "count  3.085800e+04  3.085800e+04  3.085800e+04  3.085800e+04  3.085800e+04   \n",
       "mean   3.520657e+02  4.078028e+02  3.757194e+03  5.461633e+04  3.634072e+05   \n",
       "std    2.812134e+04  1.216986e+04  7.653326e+04  5.324198e+05  1.961659e+06   \n",
       "min    0.000000e+00  0.000000e+00  0.000000e+00  0.000000e+00  0.000000e+00   \n",
       "50%    0.000000e+00  0.000000e+00  0.000000e+00  0.000000e+00  7.466000e+03   \n",
       "99%    0.000000e+00  0.000000e+00  4.204096e+04  1.388841e+06  6.825893e+06   \n",
       "max    3.376892e+06  1.150462e+06  6.531796e+06  6.340207e+07  2.288306e+08   \n",
       "\n",
       "       ...        ee_002        ee_003        ee_004        ee_005  \\\n",
       "count  ...  3.085800e+04  3.085800e+04  3.085800e+04  3.085800e+04   \n",
       "mean   ...  4.982059e+05  2.472399e+05  5.302253e+05  4.615703e+05   \n",
       "std    ...  6.564383e+05  3.268332e+05  7.632769e+05  5.854349e+05   \n",
       "min    ...  0.000000e+00  0.000000e+00  0.000000e+00  0.000000e+00   \n",
       "50%    ...  3.780400e+05  1.884980e+05  3.983830e+05  3.480210e+05   \n",
       "99%    ...  2.387855e+06  1.204564e+06  2.451121e+06  2.296794e+06   \n",
       "max    ...  7.793393e+07  3.775839e+07  9.715238e+07  3.411102e+07   \n",
       "\n",
       "             ee_006        ee_007        ee_008        ee_009        ef_000  \\\n",
       "count  3.085800e+04  3.085800e+04  3.085800e+04  3.085800e+04  30858.000000   \n",
       "mean   3.858235e+05  3.358649e+05  1.856189e+05  1.201115e+04      0.042128   \n",
       "std    7.451858e+05  1.359892e+06  2.686022e+05  3.839477e+04      2.161941   \n",
       "min    0.000000e+00  0.000000e+00  0.000000e+00  0.000000e+00      0.000000   \n",
       "50%    2.342920e+05  1.384900e+05  1.057360e+05  9.260000e+02      0.000000   \n",
       "99%    3.386248e+06  4.481814e+06  1.197236e+06  1.565035e+05      0.000000   \n",
       "max    2.811407e+07  1.195801e+08  8.291710e+06  2.528010e+06    340.000000   \n",
       "\n",
       "             eg_000  \n",
       "count  30858.000000  \n",
       "mean       0.318491  \n",
       "std       14.138448  \n",
       "min        0.000000  \n",
       "50%        0.000000  \n",
       "99%        0.000000  \n",
       "max     1720.000000  \n",
       "\n",
       "[7 rows x 155 columns]"
      ]
     },
     "execution_count": 178,
     "metadata": {},
     "output_type": "execute_result"
    }
   ],
   "source": [
    "ds = df0.describe(percentiles = [0.99])\n",
    "ds"
   ]
  },
  {
   "cell_type": "code",
   "execution_count": 179,
   "metadata": {},
   "outputs": [],
   "source": [
    "# Функция возвращает список столбцов таблицы data, \n",
    "# для которых отношение prst%-процентили к максимуму меньше eps\n",
    "def DetectPrstThr(data, prst, eps):\n",
    "    P1 = prst * 0.01\n",
    "    rates = (data.quantile(P1) / data.max()).sort_values()\n",
    "    thrLen = len(rates[rates < eps])\n",
    "    dropList = rates.head(thrLen).index.tolist()\n",
    "    return dropList"
   ]
  },
  {
   "cell_type": "markdown",
   "metadata": {},
   "source": [
    "Удаляем столбцы, в которых отношение 99%-процентили к максимому меньше 0.01"
   ]
  },
  {
   "cell_type": "code",
   "execution_count": 180,
   "metadata": {},
   "outputs": [
    {
     "data": {
      "text/plain": [
       "['ad_000',\n",
       " 'ag_000',\n",
       " 'ag_001',\n",
       " 'ag_002',\n",
       " 'ag_009',\n",
       " 'aj_000',\n",
       " 'ak_000',\n",
       " 'as_000',\n",
       " 'at_000',\n",
       " 'au_000',\n",
       " 'ay_000',\n",
       " 'ay_001',\n",
       " 'ay_002',\n",
       " 'ay_003',\n",
       " 'ay_004',\n",
       " 'ay_005',\n",
       " 'ay_009',\n",
       " 'az_007',\n",
       " 'az_008',\n",
       " 'az_009',\n",
       " 'cf_000',\n",
       " 'ch_000',\n",
       " 'cn_000',\n",
       " 'cn_009',\n",
       " 'cs_007',\n",
       " 'cs_008',\n",
       " 'cs_009',\n",
       " 'cy_000',\n",
       " 'da_000',\n",
       " 'df_000',\n",
       " 'dg_000',\n",
       " 'dh_000',\n",
       " 'dj_000',\n",
       " 'dk_000',\n",
       " 'dl_000',\n",
       " 'dm_000',\n",
       " 'dz_000',\n",
       " 'ea_000',\n",
       " 'ef_000',\n",
       " 'eg_000']"
      ]
     },
     "execution_count": 180,
     "metadata": {},
     "output_type": "execute_result"
    }
   ],
   "source": [
    "dropListP = DetectPrstThr(df0, 99, 0.01)\n",
    "dropListP.sort()\n",
    "dropListP"
   ]
  },
  {
   "cell_type": "code",
   "execution_count": 181,
   "metadata": {},
   "outputs": [],
   "source": [
    "df1 = df0.drop(labels = dropListP, axis = 1)"
   ]
  },
  {
   "cell_type": "code",
   "execution_count": 182,
   "metadata": {},
   "outputs": [],
   "source": [
    "dropColList = dropList0 + dropListP"
   ]
  },
  {
   "cell_type": "code",
   "execution_count": 183,
   "metadata": {},
   "outputs": [
    {
     "data": {
      "text/plain": [
       "49"
      ]
     },
     "execution_count": 183,
     "metadata": {},
     "output_type": "execute_result"
    }
   ],
   "source": [
    "len(dropColList)"
   ]
  },
  {
   "cell_type": "code",
   "execution_count": 184,
   "metadata": {},
   "outputs": [
    {
     "data": {
      "text/plain": [
       "(30858, 122)"
      ]
     },
     "execution_count": 184,
     "metadata": {},
     "output_type": "execute_result"
    }
   ],
   "source": [
    "df1.shape"
   ]
  },
  {
   "cell_type": "code",
   "execution_count": 185,
   "metadata": {},
   "outputs": [
    {
     "data": {
      "text/html": [
       "<div>\n",
       "<style scoped>\n",
       "    .dataframe tbody tr th:only-of-type {\n",
       "        vertical-align: middle;\n",
       "    }\n",
       "\n",
       "    .dataframe tbody tr th {\n",
       "        vertical-align: top;\n",
       "    }\n",
       "\n",
       "    .dataframe thead th {\n",
       "        text-align: right;\n",
       "    }\n",
       "</style>\n",
       "<table border=\"1\" class=\"dataframe\">\n",
       "  <thead>\n",
       "    <tr style=\"text-align: right;\">\n",
       "      <th></th>\n",
       "      <th>aa_000</th>\n",
       "      <th>ac_000</th>\n",
       "      <th>ae_000</th>\n",
       "      <th>af_000</th>\n",
       "      <th>ag_003</th>\n",
       "      <th>ag_004</th>\n",
       "      <th>ag_005</th>\n",
       "      <th>ag_006</th>\n",
       "      <th>ag_007</th>\n",
       "      <th>ag_008</th>\n",
       "      <th>...</th>\n",
       "      <th>ee_000</th>\n",
       "      <th>ee_001</th>\n",
       "      <th>ee_002</th>\n",
       "      <th>ee_003</th>\n",
       "      <th>ee_004</th>\n",
       "      <th>ee_005</th>\n",
       "      <th>ee_006</th>\n",
       "      <th>ee_007</th>\n",
       "      <th>ee_008</th>\n",
       "      <th>ee_009</th>\n",
       "    </tr>\n",
       "  </thead>\n",
       "  <tbody>\n",
       "    <tr>\n",
       "      <td>count</td>\n",
       "      <td>3.085800e+04</td>\n",
       "      <td>3.085800e+04</td>\n",
       "      <td>30858.000000</td>\n",
       "      <td>30858.000000</td>\n",
       "      <td>3.085800e+04</td>\n",
       "      <td>3.085800e+04</td>\n",
       "      <td>3.085800e+04</td>\n",
       "      <td>3.085800e+04</td>\n",
       "      <td>3.085800e+04</td>\n",
       "      <td>3.085800e+04</td>\n",
       "      <td>...</td>\n",
       "      <td>3.085800e+04</td>\n",
       "      <td>3.085800e+04</td>\n",
       "      <td>3.085800e+04</td>\n",
       "      <td>3.085800e+04</td>\n",
       "      <td>3.085800e+04</td>\n",
       "      <td>3.085800e+04</td>\n",
       "      <td>3.085800e+04</td>\n",
       "      <td>3.085800e+04</td>\n",
       "      <td>3.085800e+04</td>\n",
       "      <td>3.085800e+04</td>\n",
       "    </tr>\n",
       "    <tr>\n",
       "      <td>mean</td>\n",
       "      <td>6.746499e+04</td>\n",
       "      <td>4.941825e+08</td>\n",
       "      <td>13.005898</td>\n",
       "      <td>20.807441</td>\n",
       "      <td>5.461633e+04</td>\n",
       "      <td>3.634072e+05</td>\n",
       "      <td>1.106402e+06</td>\n",
       "      <td>1.977229e+06</td>\n",
       "      <td>6.395040e+05</td>\n",
       "      <td>4.628441e+04</td>\n",
       "      <td>...</td>\n",
       "      <td>7.385971e+05</td>\n",
       "      <td>8.012806e+05</td>\n",
       "      <td>4.982059e+05</td>\n",
       "      <td>2.472399e+05</td>\n",
       "      <td>5.302253e+05</td>\n",
       "      <td>4.615703e+05</td>\n",
       "      <td>3.858235e+05</td>\n",
       "      <td>3.358649e+05</td>\n",
       "      <td>1.856189e+05</td>\n",
       "      <td>1.201115e+04</td>\n",
       "    </tr>\n",
       "    <tr>\n",
       "      <td>std</td>\n",
       "      <td>9.127003e+04</td>\n",
       "      <td>8.993144e+08</td>\n",
       "      <td>224.192103</td>\n",
       "      <td>288.848355</td>\n",
       "      <td>5.324198e+05</td>\n",
       "      <td>1.961659e+06</td>\n",
       "      <td>2.079584e+06</td>\n",
       "      <td>1.782247e+06</td>\n",
       "      <td>9.086916e+05</td>\n",
       "      <td>1.523869e+05</td>\n",
       "      <td>...</td>\n",
       "      <td>1.300878e+06</td>\n",
       "      <td>1.398907e+06</td>\n",
       "      <td>6.564383e+05</td>\n",
       "      <td>3.268332e+05</td>\n",
       "      <td>7.632769e+05</td>\n",
       "      <td>5.854349e+05</td>\n",
       "      <td>7.451858e+05</td>\n",
       "      <td>1.359892e+06</td>\n",
       "      <td>2.686022e+05</td>\n",
       "      <td>3.839477e+04</td>\n",
       "    </tr>\n",
       "    <tr>\n",
       "      <td>min</td>\n",
       "      <td>0.000000e+00</td>\n",
       "      <td>0.000000e+00</td>\n",
       "      <td>0.000000</td>\n",
       "      <td>0.000000</td>\n",
       "      <td>0.000000e+00</td>\n",
       "      <td>0.000000e+00</td>\n",
       "      <td>0.000000e+00</td>\n",
       "      <td>0.000000e+00</td>\n",
       "      <td>0.000000e+00</td>\n",
       "      <td>0.000000e+00</td>\n",
       "      <td>...</td>\n",
       "      <td>0.000000e+00</td>\n",
       "      <td>0.000000e+00</td>\n",
       "      <td>0.000000e+00</td>\n",
       "      <td>0.000000e+00</td>\n",
       "      <td>0.000000e+00</td>\n",
       "      <td>0.000000e+00</td>\n",
       "      <td>0.000000e+00</td>\n",
       "      <td>0.000000e+00</td>\n",
       "      <td>0.000000e+00</td>\n",
       "      <td>0.000000e+00</td>\n",
       "    </tr>\n",
       "    <tr>\n",
       "      <td>25%</td>\n",
       "      <td>3.852200e+04</td>\n",
       "      <td>2.560000e+02</td>\n",
       "      <td>0.000000</td>\n",
       "      <td>0.000000</td>\n",
       "      <td>0.000000e+00</td>\n",
       "      <td>8.585000e+02</td>\n",
       "      <td>2.291160e+05</td>\n",
       "      <td>1.246946e+06</td>\n",
       "      <td>2.312150e+05</td>\n",
       "      <td>7.042000e+03</td>\n",
       "      <td>...</td>\n",
       "      <td>3.166990e+05</td>\n",
       "      <td>4.125450e+05</td>\n",
       "      <td>2.812520e+05</td>\n",
       "      <td>1.370965e+05</td>\n",
       "      <td>2.786420e+05</td>\n",
       "      <td>2.445645e+05</td>\n",
       "      <td>1.515140e+05</td>\n",
       "      <td>6.737550e+04</td>\n",
       "      <td>1.138800e+04</td>\n",
       "      <td>0.000000e+00</td>\n",
       "    </tr>\n",
       "    <tr>\n",
       "      <td>50%</td>\n",
       "      <td>4.156100e+04</td>\n",
       "      <td>6.340000e+02</td>\n",
       "      <td>0.000000</td>\n",
       "      <td>0.000000</td>\n",
       "      <td>0.000000e+00</td>\n",
       "      <td>7.466000e+03</td>\n",
       "      <td>6.192450e+05</td>\n",
       "      <td>1.694579e+06</td>\n",
       "      <td>5.048040e+05</td>\n",
       "      <td>2.383900e+04</td>\n",
       "      <td>...</td>\n",
       "      <td>4.590280e+05</td>\n",
       "      <td>5.518760e+05</td>\n",
       "      <td>3.780400e+05</td>\n",
       "      <td>1.884980e+05</td>\n",
       "      <td>3.983830e+05</td>\n",
       "      <td>3.480210e+05</td>\n",
       "      <td>2.342920e+05</td>\n",
       "      <td>1.384900e+05</td>\n",
       "      <td>1.057360e+05</td>\n",
       "      <td>9.260000e+02</td>\n",
       "    </tr>\n",
       "    <tr>\n",
       "      <td>75%</td>\n",
       "      <td>6.175200e+04</td>\n",
       "      <td>3.800000e+03</td>\n",
       "      <td>0.000000</td>\n",
       "      <td>0.000000</td>\n",
       "      <td>0.000000e+00</td>\n",
       "      <td>8.293900e+04</td>\n",
       "      <td>1.281700e+06</td>\n",
       "      <td>2.309294e+06</td>\n",
       "      <td>8.183340e+05</td>\n",
       "      <td>5.293800e+04</td>\n",
       "      <td>...</td>\n",
       "      <td>7.488745e+05</td>\n",
       "      <td>8.517440e+05</td>\n",
       "      <td>5.507600e+05</td>\n",
       "      <td>2.785360e+05</td>\n",
       "      <td>6.197060e+05</td>\n",
       "      <td>5.222460e+05</td>\n",
       "      <td>3.783975e+05</td>\n",
       "      <td>2.378580e+05</td>\n",
       "      <td>2.583315e+05</td>\n",
       "      <td>9.454000e+03</td>\n",
       "    </tr>\n",
       "    <tr>\n",
       "      <td>max</td>\n",
       "      <td>1.675586e+06</td>\n",
       "      <td>2.130707e+09</td>\n",
       "      <td>21050.000000</td>\n",
       "      <td>20070.000000</td>\n",
       "      <td>6.340207e+07</td>\n",
       "      <td>2.288306e+08</td>\n",
       "      <td>1.791880e+08</td>\n",
       "      <td>7.763627e+07</td>\n",
       "      <td>6.334675e+07</td>\n",
       "      <td>1.590070e+07</td>\n",
       "      <td>...</td>\n",
       "      <td>7.498445e+07</td>\n",
       "      <td>9.822438e+07</td>\n",
       "      <td>7.793393e+07</td>\n",
       "      <td>3.775839e+07</td>\n",
       "      <td>9.715238e+07</td>\n",
       "      <td>3.411102e+07</td>\n",
       "      <td>2.811407e+07</td>\n",
       "      <td>1.195801e+08</td>\n",
       "      <td>8.291710e+06</td>\n",
       "      <td>2.528010e+06</td>\n",
       "    </tr>\n",
       "  </tbody>\n",
       "</table>\n",
       "<p>8 rows × 115 columns</p>\n",
       "</div>"
      ],
      "text/plain": [
       "             aa_000        ac_000        ae_000        af_000        ag_003  \\\n",
       "count  3.085800e+04  3.085800e+04  30858.000000  30858.000000  3.085800e+04   \n",
       "mean   6.746499e+04  4.941825e+08     13.005898     20.807441  5.461633e+04   \n",
       "std    9.127003e+04  8.993144e+08    224.192103    288.848355  5.324198e+05   \n",
       "min    0.000000e+00  0.000000e+00      0.000000      0.000000  0.000000e+00   \n",
       "25%    3.852200e+04  2.560000e+02      0.000000      0.000000  0.000000e+00   \n",
       "50%    4.156100e+04  6.340000e+02      0.000000      0.000000  0.000000e+00   \n",
       "75%    6.175200e+04  3.800000e+03      0.000000      0.000000  0.000000e+00   \n",
       "max    1.675586e+06  2.130707e+09  21050.000000  20070.000000  6.340207e+07   \n",
       "\n",
       "             ag_004        ag_005        ag_006        ag_007        ag_008  \\\n",
       "count  3.085800e+04  3.085800e+04  3.085800e+04  3.085800e+04  3.085800e+04   \n",
       "mean   3.634072e+05  1.106402e+06  1.977229e+06  6.395040e+05  4.628441e+04   \n",
       "std    1.961659e+06  2.079584e+06  1.782247e+06  9.086916e+05  1.523869e+05   \n",
       "min    0.000000e+00  0.000000e+00  0.000000e+00  0.000000e+00  0.000000e+00   \n",
       "25%    8.585000e+02  2.291160e+05  1.246946e+06  2.312150e+05  7.042000e+03   \n",
       "50%    7.466000e+03  6.192450e+05  1.694579e+06  5.048040e+05  2.383900e+04   \n",
       "75%    8.293900e+04  1.281700e+06  2.309294e+06  8.183340e+05  5.293800e+04   \n",
       "max    2.288306e+08  1.791880e+08  7.763627e+07  6.334675e+07  1.590070e+07   \n",
       "\n",
       "       ...        ee_000        ee_001        ee_002        ee_003  \\\n",
       "count  ...  3.085800e+04  3.085800e+04  3.085800e+04  3.085800e+04   \n",
       "mean   ...  7.385971e+05  8.012806e+05  4.982059e+05  2.472399e+05   \n",
       "std    ...  1.300878e+06  1.398907e+06  6.564383e+05  3.268332e+05   \n",
       "min    ...  0.000000e+00  0.000000e+00  0.000000e+00  0.000000e+00   \n",
       "25%    ...  3.166990e+05  4.125450e+05  2.812520e+05  1.370965e+05   \n",
       "50%    ...  4.590280e+05  5.518760e+05  3.780400e+05  1.884980e+05   \n",
       "75%    ...  7.488745e+05  8.517440e+05  5.507600e+05  2.785360e+05   \n",
       "max    ...  7.498445e+07  9.822438e+07  7.793393e+07  3.775839e+07   \n",
       "\n",
       "             ee_004        ee_005        ee_006        ee_007        ee_008  \\\n",
       "count  3.085800e+04  3.085800e+04  3.085800e+04  3.085800e+04  3.085800e+04   \n",
       "mean   5.302253e+05  4.615703e+05  3.858235e+05  3.358649e+05  1.856189e+05   \n",
       "std    7.632769e+05  5.854349e+05  7.451858e+05  1.359892e+06  2.686022e+05   \n",
       "min    0.000000e+00  0.000000e+00  0.000000e+00  0.000000e+00  0.000000e+00   \n",
       "25%    2.786420e+05  2.445645e+05  1.515140e+05  6.737550e+04  1.138800e+04   \n",
       "50%    3.983830e+05  3.480210e+05  2.342920e+05  1.384900e+05  1.057360e+05   \n",
       "75%    6.197060e+05  5.222460e+05  3.783975e+05  2.378580e+05  2.583315e+05   \n",
       "max    9.715238e+07  3.411102e+07  2.811407e+07  1.195801e+08  8.291710e+06   \n",
       "\n",
       "             ee_009  \n",
       "count  3.085800e+04  \n",
       "mean   1.201115e+04  \n",
       "std    3.839477e+04  \n",
       "min    0.000000e+00  \n",
       "25%    0.000000e+00  \n",
       "50%    9.260000e+02  \n",
       "75%    9.454000e+03  \n",
       "max    2.528010e+06  \n",
       "\n",
       "[8 rows x 115 columns]"
      ]
     },
     "execution_count": 185,
     "metadata": {},
     "output_type": "execute_result"
    }
   ],
   "source": [
    "df1.describe()"
   ]
  },
  {
   "cell_type": "markdown",
   "metadata": {},
   "source": [
    "Кодируем целевой признак:"
   ]
  },
  {
   "cell_type": "code",
   "execution_count": 186,
   "metadata": {},
   "outputs": [],
   "source": [
    "df1 = pd.get_dummies(df1, columns=[target], drop_first=True)"
   ]
  },
  {
   "cell_type": "code",
   "execution_count": 187,
   "metadata": {},
   "outputs": [
    {
     "data": {
      "text/html": [
       "<div>\n",
       "<style scoped>\n",
       "    .dataframe tbody tr th:only-of-type {\n",
       "        vertical-align: middle;\n",
       "    }\n",
       "\n",
       "    .dataframe tbody tr th {\n",
       "        vertical-align: top;\n",
       "    }\n",
       "\n",
       "    .dataframe thead th {\n",
       "        text-align: right;\n",
       "    }\n",
       "</style>\n",
       "<table border=\"1\" class=\"dataframe\">\n",
       "  <thead>\n",
       "    <tr style=\"text-align: right;\">\n",
       "      <th></th>\n",
       "      <th>aa_000</th>\n",
       "      <th>ac_000</th>\n",
       "      <th>ae_000</th>\n",
       "      <th>af_000</th>\n",
       "      <th>ag_003</th>\n",
       "      <th>ag_004</th>\n",
       "      <th>ag_005</th>\n",
       "      <th>ag_006</th>\n",
       "      <th>ag_007</th>\n",
       "      <th>ag_008</th>\n",
       "      <th>...</th>\n",
       "      <th>ee_001</th>\n",
       "      <th>ee_002</th>\n",
       "      <th>ee_003</th>\n",
       "      <th>ee_004</th>\n",
       "      <th>ee_005</th>\n",
       "      <th>ee_006</th>\n",
       "      <th>ee_007</th>\n",
       "      <th>ee_008</th>\n",
       "      <th>ee_009</th>\n",
       "      <th>class_pos</th>\n",
       "    </tr>\n",
       "  </thead>\n",
       "  <tbody>\n",
       "    <tr>\n",
       "      <td>0</td>\n",
       "      <td>76698</td>\n",
       "      <td>2.130706e+09</td>\n",
       "      <td>0.0</td>\n",
       "      <td>0.0</td>\n",
       "      <td>0.0</td>\n",
       "      <td>37250.0</td>\n",
       "      <td>1432864.0</td>\n",
       "      <td>3664156.0</td>\n",
       "      <td>1007684.0</td>\n",
       "      <td>25896.0</td>\n",
       "      <td>...</td>\n",
       "      <td>1706908.0</td>\n",
       "      <td>1240520.0</td>\n",
       "      <td>493384.0</td>\n",
       "      <td>721044.0</td>\n",
       "      <td>469792.0</td>\n",
       "      <td>339156.0</td>\n",
       "      <td>157956.0</td>\n",
       "      <td>73224.0</td>\n",
       "      <td>0.0</td>\n",
       "      <td>0</td>\n",
       "    </tr>\n",
       "    <tr>\n",
       "      <td>2</td>\n",
       "      <td>41040</td>\n",
       "      <td>2.280000e+02</td>\n",
       "      <td>0.0</td>\n",
       "      <td>0.0</td>\n",
       "      <td>0.0</td>\n",
       "      <td>1648.0</td>\n",
       "      <td>370592.0</td>\n",
       "      <td>1883374.0</td>\n",
       "      <td>292936.0</td>\n",
       "      <td>12016.0</td>\n",
       "      <td>...</td>\n",
       "      <td>453378.0</td>\n",
       "      <td>277378.0</td>\n",
       "      <td>159812.0</td>\n",
       "      <td>423992.0</td>\n",
       "      <td>409564.0</td>\n",
       "      <td>320746.0</td>\n",
       "      <td>158022.0</td>\n",
       "      <td>95128.0</td>\n",
       "      <td>514.0</td>\n",
       "      <td>0</td>\n",
       "    </tr>\n",
       "    <tr>\n",
       "      <td>4</td>\n",
       "      <td>60874</td>\n",
       "      <td>1.368000e+03</td>\n",
       "      <td>0.0</td>\n",
       "      <td>0.0</td>\n",
       "      <td>0.0</td>\n",
       "      <td>43752.0</td>\n",
       "      <td>1966618.0</td>\n",
       "      <td>1800340.0</td>\n",
       "      <td>131646.0</td>\n",
       "      <td>4588.0</td>\n",
       "      <td>...</td>\n",
       "      <td>904230.0</td>\n",
       "      <td>622012.0</td>\n",
       "      <td>229790.0</td>\n",
       "      <td>405298.0</td>\n",
       "      <td>347188.0</td>\n",
       "      <td>286954.0</td>\n",
       "      <td>311560.0</td>\n",
       "      <td>433954.0</td>\n",
       "      <td>1218.0</td>\n",
       "      <td>0</td>\n",
       "    </tr>\n",
       "    <tr>\n",
       "      <td>5</td>\n",
       "      <td>38312</td>\n",
       "      <td>2.130706e+09</td>\n",
       "      <td>0.0</td>\n",
       "      <td>0.0</td>\n",
       "      <td>0.0</td>\n",
       "      <td>9128.0</td>\n",
       "      <td>701702.0</td>\n",
       "      <td>1462836.0</td>\n",
       "      <td>449716.0</td>\n",
       "      <td>39000.0</td>\n",
       "      <td>...</td>\n",
       "      <td>481542.0</td>\n",
       "      <td>388574.0</td>\n",
       "      <td>288278.0</td>\n",
       "      <td>900430.0</td>\n",
       "      <td>300412.0</td>\n",
       "      <td>1534.0</td>\n",
       "      <td>338.0</td>\n",
       "      <td>856.0</td>\n",
       "      <td>0.0</td>\n",
       "      <td>0</td>\n",
       "    </tr>\n",
       "    <tr>\n",
       "      <td>7</td>\n",
       "      <td>102960</td>\n",
       "      <td>2.130706e+09</td>\n",
       "      <td>0.0</td>\n",
       "      <td>0.0</td>\n",
       "      <td>0.0</td>\n",
       "      <td>2130.0</td>\n",
       "      <td>142462.0</td>\n",
       "      <td>4227340.0</td>\n",
       "      <td>1674278.0</td>\n",
       "      <td>59718.0</td>\n",
       "      <td>...</td>\n",
       "      <td>907360.0</td>\n",
       "      <td>715518.0</td>\n",
       "      <td>384948.0</td>\n",
       "      <td>915978.0</td>\n",
       "      <td>1052166.0</td>\n",
       "      <td>1108672.0</td>\n",
       "      <td>341532.0</td>\n",
       "      <td>129504.0</td>\n",
       "      <td>7832.0</td>\n",
       "      <td>0</td>\n",
       "    </tr>\n",
       "  </tbody>\n",
       "</table>\n",
       "<p>5 rows × 122 columns</p>\n",
       "</div>"
      ],
      "text/plain": [
       "   aa_000        ac_000  ae_000  af_000  ag_003   ag_004     ag_005  \\\n",
       "0   76698  2.130706e+09     0.0     0.0     0.0  37250.0  1432864.0   \n",
       "2   41040  2.280000e+02     0.0     0.0     0.0   1648.0   370592.0   \n",
       "4   60874  1.368000e+03     0.0     0.0     0.0  43752.0  1966618.0   \n",
       "5   38312  2.130706e+09     0.0     0.0     0.0   9128.0   701702.0   \n",
       "7  102960  2.130706e+09     0.0     0.0     0.0   2130.0   142462.0   \n",
       "\n",
       "      ag_006     ag_007   ag_008  ...     ee_001     ee_002    ee_003  \\\n",
       "0  3664156.0  1007684.0  25896.0  ...  1706908.0  1240520.0  493384.0   \n",
       "2  1883374.0   292936.0  12016.0  ...   453378.0   277378.0  159812.0   \n",
       "4  1800340.0   131646.0   4588.0  ...   904230.0   622012.0  229790.0   \n",
       "5  1462836.0   449716.0  39000.0  ...   481542.0   388574.0  288278.0   \n",
       "7  4227340.0  1674278.0  59718.0  ...   907360.0   715518.0  384948.0   \n",
       "\n",
       "     ee_004     ee_005     ee_006    ee_007    ee_008  ee_009  class_pos  \n",
       "0  721044.0   469792.0   339156.0  157956.0   73224.0     0.0          0  \n",
       "2  423992.0   409564.0   320746.0  158022.0   95128.0   514.0          0  \n",
       "4  405298.0   347188.0   286954.0  311560.0  433954.0  1218.0          0  \n",
       "5  900430.0   300412.0     1534.0     338.0     856.0     0.0          0  \n",
       "7  915978.0  1052166.0  1108672.0  341532.0  129504.0  7832.0          0  \n",
       "\n",
       "[5 rows x 122 columns]"
      ]
     },
     "execution_count": 187,
     "metadata": {},
     "output_type": "execute_result"
    }
   ],
   "source": [
    "df1.head()"
   ]
  },
  {
   "cell_type": "markdown",
   "metadata": {},
   "source": [
    "Определяем список признаков, после выбрасывания которых в матрице корреляций все внедиагональные значения \n",
    "станут меньше 0.8:"
   ]
  },
  {
   "cell_type": "code",
   "execution_count": 188,
   "metadata": {},
   "outputs": [],
   "source": [
    "def corr_feature_detect(data, target_variable, threshold=0.8):\n",
    "    \n",
    "    corrmat = data.drop(target_variable, axis=1).corr()\n",
    "\n",
    "    corrmat = corrmat.abs().unstack().sort_values(ascending=False)\n",
    "\n",
    "    corrmat = corrmat[corrmat >= threshold]\n",
    "    corrmat = corrmat[corrmat < 1]\n",
    "\n",
    "    corrmat = pd.DataFrame(corrmat).reset_index()\n",
    "    corrmat.columns = ['feature1', 'feature2', 'corr']\n",
    "   \n",
    "    correlated_feats = []\n",
    "\n",
    "    for row in corrmat.values:\n",
    "        f1, f2, corr_value = row\n",
    "\n",
    "        if not ((f1 in correlated_feats) | (f2 in correlated_feats)):\n",
    "            f1_feat_len = corrmat[(corrmat.feature1==f1) | (corrmat.feature2==f1)].shape[0]\n",
    "            f2_feat_len = corrmat[(corrmat.feature1==f2) | (corrmat.feature2==f2)].shape[0]\n",
    "\n",
    "            if f1_feat_len >= f2_feat_len:\n",
    "                correlated_feats.append(f1)\n",
    "            else:\n",
    "                correlated_feats.append(f2)\n",
    "    \n",
    "    return correlated_feats"
   ]
  },
  {
   "cell_type": "code",
   "execution_count": 189,
   "metadata": {},
   "outputs": [],
   "source": [
    "target = 'class_pos'"
   ]
  },
  {
   "cell_type": "code",
   "execution_count": 190,
   "metadata": {},
   "outputs": [],
   "source": [
    "corrFeatures = corr_feature_detect(df1, target)"
   ]
  },
  {
   "cell_type": "markdown",
   "metadata": {},
   "source": [
    "... и удаляем их:"
   ]
  },
  {
   "cell_type": "code",
   "execution_count": 191,
   "metadata": {},
   "outputs": [],
   "source": [
    "dfLR = df1.drop(labels = corrFeatures, axis = 1)"
   ]
  },
  {
   "cell_type": "code",
   "execution_count": 192,
   "metadata": {},
   "outputs": [],
   "source": [
    "dropColList = dropListP + corrFeatures"
   ]
  },
  {
   "cell_type": "code",
   "execution_count": 193,
   "metadata": {},
   "outputs": [
    {
     "data": {
      "text/plain": [
       "82"
      ]
     },
     "execution_count": 193,
     "metadata": {},
     "output_type": "execute_result"
    }
   ],
   "source": [
    "len(dropColList)"
   ]
  },
  {
   "cell_type": "code",
   "execution_count": 194,
   "metadata": {},
   "outputs": [
    {
     "data": {
      "text/plain": [
       "(30858, 80)"
      ]
     },
     "execution_count": 194,
     "metadata": {},
     "output_type": "execute_result"
    }
   ],
   "source": [
    "dfLR.shape"
   ]
  },
  {
   "cell_type": "markdown",
   "metadata": {},
   "source": [
    "## ML"
   ]
  },
  {
   "cell_type": "code",
   "execution_count": 195,
   "metadata": {},
   "outputs": [],
   "source": [
    "from sklearn.preprocessing import MinMaxScaler\n",
    "from sklearn.model_selection import train_test_split"
   ]
  },
  {
   "cell_type": "code",
   "execution_count": 196,
   "metadata": {},
   "outputs": [],
   "source": [
    "def quality_report(prediction, actual, verbose=True):\n",
    "    report_str = \"Accuracy: \\t {:.3f}\\n\" +\\\n",
    "                 \"Precision: \\t {:.3f}\\n\" +\\\n",
    "                 \"Recall: \\t {:.3f}\\n\" +\\\n",
    "                 \"f1_score: \\t {:.3f}\\n\" +\\\n",
    "                 \"ROC-AUC: \\t {:.3f}\\n\" +\\\n",
    "                 \"Cohen Кappa: \\t {:.3f}\"\n",
    "    \n",
    "    acc = accuracy_score(prediction, actual)\n",
    "    precision = precision_score(prediction, actual)\n",
    "    recall = recall_score(prediction, actual)\n",
    "    f1 = f1_score(prediction, actual)\n",
    "    rocauc = roc_auc_score(prediction, actual)\n",
    "    cohenkappa = cohen_kappa_score(prediction, actual)\n",
    "       \n",
    "    quality_list = [acc, precision, recall, f1, rocauc, cohenkappa]\n",
    "    \n",
    "    if verbose:\n",
    "        print(\"\\n=== Quality Report ===\")\n",
    "        print(report_str.format(\n",
    "            acc, precision, recall,\n",
    "            f1, rocauc, cohenkappa))\n",
    "        print(\"======================\\n\")\n",
    "    \n",
    "    return quality_list"
   ]
  },
  {
   "cell_type": "markdown",
   "metadata": {},
   "source": [
    "#### Logistic Regression"
   ]
  },
  {
   "cell_type": "code",
   "execution_count": 197,
   "metadata": {},
   "outputs": [],
   "source": [
    "X = dfLR.drop(labels = 'class_pos', axis = 1)"
   ]
  },
  {
   "cell_type": "code",
   "execution_count": 198,
   "metadata": {},
   "outputs": [],
   "source": [
    "y = dfLR['class_pos']"
   ]
  },
  {
   "cell_type": "code",
   "execution_count": 199,
   "metadata": {},
   "outputs": [],
   "source": [
    "X_train, X_test, y_train, y_test = train_test_split (X, y, test_size = 0.3, random_state = 42, stratify = y)"
   ]
  },
  {
   "cell_type": "code",
   "execution_count": 200,
   "metadata": {},
   "outputs": [],
   "source": [
    "# Нормализуем данные\n",
    "scaler = MinMaxScaler()\n",
    "X_train_scaled = scaler.fit_transform(X_train)\n",
    "X_test_scaled = scaler.transform(X_test)"
   ]
  },
  {
   "cell_type": "code",
   "execution_count": 201,
   "metadata": {},
   "outputs": [],
   "source": [
    "from sklearn.linear_model import LogisticRegression, LogisticRegressionCV\n",
    "from sklearn.metrics import roc_auc_score, accuracy_score\n",
    "from sklearn.metrics import precision_score, recall_score, f1_score\n",
    "from sklearn.metrics import cohen_kappa_score, make_scorer"
   ]
  },
  {
   "cell_type": "markdown",
   "metadata": {},
   "source": [
    "Применяем логистическую регрессию с  $L_1$-регуляризацией ($\\lambda = 0.01,...,100$) и балансировкой (взвешиванием) классов."
   ]
  },
  {
   "cell_type": "code",
   "execution_count": 202,
   "metadata": {},
   "outputs": [
    {
     "name": "stderr",
     "output_type": "stream",
     "text": [
      "/home/alex/anaconda3/lib/python3.7/site-packages/sklearn/model_selection/_split.py:1978: FutureWarning: The default value of cv will change from 3 to 5 in version 0.22. Specify it explicitly to silence this warning.\n",
      "  warnings.warn(CV_WARNING, FutureWarning)\n"
     ]
    }
   ],
   "source": [
    "modelLogRB = LogisticRegressionCV(Cs=[0.01,0.1,1,10,100],\n",
    "    penalty='l1', solver=\"liblinear\", class_weight='balanced')\n",
    "logRB = modelLogRB.fit(X_train_scaled, y_train)"
   ]
  },
  {
   "cell_type": "code",
   "execution_count": 203,
   "metadata": {
    "scrolled": true
   },
   "outputs": [
    {
     "name": "stdout",
     "output_type": "stream",
     "text": [
      "\n",
      "=== Quality Report ===\n",
      "Accuracy: \t 0.976\n",
      "Precision: \t 0.892\n",
      "Recall: \t 0.239\n",
      "f1_score: \t 0.377\n",
      "ROC-AUC: \t 0.619\n",
      "Cohen Кappa: \t 0.369\n",
      "======================\n",
      "\n"
     ]
    }
   ],
   "source": [
    "pred = modelLogRB.predict(X_test_scaled)\n",
    "LogRBQuality = quality_report(pred, y_test)"
   ]
  },
  {
   "cell_type": "markdown",
   "metadata": {},
   "source": [
    "Посмотрим на коэффициенты регрессии:"
   ]
  },
  {
   "cell_type": "code",
   "execution_count": 204,
   "metadata": {},
   "outputs": [
    {
     "data": {
      "text/plain": [
       "2"
      ]
     },
     "execution_count": 204,
     "metadata": {},
     "output_type": "execute_result"
    }
   ],
   "source": [
    "coefs = logRB.coef_[0]\n",
    "len(coefs[coefs == 0.])"
   ]
  },
  {
   "cell_type": "code",
   "execution_count": 205,
   "metadata": {},
   "outputs": [
    {
     "data": {
      "image/png": "[encoded data removed]",
      "text/plain": [
       "<Figure size 1440x432 with 1 Axes>"
      ]
     },
     "metadata": {
      "needs_background": "light"
     },
     "output_type": "display_data"
    }
   ],
   "source": [
    "fW = pd.DataFrame({'feature': X.columns, 'weight': logRB.coef_[0]})\n",
    "fW.set_index('feature', inplace=True)\n",
    "fW.sort_values([\"weight\"], ascending=False, inplace=True)\n",
    "fW[\"weight\"].plot(kind ='bar', figsize = (20, 6));"
   ]
  },
  {
   "cell_type": "markdown",
   "metadata": {},
   "source": [
    "#### Попробуем сократить количество признаков"
   ]
  },
  {
   "cell_type": "markdown",
   "metadata": {},
   "source": [
    "Выделим те коэффициенты, у которых абсолютное значение больше 15: "
   ]
  },
  {
   "cell_type": "code",
   "execution_count": 206,
   "metadata": {},
   "outputs": [
    {
     "data": {
      "text/plain": [
       "(79, 1)"
      ]
     },
     "execution_count": 206,
     "metadata": {},
     "output_type": "execute_result"
    }
   ],
   "source": [
    "fW.shape"
   ]
  },
  {
   "cell_type": "code",
   "execution_count": 210,
   "metadata": {},
   "outputs": [],
   "source": [
    "fW_ = fW[abs(fW['weight'])>15]"
   ]
  },
  {
   "cell_type": "code",
   "execution_count": 211,
   "metadata": {
    "scrolled": true
   },
   "outputs": [
    {
     "data": {
      "text/plain": [
       "48"
      ]
     },
     "execution_count": 211,
     "metadata": {},
     "output_type": "execute_result"
    }
   ],
   "source": [
    "fWList = fW_.index.tolist()\n",
    "len(fWList)"
   ]
  },
  {
   "cell_type": "code",
   "execution_count": 212,
   "metadata": {},
   "outputs": [],
   "source": [
    "XShort = dfLR[fWList]"
   ]
  },
  {
   "cell_type": "code",
   "execution_count": 213,
   "metadata": {},
   "outputs": [],
   "source": [
    "X_train, X_test, y_train, y_test = train_test_split (XShort, y, test_size = 0.3, random_state = 42, stratify = y)"
   ]
  },
  {
   "cell_type": "code",
   "execution_count": 214,
   "metadata": {},
   "outputs": [],
   "source": [
    "scaler = MinMaxScaler()\n",
    "X_train_scaled = scaler.fit_transform(X_train)\n",
    "X_test_scaled = scaler.transform(X_test)"
   ]
  },
  {
   "cell_type": "code",
   "execution_count": 215,
   "metadata": {
    "scrolled": true
   },
   "outputs": [
    {
     "name": "stderr",
     "output_type": "stream",
     "text": [
      "/home/alex/anaconda3/lib/python3.7/site-packages/sklearn/model_selection/_split.py:1978: FutureWarning: The default value of cv will change from 3 to 5 in version 0.22. Specify it explicitly to silence this warning.\n",
      "  warnings.warn(CV_WARNING, FutureWarning)\n"
     ]
    }
   ],
   "source": [
    "modelLogRBShort = LogisticRegressionCV(Cs=[0.01,0.1,1,10,100],\n",
    "    penalty='l1', solver=\"liblinear\", class_weight='balanced')\n",
    "logRBShort = modelLogRB.fit(X_train_scaled, y_train)"
   ]
  },
  {
   "cell_type": "code",
   "execution_count": 216,
   "metadata": {
    "scrolled": false
   },
   "outputs": [
    {
     "name": "stdout",
     "output_type": "stream",
     "text": [
      "\n",
      "=== Quality Report ===\n",
      "Accuracy: \t 0.981\n",
      "Precision: \t 0.892\n",
      "Recall: \t 0.281\n",
      "f1_score: \t 0.427\n",
      "ROC-AUC: \t 0.640\n",
      "Cohen Кappa: \t 0.420\n",
      "======================\n",
      "\n"
     ]
    }
   ],
   "source": [
    "pred = modelLogRB.predict(X_test_scaled)\n",
    "LogRBQuality = quality_report(pred, y_test)"
   ]
  },
  {
   "cell_type": "code",
   "execution_count": 217,
   "metadata": {},
   "outputs": [
    {
     "data": {
      "text/plain": [
       "0"
      ]
     },
     "execution_count": 217,
     "metadata": {},
     "output_type": "execute_result"
    }
   ],
   "source": [
    "coefs = logRBShort.coef_[0]\n",
    "len(coefs[coefs == 0.])"
   ]
  },
  {
   "cell_type": "code",
   "execution_count": 218,
   "metadata": {},
   "outputs": [
    {
     "data": {
      "image/png": "[encoded data removed]",
      "text/plain": [
       "<Figure size 1440x432 with 1 Axes>"
      ]
     },
     "metadata": {
      "needs_background": "light"
     },
     "output_type": "display_data"
    }
   ],
   "source": [
    "fW = pd.DataFrame({'feature': XShort.columns, 'weight': logRBShort.coef_[0]})\n",
    "fW.set_index('feature', inplace=True)\n",
    "fW.sort_values([\"weight\"], ascending=False, inplace=True)\n",
    "fW[\"weight\"].plot(kind ='bar', figsize = (20, 6));"
   ]
  },
  {
   "cell_type": "markdown",
   "metadata": {},
   "source": [
    "Итак, мы сократили количество признаков примерно на 40\\% и сохранили метрики качества обучения."
   ]
  },
  {
   "cell_type": "markdown",
   "metadata": {},
   "source": [
    "#### kNN"
   ]
  },
  {
   "cell_type": "code",
   "execution_count": 219,
   "metadata": {},
   "outputs": [],
   "source": [
    "X = df1.drop(labels = 'class_pos', axis = 1)"
   ]
  },
  {
   "cell_type": "code",
   "execution_count": 220,
   "metadata": {},
   "outputs": [],
   "source": [
    "y = df1['class_pos']"
   ]
  },
  {
   "cell_type": "code",
   "execution_count": 221,
   "metadata": {},
   "outputs": [],
   "source": [
    "X_train, X_test, y_train, y_test = train_test_split (X, y, test_size = 0.3, random_state = 42, stratify = y)"
   ]
  },
  {
   "cell_type": "code",
   "execution_count": 222,
   "metadata": {},
   "outputs": [],
   "source": [
    "from sklearn.neighbors import KNeighborsClassifier"
   ]
  },
  {
   "cell_type": "markdown",
   "metadata": {},
   "source": [
    "Для обучения модели $k$ ближайших соседей возьмем $k = 1,3,5$, а дистанцию будем мерить по норме пространств $l_p$, $p =1,2,3,4$:"
   ]
  },
  {
   "cell_type": "code",
   "execution_count": 229,
   "metadata": {},
   "outputs": [],
   "source": [
    "from sklearn.model_selection import GridSearchCV\n",
    "param_grid = {\n",
    "        'n_neighbors': [1,3,5],\n",
    "        'p': [1,2]\n",
    "}\n",
    "\n",
    "knn = KNeighborsClassifier()\n",
    "\n"
   ]
  },
  {
   "cell_type": "code",
   "execution_count": 231,
   "metadata": {},
   "outputs": [
    {
     "data": {
      "text/plain": [
       "GridSearchCV(cv=5, error_score='raise-deprecating',\n",
       "             estimator=KNeighborsClassifier(algorithm='auto', leaf_size=30,\n",
       "                                            metric='minkowski',\n",
       "                                            metric_params=None, n_jobs=None,\n",
       "                                            n_neighbors=5, p=2,\n",
       "                                            weights='uniform'),\n",
       "             iid='warn', n_jobs=None,\n",
       "             param_grid={'n_neighbors': [1, 3, 5], 'p': [1, 2]},\n",
       "             pre_dispatch='2*n_jobs', refit=True, return_train_score=False,\n",
       "             scoring='precision', verbose=0)"
      ]
     },
     "execution_count": 231,
     "metadata": {},
     "output_type": "execute_result"
    }
   ],
   "source": [
    "grid_search = GridSearchCV(knn, param_grid, cv=5, scoring='precision')\n",
    "grid_search.fit(X_train_scaled, y_train)\n"
   ]
  },
  {
   "cell_type": "code",
   "execution_count": 232,
   "metadata": {},
   "outputs": [
    {
     "name": "stdout",
     "output_type": "stream",
     "text": [
      "Best CV score: 0.842, best CV k: 5\n",
      "Resulting test score: 0.536\n"
     ]
    }
   ],
   "source": [
    "best_n_neighbors = grid_search.best_estimator_.n_neighbors\n",
    "print(\"Best CV score: {:.3f}, best CV k: {}\".format(\n",
    "    grid_search.best_score_, best_n_neighbors)) \n",
    "\n",
    "\n",
    "test_predictions = grid_search.best_estimator_.predict(X_test_scaled)\n",
    "print(\"Resulting test score: {:.3f}\".format(f1_score(test_predictions, y_test)))"
   ]
  },
  {
   "cell_type": "code",
   "execution_count": 233,
   "metadata": {},
   "outputs": [],
   "source": [
    "knn = KNeighborsClassifier(n_neighbors=best_n_neighbors)\n",
    "knn.fit(X_train_scaled, y_train)\n",
    "pred = knn.predict(X_test_scaled)\n"
   ]
  },
  {
   "cell_type": "code",
   "execution_count": 234,
   "metadata": {},
   "outputs": [
    {
     "name": "stdout",
     "output_type": "stream",
     "text": [
      "\n",
      "=== Quality Report ===\n",
      "Accuracy: \t 0.994\n",
      "Precision: \t 0.365\n",
      "Recall: \t 0.675\n",
      "f1_score: \t 0.474\n",
      "ROC-AUC: \t 0.835\n",
      "Cohen Кappa: \t 0.471\n",
      "======================\n",
      "\n"
     ]
    }
   ],
   "source": [
    "knnQuality = quality_report(pred, y_test)"
   ]
  },
  {
   "cell_type": "markdown",
   "metadata": {},
   "source": [
    "Здесь получили низкий precision, что, по-видимому говорит о том, что метод KNN плохо подходит."
   ]
  }
 ],
 "metadata": {
  "kernelspec": {
   "display_name": "Python 3",
   "language": "python",
   "name": "python3"
  },
  "language_info": {
   "codemirror_mode": {
    "name": "ipython",
    "version": 3
   },
   "file_extension": ".py",
   "mimetype": "text/x-python",
   "name": "python",
   "nbconvert_exporter": "python",
   "pygments_lexer": "ipython3",
   "version": "3.7.4"
  }
 },
 "nbformat": 4,
 "nbformat_minor": 2
}
