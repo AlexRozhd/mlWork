{
 "cells": [
  {
   "cell_type": "code",
   "execution_count": 1,
   "metadata": {},
   "outputs": [],
   "source": [
    "import pandas as pd\n",
    "import numpy as np\n",
    "import matplotlib.pyplot as plt\n",
    "import seaborn as sns\n",
    "from math import sqrt\n",
    "from sklearn.preprocessing import MinMaxScaler\n",
    "from sklearn.model_selection import train_test_split\n",
    "from sklearn.linear_model import LinearRegression\n",
    "from sklearn.linear_model import Ridge\n",
    "from sklearn.linear_model import Lasso\n",
    "from sklearn.linear_model import ElasticNet\n",
    "%matplotlib inline"
   ]
  },
  {
   "cell_type": "code",
   "execution_count": 2,
   "metadata": {},
   "outputs": [],
   "source": [
    "df = pd.read_csv('AB_NYC_2019.csv')"
   ]
  },
  {
   "cell_type": "code",
   "execution_count": 3,
   "metadata": {
    "scrolled": true
   },
   "outputs": [
    {
     "name": "stdout",
     "output_type": "stream",
     "text": [
      "<class 'pandas.core.frame.DataFrame'>\n",
      "RangeIndex: 48895 entries, 0 to 48894\n",
      "Data columns (total 16 columns):\n",
      "id                                48895 non-null int64\n",
      "name                              48879 non-null object\n",
      "host_id                           48895 non-null int64\n",
      "host_name                         48874 non-null object\n",
      "neighbourhood_group               48895 non-null object\n",
      "neighbourhood                     48895 non-null object\n",
      "latitude                          48895 non-null float64\n",
      "longitude                         48895 non-null float64\n",
      "room_type                         48895 non-null object\n",
      "price                             48895 non-null int64\n",
      "minimum_nights                    48895 non-null int64\n",
      "number_of_reviews                 48895 non-null int64\n",
      "last_review                       38843 non-null object\n",
      "reviews_per_month                 38843 non-null float64\n",
      "calculated_host_listings_count    48895 non-null int64\n",
      "availability_365                  48895 non-null int64\n",
      "dtypes: float64(3), int64(7), object(6)\n",
      "memory usage: 6.0+ MB\n"
     ]
    }
   ],
   "source": [
    "df.info()"
   ]
  },
  {
   "cell_type": "code",
   "execution_count": 4,
   "metadata": {},
   "outputs": [
    {
     "data": {
      "text/plain": [
       "neighbourhood_group                   0\n",
       "neighbourhood                         0\n",
       "latitude                              0\n",
       "longitude                             0\n",
       "room_type                             0\n",
       "price                                 0\n",
       "minimum_nights                        0\n",
       "number_of_reviews                     0\n",
       "reviews_per_month                 10052\n",
       "calculated_host_listings_count        0\n",
       "availability_365                      0\n",
       "dtype: int64"
      ]
     },
     "execution_count": 4,
     "metadata": {},
     "output_type": "execute_result"
    }
   ],
   "source": [
    "# Удалим столбцы 'id','name','host_id','host_name','last_review' как неинформативные для цены\n",
    "df.drop(['id','name','host_id','host_name','last_review'],axis=1,inplace=True)\n",
    "# Посчитаем количество пропусков\n",
    "df.isnull().sum()"
   ]
  },
  {
   "cell_type": "code",
   "execution_count": 5,
   "metadata": {},
   "outputs": [],
   "source": [
    "# Пропущенные значения для reviews_per_month заменили нулями\n",
    "df.loc[df['reviews_per_month'].isnull(),'reviews_per_month']=0"
   ]
  },
  {
   "cell_type": "code",
   "execution_count": 6,
   "metadata": {},
   "outputs": [],
   "source": [
    "# Удалим строки с нулевой ценой\n",
    "df=df[df['price']>0]"
   ]
  },
  {
   "cell_type": "code",
   "execution_count": 7,
   "metadata": {},
   "outputs": [],
   "source": [
    "# Обновим индексы\n",
    "df.reset_index(drop=True,inplace=True)"
   ]
  },
  {
   "cell_type": "code",
   "execution_count": 8,
   "metadata": {},
   "outputs": [],
   "source": [
    "# Введем столбец center_distance - удаленность от центра Нью-Йорка\n",
    "df['center_distance']=np.sqrt((df['latitude']-40.7)**2+(df['longitude']+74)**2)"
   ]
  },
  {
   "cell_type": "code",
   "execution_count": 9,
   "metadata": {},
   "outputs": [],
   "source": [
    "# Удалим ненужные более колонки географических координат жилья\n",
    "df.drop(['latitude','longitude'],axis=1,inplace=True)"
   ]
  },
  {
   "cell_type": "code",
   "execution_count": 10,
   "metadata": {},
   "outputs": [
    {
     "data": {
      "text/html": [
       "<div>\n",
       "<style scoped>\n",
       "    .dataframe tbody tr th:only-of-type {\n",
       "        vertical-align: middle;\n",
       "    }\n",
       "\n",
       "    .dataframe tbody tr th {\n",
       "        vertical-align: top;\n",
       "    }\n",
       "\n",
       "    .dataframe thead th {\n",
       "        text-align: right;\n",
       "    }\n",
       "</style>\n",
       "<table border=\"1\" class=\"dataframe\">\n",
       "  <thead>\n",
       "    <tr style=\"text-align: right;\">\n",
       "      <th></th>\n",
       "      <th>neighbourhood_group</th>\n",
       "      <th>neighbourhood</th>\n",
       "      <th>room_type</th>\n",
       "      <th>price</th>\n",
       "      <th>minimum_nights</th>\n",
       "      <th>number_of_reviews</th>\n",
       "      <th>reviews_per_month</th>\n",
       "      <th>calculated_host_listings_count</th>\n",
       "      <th>availability_365</th>\n",
       "      <th>center_distance</th>\n",
       "    </tr>\n",
       "  </thead>\n",
       "  <tbody>\n",
       "    <tr>\n",
       "      <td>0</td>\n",
       "      <td>Brooklyn</td>\n",
       "      <td>Kensington</td>\n",
       "      <td>Private room</td>\n",
       "      <td>149</td>\n",
       "      <td>1</td>\n",
       "      <td>9</td>\n",
       "      <td>0.21</td>\n",
       "      <td>6</td>\n",
       "      <td>365</td>\n",
       "      <td>0.059336</td>\n",
       "    </tr>\n",
       "    <tr>\n",
       "      <td>1</td>\n",
       "      <td>Manhattan</td>\n",
       "      <td>Midtown</td>\n",
       "      <td>Entire home/apt</td>\n",
       "      <td>225</td>\n",
       "      <td>1</td>\n",
       "      <td>45</td>\n",
       "      <td>0.38</td>\n",
       "      <td>2</td>\n",
       "      <td>355</td>\n",
       "      <td>0.056022</td>\n",
       "    </tr>\n",
       "    <tr>\n",
       "      <td>2</td>\n",
       "      <td>Manhattan</td>\n",
       "      <td>Harlem</td>\n",
       "      <td>Private room</td>\n",
       "      <td>150</td>\n",
       "      <td>3</td>\n",
       "      <td>0</td>\n",
       "      <td>0.00</td>\n",
       "      <td>1</td>\n",
       "      <td>365</td>\n",
       "      <td>0.123535</td>\n",
       "    </tr>\n",
       "    <tr>\n",
       "      <td>3</td>\n",
       "      <td>Brooklyn</td>\n",
       "      <td>Clinton Hill</td>\n",
       "      <td>Entire home/apt</td>\n",
       "      <td>89</td>\n",
       "      <td>1</td>\n",
       "      <td>270</td>\n",
       "      <td>4.64</td>\n",
       "      <td>1</td>\n",
       "      <td>194</td>\n",
       "      <td>0.042896</td>\n",
       "    </tr>\n",
       "    <tr>\n",
       "      <td>4</td>\n",
       "      <td>Manhattan</td>\n",
       "      <td>East Harlem</td>\n",
       "      <td>Entire home/apt</td>\n",
       "      <td>80</td>\n",
       "      <td>10</td>\n",
       "      <td>9</td>\n",
       "      <td>0.10</td>\n",
       "      <td>1</td>\n",
       "      <td>0</td>\n",
       "      <td>0.113320</td>\n",
       "    </tr>\n",
       "    <tr>\n",
       "      <td>5</td>\n",
       "      <td>Manhattan</td>\n",
       "      <td>Murray Hill</td>\n",
       "      <td>Entire home/apt</td>\n",
       "      <td>200</td>\n",
       "      <td>3</td>\n",
       "      <td>74</td>\n",
       "      <td>0.59</td>\n",
       "      <td>1</td>\n",
       "      <td>129</td>\n",
       "      <td>0.053828</td>\n",
       "    </tr>\n",
       "    <tr>\n",
       "      <td>6</td>\n",
       "      <td>Brooklyn</td>\n",
       "      <td>Bedford-Stuyvesant</td>\n",
       "      <td>Private room</td>\n",
       "      <td>60</td>\n",
       "      <td>45</td>\n",
       "      <td>49</td>\n",
       "      <td>0.40</td>\n",
       "      <td>1</td>\n",
       "      <td>0</td>\n",
       "      <td>0.045953</td>\n",
       "    </tr>\n",
       "    <tr>\n",
       "      <td>7</td>\n",
       "      <td>Manhattan</td>\n",
       "      <td>Hell's Kitchen</td>\n",
       "      <td>Private room</td>\n",
       "      <td>79</td>\n",
       "      <td>2</td>\n",
       "      <td>430</td>\n",
       "      <td>3.47</td>\n",
       "      <td>1</td>\n",
       "      <td>220</td>\n",
       "      <td>0.066617</td>\n",
       "    </tr>\n",
       "    <tr>\n",
       "      <td>8</td>\n",
       "      <td>Manhattan</td>\n",
       "      <td>Upper West Side</td>\n",
       "      <td>Private room</td>\n",
       "      <td>79</td>\n",
       "      <td>2</td>\n",
       "      <td>118</td>\n",
       "      <td>0.99</td>\n",
       "      <td>1</td>\n",
       "      <td>0</td>\n",
       "      <td>0.106925</td>\n",
       "    </tr>\n",
       "    <tr>\n",
       "      <td>9</td>\n",
       "      <td>Manhattan</td>\n",
       "      <td>Chinatown</td>\n",
       "      <td>Entire home/apt</td>\n",
       "      <td>150</td>\n",
       "      <td>1</td>\n",
       "      <td>160</td>\n",
       "      <td>1.33</td>\n",
       "      <td>4</td>\n",
       "      <td>188</td>\n",
       "      <td>0.016534</td>\n",
       "    </tr>\n",
       "  </tbody>\n",
       "</table>\n",
       "</div>"
      ],
      "text/plain": [
       "  neighbourhood_group       neighbourhood        room_type  price  \\\n",
       "0            Brooklyn          Kensington     Private room    149   \n",
       "1           Manhattan             Midtown  Entire home/apt    225   \n",
       "2           Manhattan              Harlem     Private room    150   \n",
       "3            Brooklyn        Clinton Hill  Entire home/apt     89   \n",
       "4           Manhattan         East Harlem  Entire home/apt     80   \n",
       "5           Manhattan         Murray Hill  Entire home/apt    200   \n",
       "6            Brooklyn  Bedford-Stuyvesant     Private room     60   \n",
       "7           Manhattan      Hell's Kitchen     Private room     79   \n",
       "8           Manhattan     Upper West Side     Private room     79   \n",
       "9           Manhattan           Chinatown  Entire home/apt    150   \n",
       "\n",
       "   minimum_nights  number_of_reviews  reviews_per_month  \\\n",
       "0               1                  9               0.21   \n",
       "1               1                 45               0.38   \n",
       "2               3                  0               0.00   \n",
       "3               1                270               4.64   \n",
       "4              10                  9               0.10   \n",
       "5               3                 74               0.59   \n",
       "6              45                 49               0.40   \n",
       "7               2                430               3.47   \n",
       "8               2                118               0.99   \n",
       "9               1                160               1.33   \n",
       "\n",
       "   calculated_host_listings_count  availability_365  center_distance  \n",
       "0                               6               365         0.059336  \n",
       "1                               2               355         0.056022  \n",
       "2                               1               365         0.123535  \n",
       "3                               1               194         0.042896  \n",
       "4                               1                 0         0.113320  \n",
       "5                               1               129         0.053828  \n",
       "6                               1                 0         0.045953  \n",
       "7                               1               220         0.066617  \n",
       "8                               1                 0         0.106925  \n",
       "9                               4               188         0.016534  "
      ]
     },
     "execution_count": 10,
     "metadata": {},
     "output_type": "execute_result"
    }
   ],
   "source": [
    "# Посмотрим на результат\n",
    "df.head(10)"
   ]
  },
  {
   "cell_type": "code",
   "execution_count": 11,
   "metadata": {},
   "outputs": [
    {
     "data": {
      "text/html": [
       "<div>\n",
       "<style scoped>\n",
       "    .dataframe tbody tr th:only-of-type {\n",
       "        vertical-align: middle;\n",
       "    }\n",
       "\n",
       "    .dataframe tbody tr th {\n",
       "        vertical-align: top;\n",
       "    }\n",
       "\n",
       "    .dataframe thead th {\n",
       "        text-align: right;\n",
       "    }\n",
       "</style>\n",
       "<table border=\"1\" class=\"dataframe\">\n",
       "  <thead>\n",
       "    <tr style=\"text-align: right;\">\n",
       "      <th></th>\n",
       "      <th>price</th>\n",
       "      <th>minimum_nights</th>\n",
       "      <th>number_of_reviews</th>\n",
       "      <th>reviews_per_month</th>\n",
       "      <th>calculated_host_listings_count</th>\n",
       "      <th>availability_365</th>\n",
       "      <th>center_distance</th>\n",
       "    </tr>\n",
       "  </thead>\n",
       "  <tbody>\n",
       "    <tr>\n",
       "      <td>count</td>\n",
       "      <td>48884.000000</td>\n",
       "      <td>48884.000000</td>\n",
       "      <td>48884.000000</td>\n",
       "      <td>48884.000000</td>\n",
       "      <td>48884.000000</td>\n",
       "      <td>48884.000000</td>\n",
       "      <td>48884.000000</td>\n",
       "    </tr>\n",
       "    <tr>\n",
       "      <td>mean</td>\n",
       "      <td>152.755053</td>\n",
       "      <td>7.029887</td>\n",
       "      <td>23.271991</td>\n",
       "      <td>1.090800</td>\n",
       "      <td>7.144628</td>\n",
       "      <td>112.779498</td>\n",
       "      <td>0.077284</td>\n",
       "    </tr>\n",
       "    <tr>\n",
       "      <td>std</td>\n",
       "      <td>240.170260</td>\n",
       "      <td>20.512224</td>\n",
       "      <td>44.551331</td>\n",
       "      <td>1.597213</td>\n",
       "      <td>32.956185</td>\n",
       "      <td>131.627271</td>\n",
       "      <td>0.047507</td>\n",
       "    </tr>\n",
       "    <tr>\n",
       "      <td>min</td>\n",
       "      <td>10.000000</td>\n",
       "      <td>1.000000</td>\n",
       "      <td>0.000000</td>\n",
       "      <td>0.000000</td>\n",
       "      <td>1.000000</td>\n",
       "      <td>0.000000</td>\n",
       "      <td>0.003709</td>\n",
       "    </tr>\n",
       "    <tr>\n",
       "      <td>25%</td>\n",
       "      <td>69.000000</td>\n",
       "      <td>1.000000</td>\n",
       "      <td>1.000000</td>\n",
       "      <td>0.040000</td>\n",
       "      <td>1.000000</td>\n",
       "      <td>0.000000</td>\n",
       "      <td>0.044222</td>\n",
       "    </tr>\n",
       "    <tr>\n",
       "      <td>50%</td>\n",
       "      <td>106.000000</td>\n",
       "      <td>3.000000</td>\n",
       "      <td>5.000000</td>\n",
       "      <td>0.370000</td>\n",
       "      <td>1.000000</td>\n",
       "      <td>45.000000</td>\n",
       "      <td>0.064816</td>\n",
       "    </tr>\n",
       "    <tr>\n",
       "      <td>75%</td>\n",
       "      <td>175.000000</td>\n",
       "      <td>5.000000</td>\n",
       "      <td>24.000000</td>\n",
       "      <td>1.580000</td>\n",
       "      <td>2.000000</td>\n",
       "      <td>227.000000</td>\n",
       "      <td>0.100626</td>\n",
       "    </tr>\n",
       "    <tr>\n",
       "      <td>99%</td>\n",
       "      <td>799.000000</td>\n",
       "      <td>45.000000</td>\n",
       "      <td>214.000000</td>\n",
       "      <td>6.800000</td>\n",
       "      <td>232.000000</td>\n",
       "      <td>365.000000</td>\n",
       "      <td>0.236759</td>\n",
       "    </tr>\n",
       "    <tr>\n",
       "      <td>99.9%</td>\n",
       "      <td>3000.000000</td>\n",
       "      <td>354.702000</td>\n",
       "      <td>380.585000</td>\n",
       "      <td>11.161170</td>\n",
       "      <td>327.000000</td>\n",
       "      <td>365.000000</td>\n",
       "      <td>0.271723</td>\n",
       "    </tr>\n",
       "    <tr>\n",
       "      <td>max</td>\n",
       "      <td>10000.000000</td>\n",
       "      <td>1250.000000</td>\n",
       "      <td>629.000000</td>\n",
       "      <td>58.500000</td>\n",
       "      <td>327.000000</td>\n",
       "      <td>365.000000</td>\n",
       "      <td>0.313190</td>\n",
       "    </tr>\n",
       "  </tbody>\n",
       "</table>\n",
       "</div>"
      ],
      "text/plain": [
       "              price  minimum_nights  number_of_reviews  reviews_per_month  \\\n",
       "count  48884.000000    48884.000000       48884.000000       48884.000000   \n",
       "mean     152.755053        7.029887          23.271991           1.090800   \n",
       "std      240.170260       20.512224          44.551331           1.597213   \n",
       "min       10.000000        1.000000           0.000000           0.000000   \n",
       "25%       69.000000        1.000000           1.000000           0.040000   \n",
       "50%      106.000000        3.000000           5.000000           0.370000   \n",
       "75%      175.000000        5.000000          24.000000           1.580000   \n",
       "99%      799.000000       45.000000         214.000000           6.800000   \n",
       "99.9%   3000.000000      354.702000         380.585000          11.161170   \n",
       "max    10000.000000     1250.000000         629.000000          58.500000   \n",
       "\n",
       "       calculated_host_listings_count  availability_365  center_distance  \n",
       "count                    48884.000000      48884.000000     48884.000000  \n",
       "mean                         7.144628        112.779498         0.077284  \n",
       "std                         32.956185        131.627271         0.047507  \n",
       "min                          1.000000          0.000000         0.003709  \n",
       "25%                          1.000000          0.000000         0.044222  \n",
       "50%                          1.000000         45.000000         0.064816  \n",
       "75%                          2.000000        227.000000         0.100626  \n",
       "99%                        232.000000        365.000000         0.236759  \n",
       "99.9%                      327.000000        365.000000         0.271723  \n",
       "max                        327.000000        365.000000         0.313190  "
      ]
     },
     "execution_count": 11,
     "metadata": {},
     "output_type": "execute_result"
    }
   ],
   "source": [
    "# Посмотрим базовые статистики. Видим, что есть выбросы данных \n",
    "df.describe(percentiles=[0.25, 0.75, 0.99,0.999])"
   ]
  },
  {
   "cell_type": "code",
   "execution_count": 12,
   "metadata": {},
   "outputs": [],
   "source": [
    "# Удалим строки со значением minimum_nights, большей 354\n",
    "# (то есть удалим выброс данных во второй колонке)\n",
    "df=df[df[\"minimum_nights\"]<355]\n"
   ]
  },
  {
   "cell_type": "code",
   "execution_count": 13,
   "metadata": {},
   "outputs": [
    {
     "data": {
      "image/png": "[encoded data removed]",
      "text/plain": [
       "<Figure size 432x288 with 1 Axes>"
      ]
     },
     "metadata": {
      "needs_background": "light"
     },
     "output_type": "display_data"
    }
   ],
   "source": [
    "# Функция распределения цены. Виден большой диапазон цен и неравномерное распределение предложений по ценам. \n",
    "# Возможно имеет смысл разбить предложения жилья на 2 категории - \"бюджетные\"и \"ВИП\" предложения и по каждой \n",
    "# делать прогноз.\n",
    "sns_plot = sns.distplot(df['price'])"
   ]
  },
  {
   "cell_type": "code",
   "execution_count": 14,
   "metadata": {},
   "outputs": [
    {
     "data": {
      "image/png": "[encoded data removed]",
      "text/plain": [
       "<Figure size 432x288 with 1 Axes>"
      ]
     },
     "metadata": {
      "needs_background": "light"
     },
     "output_type": "display_data"
    }
   ],
   "source": [
    "# Выделим \"бюджетную\" категорию по третьей квартили для цены\n",
    "# и далее будем ее исследовать.\n",
    "df=df[df[\"price\"]<175]\n",
    "sns_plot = sns.distplot(df['price'])"
   ]
  },
  {
   "cell_type": "code",
   "execution_count": 15,
   "metadata": {},
   "outputs": [
    {
     "data": {
      "text/html": [
       "<div>\n",
       "<style scoped>\n",
       "    .dataframe tbody tr th:only-of-type {\n",
       "        vertical-align: middle;\n",
       "    }\n",
       "\n",
       "    .dataframe tbody tr th {\n",
       "        vertical-align: top;\n",
       "    }\n",
       "\n",
       "    .dataframe thead th {\n",
       "        text-align: right;\n",
       "    }\n",
       "</style>\n",
       "<table border=\"1\" class=\"dataframe\">\n",
       "  <thead>\n",
       "    <tr style=\"text-align: right;\">\n",
       "      <th></th>\n",
       "      <th>price</th>\n",
       "      <th>minimum_nights</th>\n",
       "      <th>number_of_reviews</th>\n",
       "      <th>reviews_per_month</th>\n",
       "      <th>calculated_host_listings_count</th>\n",
       "      <th>availability_365</th>\n",
       "      <th>center_distance</th>\n",
       "    </tr>\n",
       "  </thead>\n",
       "  <tbody>\n",
       "    <tr>\n",
       "      <td>price</td>\n",
       "      <td>1.000000</td>\n",
       "      <td>0.014341</td>\n",
       "      <td>0.030370</td>\n",
       "      <td>-0.021428</td>\n",
       "      <td>0.039994</td>\n",
       "      <td>-0.007176</td>\n",
       "      <td>-0.250592</td>\n",
       "    </tr>\n",
       "    <tr>\n",
       "      <td>minimum_nights</td>\n",
       "      <td>0.014341</td>\n",
       "      <td>1.000000</td>\n",
       "      <td>-0.105947</td>\n",
       "      <td>-0.166516</td>\n",
       "      <td>0.202507</td>\n",
       "      <td>0.154264</td>\n",
       "      <td>-0.062778</td>\n",
       "    </tr>\n",
       "    <tr>\n",
       "      <td>number_of_reviews</td>\n",
       "      <td>0.030370</td>\n",
       "      <td>-0.105947</td>\n",
       "      <td>1.000000</td>\n",
       "      <td>0.603102</td>\n",
       "      <td>-0.049094</td>\n",
       "      <td>0.197398</td>\n",
       "      <td>0.043517</td>\n",
       "    </tr>\n",
       "    <tr>\n",
       "      <td>reviews_per_month</td>\n",
       "      <td>-0.021428</td>\n",
       "      <td>-0.166516</td>\n",
       "      <td>0.603102</td>\n",
       "      <td>1.000000</td>\n",
       "      <td>-0.052453</td>\n",
       "      <td>0.179811</td>\n",
       "      <td>0.142291</td>\n",
       "    </tr>\n",
       "    <tr>\n",
       "      <td>calculated_host_listings_count</td>\n",
       "      <td>0.039994</td>\n",
       "      <td>0.202507</td>\n",
       "      <td>-0.049094</td>\n",
       "      <td>-0.052453</td>\n",
       "      <td>1.000000</td>\n",
       "      <td>0.198115</td>\n",
       "      <td>-0.039960</td>\n",
       "    </tr>\n",
       "    <tr>\n",
       "      <td>availability_365</td>\n",
       "      <td>-0.007176</td>\n",
       "      <td>0.154264</td>\n",
       "      <td>0.197398</td>\n",
       "      <td>0.179811</td>\n",
       "      <td>0.198115</td>\n",
       "      <td>1.000000</td>\n",
       "      <td>0.167390</td>\n",
       "    </tr>\n",
       "    <tr>\n",
       "      <td>center_distance</td>\n",
       "      <td>-0.250592</td>\n",
       "      <td>-0.062778</td>\n",
       "      <td>0.043517</td>\n",
       "      <td>0.142291</td>\n",
       "      <td>-0.039960</td>\n",
       "      <td>0.167390</td>\n",
       "      <td>1.000000</td>\n",
       "    </tr>\n",
       "  </tbody>\n",
       "</table>\n",
       "</div>"
      ],
      "text/plain": [
       "                                   price  minimum_nights  number_of_reviews  \\\n",
       "price                           1.000000        0.014341           0.030370   \n",
       "minimum_nights                  0.014341        1.000000          -0.105947   \n",
       "number_of_reviews               0.030370       -0.105947           1.000000   \n",
       "reviews_per_month              -0.021428       -0.166516           0.603102   \n",
       "calculated_host_listings_count  0.039994        0.202507          -0.049094   \n",
       "availability_365               -0.007176        0.154264           0.197398   \n",
       "center_distance                -0.250592       -0.062778           0.043517   \n",
       "\n",
       "                                reviews_per_month  \\\n",
       "price                                   -0.021428   \n",
       "minimum_nights                          -0.166516   \n",
       "number_of_reviews                        0.603102   \n",
       "reviews_per_month                        1.000000   \n",
       "calculated_host_listings_count          -0.052453   \n",
       "availability_365                         0.179811   \n",
       "center_distance                          0.142291   \n",
       "\n",
       "                                calculated_host_listings_count  \\\n",
       "price                                                 0.039994   \n",
       "minimum_nights                                        0.202507   \n",
       "number_of_reviews                                    -0.049094   \n",
       "reviews_per_month                                    -0.052453   \n",
       "calculated_host_listings_count                        1.000000   \n",
       "availability_365                                      0.198115   \n",
       "center_distance                                      -0.039960   \n",
       "\n",
       "                                availability_365  center_distance  \n",
       "price                                  -0.007176        -0.250592  \n",
       "minimum_nights                          0.154264        -0.062778  \n",
       "number_of_reviews                       0.197398         0.043517  \n",
       "reviews_per_month                       0.179811         0.142291  \n",
       "calculated_host_listings_count          0.198115        -0.039960  \n",
       "availability_365                        1.000000         0.167390  \n",
       "center_distance                         0.167390         1.000000  "
      ]
     },
     "execution_count": 15,
     "metadata": {},
     "output_type": "execute_result"
    }
   ],
   "source": [
    "# Найдем попарную корреляцию числовых признаков\n",
    "Corr=df.corr()\n",
    "Corr\n",
    "# Видим, что цена слабо коррелирует с остальными признаками.\n",
    "# Наибольшая зависимость наблюдается от расстояния до центра."
   ]
  },
  {
   "cell_type": "code",
   "execution_count": 16,
   "metadata": {},
   "outputs": [
    {
     "data": {
      "text/plain": [
       "<matplotlib.axes._subplots.AxesSubplot at 0x7fdb79460490>"
      ]
     },
     "execution_count": 16,
     "metadata": {},
     "output_type": "execute_result"
    },
    {
     "data": {
      "image/png": "[encoded data removed]",
      "text/plain": [
       "<Figure size 1440x864 with 2 Axes>"
      ]
     },
     "metadata": {
      "needs_background": "light"
     },
     "output_type": "display_data"
    }
   ],
   "source": [
    "#Построим heatmap. Видим то же самое,т.е. цена слабо с остальными признаками.\n",
    "plt.figure(figsize=(20,12))\n",
    "sns.heatmap(Corr)"
   ]
  },
  {
   "cell_type": "code",
   "execution_count": 17,
   "metadata": {},
   "outputs": [],
   "source": [
    "# Закодируем категориальные данные\n",
    "dfd=pd.get_dummies(df)"
   ]
  },
  {
   "cell_type": "code",
   "execution_count": 18,
   "metadata": {},
   "outputs": [
    {
     "data": {
      "text/html": [
       "<div>\n",
       "<style scoped>\n",
       "    .dataframe tbody tr th:only-of-type {\n",
       "        vertical-align: middle;\n",
       "    }\n",
       "\n",
       "    .dataframe tbody tr th {\n",
       "        vertical-align: top;\n",
       "    }\n",
       "\n",
       "    .dataframe thead th {\n",
       "        text-align: right;\n",
       "    }\n",
       "</style>\n",
       "<table border=\"1\" class=\"dataframe\">\n",
       "  <thead>\n",
       "    <tr style=\"text-align: right;\">\n",
       "      <th></th>\n",
       "      <th>price</th>\n",
       "      <th>minimum_nights</th>\n",
       "      <th>number_of_reviews</th>\n",
       "      <th>reviews_per_month</th>\n",
       "      <th>calculated_host_listings_count</th>\n",
       "      <th>availability_365</th>\n",
       "      <th>center_distance</th>\n",
       "      <th>neighbourhood_group_Bronx</th>\n",
       "      <th>neighbourhood_group_Brooklyn</th>\n",
       "      <th>neighbourhood_group_Manhattan</th>\n",
       "      <th>...</th>\n",
       "      <th>neighbourhood_Whitestone</th>\n",
       "      <th>neighbourhood_Williamsbridge</th>\n",
       "      <th>neighbourhood_Williamsburg</th>\n",
       "      <th>neighbourhood_Windsor Terrace</th>\n",
       "      <th>neighbourhood_Woodhaven</th>\n",
       "      <th>neighbourhood_Woodlawn</th>\n",
       "      <th>neighbourhood_Woodside</th>\n",
       "      <th>room_type_Entire home/apt</th>\n",
       "      <th>room_type_Private room</th>\n",
       "      <th>room_type_Shared room</th>\n",
       "    </tr>\n",
       "  </thead>\n",
       "  <tbody>\n",
       "    <tr>\n",
       "      <td>0</td>\n",
       "      <td>149</td>\n",
       "      <td>1</td>\n",
       "      <td>9</td>\n",
       "      <td>0.21</td>\n",
       "      <td>6</td>\n",
       "      <td>365</td>\n",
       "      <td>0.059336</td>\n",
       "      <td>0</td>\n",
       "      <td>1</td>\n",
       "      <td>0</td>\n",
       "      <td>...</td>\n",
       "      <td>0</td>\n",
       "      <td>0</td>\n",
       "      <td>0</td>\n",
       "      <td>0</td>\n",
       "      <td>0</td>\n",
       "      <td>0</td>\n",
       "      <td>0</td>\n",
       "      <td>0</td>\n",
       "      <td>1</td>\n",
       "      <td>0</td>\n",
       "    </tr>\n",
       "    <tr>\n",
       "      <td>2</td>\n",
       "      <td>150</td>\n",
       "      <td>3</td>\n",
       "      <td>0</td>\n",
       "      <td>0.00</td>\n",
       "      <td>1</td>\n",
       "      <td>365</td>\n",
       "      <td>0.123535</td>\n",
       "      <td>0</td>\n",
       "      <td>0</td>\n",
       "      <td>1</td>\n",
       "      <td>...</td>\n",
       "      <td>0</td>\n",
       "      <td>0</td>\n",
       "      <td>0</td>\n",
       "      <td>0</td>\n",
       "      <td>0</td>\n",
       "      <td>0</td>\n",
       "      <td>0</td>\n",
       "      <td>0</td>\n",
       "      <td>1</td>\n",
       "      <td>0</td>\n",
       "    </tr>\n",
       "    <tr>\n",
       "      <td>3</td>\n",
       "      <td>89</td>\n",
       "      <td>1</td>\n",
       "      <td>270</td>\n",
       "      <td>4.64</td>\n",
       "      <td>1</td>\n",
       "      <td>194</td>\n",
       "      <td>0.042896</td>\n",
       "      <td>0</td>\n",
       "      <td>1</td>\n",
       "      <td>0</td>\n",
       "      <td>...</td>\n",
       "      <td>0</td>\n",
       "      <td>0</td>\n",
       "      <td>0</td>\n",
       "      <td>0</td>\n",
       "      <td>0</td>\n",
       "      <td>0</td>\n",
       "      <td>0</td>\n",
       "      <td>1</td>\n",
       "      <td>0</td>\n",
       "      <td>0</td>\n",
       "    </tr>\n",
       "    <tr>\n",
       "      <td>4</td>\n",
       "      <td>80</td>\n",
       "      <td>10</td>\n",
       "      <td>9</td>\n",
       "      <td>0.10</td>\n",
       "      <td>1</td>\n",
       "      <td>0</td>\n",
       "      <td>0.113320</td>\n",
       "      <td>0</td>\n",
       "      <td>0</td>\n",
       "      <td>1</td>\n",
       "      <td>...</td>\n",
       "      <td>0</td>\n",
       "      <td>0</td>\n",
       "      <td>0</td>\n",
       "      <td>0</td>\n",
       "      <td>0</td>\n",
       "      <td>0</td>\n",
       "      <td>0</td>\n",
       "      <td>1</td>\n",
       "      <td>0</td>\n",
       "      <td>0</td>\n",
       "    </tr>\n",
       "    <tr>\n",
       "      <td>6</td>\n",
       "      <td>60</td>\n",
       "      <td>45</td>\n",
       "      <td>49</td>\n",
       "      <td>0.40</td>\n",
       "      <td>1</td>\n",
       "      <td>0</td>\n",
       "      <td>0.045953</td>\n",
       "      <td>0</td>\n",
       "      <td>1</td>\n",
       "      <td>0</td>\n",
       "      <td>...</td>\n",
       "      <td>0</td>\n",
       "      <td>0</td>\n",
       "      <td>0</td>\n",
       "      <td>0</td>\n",
       "      <td>0</td>\n",
       "      <td>0</td>\n",
       "      <td>0</td>\n",
       "      <td>0</td>\n",
       "      <td>1</td>\n",
       "      <td>0</td>\n",
       "    </tr>\n",
       "    <tr>\n",
       "      <td>7</td>\n",
       "      <td>79</td>\n",
       "      <td>2</td>\n",
       "      <td>430</td>\n",
       "      <td>3.47</td>\n",
       "      <td>1</td>\n",
       "      <td>220</td>\n",
       "      <td>0.066617</td>\n",
       "      <td>0</td>\n",
       "      <td>0</td>\n",
       "      <td>1</td>\n",
       "      <td>...</td>\n",
       "      <td>0</td>\n",
       "      <td>0</td>\n",
       "      <td>0</td>\n",
       "      <td>0</td>\n",
       "      <td>0</td>\n",
       "      <td>0</td>\n",
       "      <td>0</td>\n",
       "      <td>0</td>\n",
       "      <td>1</td>\n",
       "      <td>0</td>\n",
       "    </tr>\n",
       "    <tr>\n",
       "      <td>8</td>\n",
       "      <td>79</td>\n",
       "      <td>2</td>\n",
       "      <td>118</td>\n",
       "      <td>0.99</td>\n",
       "      <td>1</td>\n",
       "      <td>0</td>\n",
       "      <td>0.106925</td>\n",
       "      <td>0</td>\n",
       "      <td>0</td>\n",
       "      <td>1</td>\n",
       "      <td>...</td>\n",
       "      <td>0</td>\n",
       "      <td>0</td>\n",
       "      <td>0</td>\n",
       "      <td>0</td>\n",
       "      <td>0</td>\n",
       "      <td>0</td>\n",
       "      <td>0</td>\n",
       "      <td>0</td>\n",
       "      <td>1</td>\n",
       "      <td>0</td>\n",
       "    </tr>\n",
       "    <tr>\n",
       "      <td>9</td>\n",
       "      <td>150</td>\n",
       "      <td>1</td>\n",
       "      <td>160</td>\n",
       "      <td>1.33</td>\n",
       "      <td>4</td>\n",
       "      <td>188</td>\n",
       "      <td>0.016534</td>\n",
       "      <td>0</td>\n",
       "      <td>0</td>\n",
       "      <td>1</td>\n",
       "      <td>...</td>\n",
       "      <td>0</td>\n",
       "      <td>0</td>\n",
       "      <td>0</td>\n",
       "      <td>0</td>\n",
       "      <td>0</td>\n",
       "      <td>0</td>\n",
       "      <td>0</td>\n",
       "      <td>1</td>\n",
       "      <td>0</td>\n",
       "      <td>0</td>\n",
       "    </tr>\n",
       "    <tr>\n",
       "      <td>10</td>\n",
       "      <td>135</td>\n",
       "      <td>5</td>\n",
       "      <td>53</td>\n",
       "      <td>0.43</td>\n",
       "      <td>1</td>\n",
       "      <td>6</td>\n",
       "      <td>0.108792</td>\n",
       "      <td>0</td>\n",
       "      <td>0</td>\n",
       "      <td>1</td>\n",
       "      <td>...</td>\n",
       "      <td>0</td>\n",
       "      <td>0</td>\n",
       "      <td>0</td>\n",
       "      <td>0</td>\n",
       "      <td>0</td>\n",
       "      <td>0</td>\n",
       "      <td>0</td>\n",
       "      <td>1</td>\n",
       "      <td>0</td>\n",
       "      <td>0</td>\n",
       "    </tr>\n",
       "    <tr>\n",
       "      <td>11</td>\n",
       "      <td>85</td>\n",
       "      <td>2</td>\n",
       "      <td>188</td>\n",
       "      <td>1.50</td>\n",
       "      <td>1</td>\n",
       "      <td>39</td>\n",
       "      <td>0.061807</td>\n",
       "      <td>0</td>\n",
       "      <td>0</td>\n",
       "      <td>1</td>\n",
       "      <td>...</td>\n",
       "      <td>0</td>\n",
       "      <td>0</td>\n",
       "      <td>0</td>\n",
       "      <td>0</td>\n",
       "      <td>0</td>\n",
       "      <td>0</td>\n",
       "      <td>0</td>\n",
       "      <td>0</td>\n",
       "      <td>1</td>\n",
       "      <td>0</td>\n",
       "    </tr>\n",
       "  </tbody>\n",
       "</table>\n",
       "<p>10 rows × 231 columns</p>\n",
       "</div>"
      ],
      "text/plain": [
       "    price  minimum_nights  number_of_reviews  reviews_per_month  \\\n",
       "0     149               1                  9               0.21   \n",
       "2     150               3                  0               0.00   \n",
       "3      89               1                270               4.64   \n",
       "4      80              10                  9               0.10   \n",
       "6      60              45                 49               0.40   \n",
       "7      79               2                430               3.47   \n",
       "8      79               2                118               0.99   \n",
       "9     150               1                160               1.33   \n",
       "10    135               5                 53               0.43   \n",
       "11     85               2                188               1.50   \n",
       "\n",
       "    calculated_host_listings_count  availability_365  center_distance  \\\n",
       "0                                6               365         0.059336   \n",
       "2                                1               365         0.123535   \n",
       "3                                1               194         0.042896   \n",
       "4                                1                 0         0.113320   \n",
       "6                                1                 0         0.045953   \n",
       "7                                1               220         0.066617   \n",
       "8                                1                 0         0.106925   \n",
       "9                                4               188         0.016534   \n",
       "10                               1                 6         0.108792   \n",
       "11                               1                39         0.061807   \n",
       "\n",
       "    neighbourhood_group_Bronx  neighbourhood_group_Brooklyn  \\\n",
       "0                           0                             1   \n",
       "2                           0                             0   \n",
       "3                           0                             1   \n",
       "4                           0                             0   \n",
       "6                           0                             1   \n",
       "7                           0                             0   \n",
       "8                           0                             0   \n",
       "9                           0                             0   \n",
       "10                          0                             0   \n",
       "11                          0                             0   \n",
       "\n",
       "    neighbourhood_group_Manhattan  ...  neighbourhood_Whitestone  \\\n",
       "0                               0  ...                         0   \n",
       "2                               1  ...                         0   \n",
       "3                               0  ...                         0   \n",
       "4                               1  ...                         0   \n",
       "6                               0  ...                         0   \n",
       "7                               1  ...                         0   \n",
       "8                               1  ...                         0   \n",
       "9                               1  ...                         0   \n",
       "10                              1  ...                         0   \n",
       "11                              1  ...                         0   \n",
       "\n",
       "    neighbourhood_Williamsbridge  neighbourhood_Williamsburg  \\\n",
       "0                              0                           0   \n",
       "2                              0                           0   \n",
       "3                              0                           0   \n",
       "4                              0                           0   \n",
       "6                              0                           0   \n",
       "7                              0                           0   \n",
       "8                              0                           0   \n",
       "9                              0                           0   \n",
       "10                             0                           0   \n",
       "11                             0                           0   \n",
       "\n",
       "    neighbourhood_Windsor Terrace  neighbourhood_Woodhaven  \\\n",
       "0                               0                        0   \n",
       "2                               0                        0   \n",
       "3                               0                        0   \n",
       "4                               0                        0   \n",
       "6                               0                        0   \n",
       "7                               0                        0   \n",
       "8                               0                        0   \n",
       "9                               0                        0   \n",
       "10                              0                        0   \n",
       "11                              0                        0   \n",
       "\n",
       "    neighbourhood_Woodlawn  neighbourhood_Woodside  room_type_Entire home/apt  \\\n",
       "0                        0                       0                          0   \n",
       "2                        0                       0                          0   \n",
       "3                        0                       0                          1   \n",
       "4                        0                       0                          1   \n",
       "6                        0                       0                          0   \n",
       "7                        0                       0                          0   \n",
       "8                        0                       0                          0   \n",
       "9                        0                       0                          1   \n",
       "10                       0                       0                          1   \n",
       "11                       0                       0                          0   \n",
       "\n",
       "    room_type_Private room  room_type_Shared room  \n",
       "0                        1                      0  \n",
       "2                        1                      0  \n",
       "3                        0                      0  \n",
       "4                        0                      0  \n",
       "6                        1                      0  \n",
       "7                        1                      0  \n",
       "8                        1                      0  \n",
       "9                        0                      0  \n",
       "10                       0                      0  \n",
       "11                       1                      0  \n",
       "\n",
       "[10 rows x 231 columns]"
      ]
     },
     "execution_count": 18,
     "metadata": {},
     "output_type": "execute_result"
    }
   ],
   "source": [
    "dfd.head(10)"
   ]
  },
  {
   "cell_type": "code",
   "execution_count": 19,
   "metadata": {},
   "outputs": [],
   "source": [
    "# Найдем попарную корреляцию всех данных\n",
    "Corrd=dfd.corr()"
   ]
  },
  {
   "cell_type": "code",
   "execution_count": 20,
   "metadata": {},
   "outputs": [
    {
     "name": "stdout",
     "output_type": "stream",
     "text": [
      "price 1.0\n",
      "center_distance -0.2505916922968879\n",
      "neighbourhood_group_Manhattan 0.2673799812901363\n",
      "neighbourhood_group_Queens -0.1519982948118608\n",
      "room_type_Entire home/apt 0.6138841221453706\n",
      "room_type_Private room -0.5449014353206257\n",
      "room_type_Shared room -0.17441402069901005\n"
     ]
    }
   ],
   "source": [
    "# Выбираем признаки, у которых корреляция с ценой больше 0.15 по\n",
    "# абсолютной величине\n",
    "for j in Corrd.index[abs(Corrd['price']) > 0.15]:\n",
    "       print (j, Corrd['price'][Corrd.index == j].values[0])"
   ]
  },
  {
   "cell_type": "code",
   "execution_count": 21,
   "metadata": {},
   "outputs": [],
   "source": [
    "# Выделим их в качестве объясняющих переменных для регрессии\n",
    "X=dfd[['center_distance','neighbourhood_group_Manhattan','neighbourhood_group_Queens','room_type_Entire home/apt','room_type_Private room','room_type_Shared room']]"
   ]
  },
  {
   "cell_type": "code",
   "execution_count": 22,
   "metadata": {},
   "outputs": [],
   "source": [
    "# Зависимая переменная - цена\n",
    "y=dfd['price']"
   ]
  },
  {
   "cell_type": "code",
   "execution_count": 23,
   "metadata": {},
   "outputs": [],
   "source": [
    "# Разбиваем выборку на обучающую 70% и тестовую 30% \n",
    "X_train, X_test, y_train, y_test = train_test_split (X, y, test_size=0.3, random_state=42)"
   ]
  },
  {
   "cell_type": "code",
   "execution_count": 24,
   "metadata": {},
   "outputs": [],
   "source": [
    "# Нормализуем данные\n",
    "scaler = MinMaxScaler()\n",
    "X_train_scaled = scaler.fit_transform(X_train)\n",
    "X_test_scaled = scaler.transform(X_test)"
   ]
  },
  {
   "cell_type": "code",
   "execution_count": 25,
   "metadata": {},
   "outputs": [],
   "source": [
    "# Обучаем модель линейной регессии\n",
    "lr = LinearRegression().fit(X_train, y_train)"
   ]
  },
  {
   "cell_type": "code",
   "execution_count": 26,
   "metadata": {},
   "outputs": [
    {
     "data": {
      "text/plain": [
       "0.48112821069988143"
      ]
     },
     "execution_count": 26,
     "metadata": {},
     "output_type": "execute_result"
    }
   ],
   "source": [
    "#Оценим качество модели с помощью метода score, который для регрессионных моделей возвращает значение \n",
    "#коэффициента детерминации R^2. Видим, что он невелик, значит связь между переменными слабая.\n",
    "lr_train=lr.score(X_train, y_train)\n",
    "lr_train"
   ]
  },
  {
   "cell_type": "code",
   "execution_count": 27,
   "metadata": {},
   "outputs": [
    {
     "data": {
      "text/plain": [
       "0.4789893255067593"
      ]
     },
     "execution_count": 27,
     "metadata": {},
     "output_type": "execute_result"
    }
   ],
   "source": [
    "# Оценим качество модели и на тестовых выборках\n",
    "lr_test=lr.score(X_test, y_test)\n",
    "lr_test\n",
    "# Здесь коэфициент детерминации почти такой же, как на обучающих данных.\n"
   ]
  },
  {
   "cell_type": "code",
   "execution_count": 28,
   "metadata": {},
   "outputs": [
    {
     "name": "stdout",
     "output_type": "stream",
     "text": [
      "lr.coef_: [-1.65801120e+02  1.93742292e+01  5.81208093e+00 -8.98520507e+13\n",
      " -8.98520507e+13 -8.98520507e+13]\n",
      "lr.intercept_: 89852050723672.53\n"
     ]
    }
   ],
   "source": [
    "# Выведем список коэффициентов модели линейно регрессии. Видим очень большие коэффициенты при 4, 5 и 6 признаках.\n",
    "# Это скорее всего означает, что матрица X^T*X (обратная к которой используется при вычислении коэффициентов\n",
    "# линейной регрессии в МНК) имеет определитель близкий к нулю. Попробуем сделать регуляризацию.\n",
    "print(\"lr.coef_: {}\".format(lr.coef_))\n",
    "print(\"lr.intercept_: {}\".format(lr.intercept_))"
   ]
  },
  {
   "cell_type": "code",
   "execution_count": 29,
   "metadata": {},
   "outputs": [],
   "source": [
    "#Гребневая регрессия\n",
    "ridge = Ridge(alpha=0.1).fit(X_train, y_train)"
   ]
  },
  {
   "cell_type": "code",
   "execution_count": 30,
   "metadata": {},
   "outputs": [
    {
     "data": {
      "text/plain": [
       "0.481128129202157"
      ]
     },
     "execution_count": 30,
     "metadata": {},
     "output_type": "execute_result"
    }
   ],
   "source": [
    "# Вычисляем коэффициент детерминации на обучающей\n",
    "ridge_train=ridge.score(X_train, y_train)\n",
    "ridge_train"
   ]
  },
  {
   "cell_type": "code",
   "execution_count": 31,
   "metadata": {},
   "outputs": [
    {
     "data": {
      "text/plain": [
       "0.47898404598625477"
      ]
     },
     "execution_count": 31,
     "metadata": {},
     "output_type": "execute_result"
    }
   ],
   "source": [
    "# и на тестовых выборках\n",
    "ridge_test=ridge.score(X_test, y_test)\n",
    "ridge_test\n",
    "# Они примерно совпадают и мало отличаются от простой линейной регрессии. Не видно улучшения."
   ]
  },
  {
   "cell_type": "code",
   "execution_count": 32,
   "metadata": {},
   "outputs": [
    {
     "name": "stdout",
     "output_type": "stream",
     "text": [
      "ridge.coef_: [-165.33006131   19.35511179    5.78018051   36.63229128   -7.88574802\n",
      "  -28.7465434 ]\n",
      "ridge.intercept_: 87.96696581214924\n"
     ]
    }
   ],
   "source": [
    "# Зато коэффициенты гребневой регрессии значительно меньше, чем у линейной.\n",
    "print(\"ridge.coef_: {}\".format(ridge.coef_))\n",
    "print(\"ridge.intercept_: {}\".format(ridge.intercept_))"
   ]
  },
  {
   "cell_type": "code",
   "execution_count": 33,
   "metadata": {},
   "outputs": [],
   "source": [
    "# Попробуем регуляризацию лассо. \n",
    "lasso = Lasso(alpha=0.1).fit(X_train, y_train)"
   ]
  },
  {
   "cell_type": "code",
   "execution_count": 34,
   "metadata": {},
   "outputs": [
    {
     "data": {
      "text/plain": [
       "0.4763357359330493"
      ]
     },
     "execution_count": 34,
     "metadata": {},
     "output_type": "execute_result"
    }
   ],
   "source": [
    "# Оценим регуляризацию лассо. Картина почти такая же, как при гребневой регрессии.\n",
    "lasso_train=lasso.score(X_train, y_train)\n",
    "lasso_train"
   ]
  },
  {
   "cell_type": "code",
   "execution_count": 35,
   "metadata": {},
   "outputs": [
    {
     "data": {
      "text/plain": [
       "0.4744354303777515"
      ]
     },
     "execution_count": 35,
     "metadata": {},
     "output_type": "execute_result"
    }
   ],
   "source": [
    "lasso_test=lasso.score(X_test, y_test)\n",
    "lasso_test"
   ]
  },
  {
   "cell_type": "code",
   "execution_count": 36,
   "metadata": {},
   "outputs": [
    {
     "name": "stdout",
     "output_type": "stream",
     "text": [
      "Количество использованных признаков: 5\n"
     ]
    }
   ],
   "source": [
    "# Коэффициент при одном признаке занулился\n",
    "print(\"Количество использованных признаков: {}\".format(np.sum(lasso.coef_ != 0)))"
   ]
  },
  {
   "cell_type": "code",
   "execution_count": 37,
   "metadata": {},
   "outputs": [
    {
     "name": "stdout",
     "output_type": "stream",
     "text": [
      "lasso.coef_: [-107.93782631   17.9918361     0.70460686   44.59681397    0.\n",
      "  -17.49399085]\n",
      "lasso.intercept_: 76.35339332039459\n"
     ]
    }
   ],
   "source": [
    "print(\"lasso.coef_: {}\".format(lasso.coef_))\n",
    "print(\"lasso.intercept_: {}\".format(lasso.intercept_))"
   ]
  },
  {
   "cell_type": "code",
   "execution_count": 52,
   "metadata": {},
   "outputs": [],
   "source": [
    "# Применим Elastic Net, чтобы объединить штрафы  гребневой регрессии и лассо. \n",
    "elastic = ElasticNet(alpha=0.01).fit(X_train, y_train)"
   ]
  },
  {
   "cell_type": "code",
   "execution_count": 53,
   "metadata": {},
   "outputs": [
    {
     "data": {
      "text/plain": [
       "0.4612008088035996"
      ]
     },
     "execution_count": 53,
     "metadata": {},
     "output_type": "execute_result"
    }
   ],
   "source": [
    "# Меняя параметр alpha, можно заметить, что чем он ближе к 0, тем коэффициент Детерминации больше. Остановимся на \n",
    "# alpha = 0.01, т.е. сделаем Elastic Net ближе к гребневой регрессии, чем к лассо.\n",
    "elastic_train=elastic.score(X_train, y_train)\n",
    "elastic_train"
   ]
  },
  {
   "cell_type": "code",
   "execution_count": 54,
   "metadata": {},
   "outputs": [
    {
     "data": {
      "text/plain": [
       "0.4596554511215034"
      ]
     },
     "execution_count": 54,
     "metadata": {},
     "output_type": "execute_result"
    }
   ],
   "source": [
    "# Оценим качество Elastic Net на тестовой выборке. Картина всё та же.\n",
    "elastic_test=elastic.score(X_test, y_test)\n",
    "elastic_test"
   ]
  },
  {
   "cell_type": "code",
   "execution_count": 55,
   "metadata": {},
   "outputs": [
    {
     "name": "stdout",
     "output_type": "stream",
     "text": [
      "elastic.coef_: [-44.34742201  17.52655215  -2.54697187  35.73295801  -8.97325173\n",
      " -25.54597532]\n",
      "elastic.intercept_: 80.56502080063039\n"
     ]
    }
   ],
   "source": [
    "#посмотрим на коэффициенты\n",
    "print(\"elastic.coef_: {}\".format(elastic.coef_))\n",
    "print(\"elastic.intercept_: {}\".format(elastic.intercept_))"
   ]
  },
  {
   "cell_type": "code",
   "execution_count": 42,
   "metadata": {},
   "outputs": [
    {
     "data": {
      "text/plain": [
       "<matplotlib.legend.Legend at 0x7fdb780f72d0>"
      ]
     },
     "execution_count": 42,
     "metadata": {},
     "output_type": "execute_result"
    },
    {
     "data": {
      "image/png": "[encoded data removed]",
      "text/plain": [
       "<Figure size 432x288 with 1 Axes>"
      ]
     },
     "metadata": {
      "needs_background": "light"
     },
     "output_type": "display_data"
    }
   ],
   "source": [
    "#Визуализируем коэффициенты линейной регрессии. Видим, что 3 коэффициента не нарисованы, т.к. очень большие\n",
    "plt.plot(lr.coef_, 'o', label=\"Линейная регрессия\")\n",
    "plt.xlabel(\"Индекс коэффициента\")\n",
    "plt.ylabel(\"Оценка коэффициента\")\n",
    "plt.hlines(0, 0, len(lr.coef_))\n",
    "plt.ylim(-200, 45)\n",
    "plt.legend()"
   ]
  },
  {
   "cell_type": "code",
   "execution_count": 43,
   "metadata": {},
   "outputs": [
    {
     "data": {
      "text/plain": [
       "<matplotlib.legend.Legend at 0x7fdb7832fb90>"
      ]
     },
     "execution_count": 43,
     "metadata": {},
     "output_type": "execute_result"
    },
    {
     "data": {
      "image/png": "[encoded data removed]",
      "text/plain": [
       "<Figure size 432x288 with 1 Axes>"
      ]
     },
     "metadata": {
      "needs_background": "light"
     },
     "output_type": "display_data"
    }
   ],
   "source": [
    "#Визуализируем коэффициенты гребневой регрессии. Видим, что все коэффициенты влезли на рисунок, т.е. стали меньше,\n",
    "# но первый коэффициент (при center_distance) по сравнениию с другими велик по модулю.\n",
    "plt.plot(ridge.coef_, 'v', label=\"Гребневая регрессия\")\n",
    "plt.xlabel(\"Индекс коэффициента\")\n",
    "plt.ylabel(\"Оценка коэффициента\")\n",
    "plt.hlines(0, 0, len(ridge.coef_))\n",
    "plt.ylim(-200, 45)\n",
    "plt.legend()"
   ]
  },
  {
   "cell_type": "code",
   "execution_count": 44,
   "metadata": {},
   "outputs": [
    {
     "data": {
      "text/plain": [
       "<matplotlib.legend.Legend at 0x7fdb78270910>"
      ]
     },
     "execution_count": 44,
     "metadata": {},
     "output_type": "execute_result"
    },
    {
     "data": {
      "image/png": "[encoded data removed]",
      "text/plain": [
       "<Figure size 432x288 with 1 Axes>"
      ]
     },
     "metadata": {
      "needs_background": "light"
     },
     "output_type": "display_data"
    }
   ],
   "source": [
    "#Визуализируем коэффициенты регрессии лассо. Видим, что коэффициенты уже меньше разбросаны, чем у первых двух регрессий\n",
    "plt.plot(lasso.coef_, '>', label=\"Лассо\")\n",
    "plt.xlabel(\"Индекс коэффициента\")\n",
    "plt.ylabel(\"Оценка коэффициента\")\n",
    "plt.hlines(0, 0, len(lasso.coef_))\n",
    "plt.ylim(-200, 45)\n",
    "plt.legend()"
   ]
  },
  {
   "cell_type": "code",
   "execution_count": 57,
   "metadata": {},
   "outputs": [
    {
     "data": {
      "text/plain": [
       "<matplotlib.legend.Legend at 0x7fdb788ad2d0>"
      ]
     },
     "execution_count": 57,
     "metadata": {},
     "output_type": "execute_result"
    },
    {
     "data": {
      "image/png": "[encoded data removed]",
      "text/plain": [
       "<Figure size 432x288 with 1 Axes>"
      ]
     },
     "metadata": {
      "needs_background": "light"
     },
     "output_type": "display_data"
    }
   ],
   "source": [
    "#Визуализируем коэффициенты ElasticNet. Видим, что все коэффициенты по модулю ещё больше сблизились.\n",
    "plt.plot(elastic.coef_, 'x', label=\"ElasticNet\")\n",
    "plt.xlabel(\"Индекс коэффициента\")\n",
    "plt.ylabel(\"Оценка коэффициента\")\n",
    "plt.hlines(0, 0, len(elastic.coef_))\n",
    "plt.ylim(-200, 45)\n",
    "plt.legend()"
   ]
  },
  {
   "cell_type": "code",
   "execution_count": null,
   "metadata": {},
   "outputs": [],
   "source": []
  },
  {
   "cell_type": "code",
   "execution_count": null,
   "metadata": {},
   "outputs": [],
   "source": []
  }
 ],
 "metadata": {
  "kernelspec": {
   "display_name": "Python 3",
   "language": "python",
   "name": "python3"
  },
  "language_info": {
   "codemirror_mode": {
    "name": "ipython",
    "version": 3
   },
   "file_extension": ".py",
   "mimetype": "text/x-python",
   "name": "python",
   "nbconvert_exporter": "python",
   "pygments_lexer": "ipython3",
   "version": "3.7.4"
  }
 },
 "nbformat": 4,
 "nbformat_minor": 2
}
